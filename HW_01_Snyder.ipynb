{
 "cells": [
  {
   "cell_type": "markdown",
   "id": "62ee15e5-7d8b-489a-a56b-2e3c4f4d8f24",
   "metadata": {},
   "source": [
    "# DSCI 503 - Homework 01\n",
    "### Matt Snyder"
   ]
  },
  {
   "cell_type": "markdown",
   "id": "b6bc16a0-8661-4941-9e94-6f62b42405a1",
   "metadata": {},
   "source": [
    "## Problem 1: Arithmetic and Geometric Means"
   ]
  },
  {
   "cell_type": "code",
   "execution_count": 1,
   "id": "2f447caf-4550-4aeb-b6d4-ab0a937e7988",
   "metadata": {},
   "outputs": [
    {
     "name": "stdout",
     "output_type": "stream",
     "text": [
      "Sum:             59  \n",
      "Product:         42636 \n",
      "Arithmetic Mean: 14.75 \n",
      "Geometric Mean:  14.37 \n",
      "\n"
     ]
    }
   ],
   "source": [
    "# Create variables named x0, x1, x2, and x3 to store the values 11, 12, 17, and 19 (in that order).\n",
    "x0 = 11\n",
    "x1 = 12\n",
    "x2 = 17\n",
    "x3 = 19\n",
    "\n",
    "# Use the addition operator + to calculate the sum of the variables created in Part 1. Store the result in a variable named total. (Note that sum is reserved for a built-in function, and should not be used as a variable name.)\n",
    "total = x0 + x1 + x2 + x3\n",
    "\n",
    "# Use the multiplication operator * to find the product of the variables created in Part 1. Store the result in a variable named product.\n",
    "product = x0 * x1 * x2 * x3\n",
    "\n",
    "# Use the variable total to calculate the arithmetic mean of the variables created in Part 1. Store the results in a variable named arith_mean.\n",
    "arith_mean = total / 4\n",
    "\n",
    "# Use the variable product to calculate the geometric mean of the variables created in Part 1. Store the results in a variable named geom_mean.\n",
    "geom_mean = product**(1/4)\n",
    "\n",
    "# Print the results with descriptive text output as shown below... Arithmetic Mean: xxxx\n",
    "\n",
    "# right side of output\n",
    "sum_right_justified = (f'{total:<4}'.rjust(21, ' ')) # left align to width of four, and right justify the whole thing\n",
    "product_right_justified = (f'{product:<6}'.rjust(23, ' ')) # width 6 (four is not enough for product)\n",
    "arith_mean_right_justified = (f'{arith_mean:<6.2f}'.rjust(23, ' '))\n",
    "geom_mean_right_justified = (f'{geom_mean:<6.2f}'.rjust(23, ' '))\n",
    "\n",
    "# left side of output\n",
    "sum_label = \"Sum:\"\n",
    "product_label = \"Product:\"\n",
    "arith_mean_label = \"Arithmetic Mean:\"\n",
    "geom_mean_label = \"Geometric Mean:\"\n",
    "\n",
    "# combine left and right\n",
    "line_1 = f'{sum_label + sum_right_justified[len(sum_label):]}'\n",
    "line_2 = f'{product_label + product_right_justified[len(product_label):]}'\n",
    "line_3 = f'{arith_mean_label + arith_mean_right_justified[len(arith_mean_label):]}'\n",
    "line_4 = f'{geom_mean_label + geom_mean_right_justified[len(geom_mean_label):]}'\n",
    "\n",
    "# output\n",
    "print (f\"\"\"{line_1}\n",
    "{line_2}\n",
    "{line_3}\n",
    "{line_4}\n",
    "\"\"\")\n",
    "\n",
    "\n"
   ]
  },
  {
   "cell_type": "markdown",
   "id": "a1a26021-eb3a-4b3b-a106-35370b5aab91",
   "metadata": {},
   "source": [
    "## Problem 2: Calculating Bill"
   ]
  },
  {
   "cell_type": "code",
   "execution_count": 2,
   "id": "56536ad1-b7db-4a27-925c-bcf423123040",
   "metadata": {},
   "outputs": [
    {
     "name": "stdout",
     "output_type": "stream",
     "text": [
      "2 Side Salads:   $7.90\n",
      "2 Hamburgers:   $17.90\n",
      "2 Diet Sodas:    $5.00\n",
      "----------------------\n",
      "Subtotal:       $30.80\n",
      "Tax:             $1.46\n",
      "Tip:             $4.62\n",
      "----------------------\n",
      "Total Charge:   $36.88\n",
      "\n"
     ]
    }
   ],
   "source": [
    "# Assume also that the side salads cost $3.95 each, the hamburgers cost $8.95 each, and the sodas cost $2.50 each. Assume that the sales tax rate is 4.75% and the customers left a 15% tip.\n",
    "item_count = 2\n",
    "\n",
    "# Use the * operator to calculate the total cost of the side salads. Store the result in a variable named ss_cost.\n",
    "ss_cost = 3.95 * item_count\n",
    "\n",
    "# Use the * operator to calculate the total cost of the hamburgers. Store the result in a variable named hb_cost.\n",
    "hb_cost = 8.95 * item_count\n",
    "\n",
    "# Use the * operator to calculate the total cost of the diet sodas. Store the result in a variable named ds_cost.\n",
    "ds_cost = 2.50 * item_count\n",
    "\n",
    "# Add the variables created in Steps 1 – 3, storing the results in a variable named subtotal.\n",
    "subtotal = ss_cost + hb_cost + ds_cost\n",
    "\n",
    "# Calculate the tax charge by multiplying the subtotal by 0.0475. Round this result to 2 decimal places, and store the rounded value in a variable named tax.\n",
    "tax = round(subtotal * 0.0475, 2)\n",
    "\n",
    "# Calculate the tip amount by multiplying the subtotal by 0.15. Round this result to 2 decimal places, and store the rounded value in a variable named tip.\n",
    "tip = round(subtotal * 0.15, 2)\n",
    "\n",
    "# Calculate the total charge by adding the subtotal, the tax charge, and the tip amount. Store the result in a variable named total_charge.\n",
    "total_charge = subtotal + tax + tip\n",
    "\n",
    "# Print the results with descriptive text output as shown below. \n",
    "dashed_line = '----------------------'\n",
    "\n",
    "# right side of output\n",
    "salads_rj = (f'${ss_cost:.2f}'.rjust(22, ' ')) # right justified, not left aligned\n",
    "hamburgers_rj = (f'${hb_cost:.2f}'.rjust(22, ' ')) # right justified, not left aligned\n",
    "sodas_rj = (f'${ds_cost:.2f}'.rjust(22, ' ')) # right justified, not left aligned\n",
    "subtotal_rj = (f'${subtotal:.2f}'.rjust(22, ' ')) # right justified, not left aligned\n",
    "tax_rj = (f'${tax:.2f}'.rjust(22, ' ')) # right justified, not left aligned\n",
    "tip_rj = (f'${tip:.2f}'.rjust(22, ' ')) # right justified, not left aligned\n",
    "total_rj = (f'${total_charge:.2f}'.rjust(22, ' ')) # right justified, not left aligned\n",
    "\n",
    "# left side of output\n",
    "salads_label = f\"{item_count} Side Salads:\"\n",
    "hamburgers_label = f\"{item_count} Hamburgers:\"\n",
    "sodas_label = f\"{item_count} Diet Sodas:\"\n",
    "subtotal_label = f\"Subtotal:\"\n",
    "tax_label = f\"Tax:\"\n",
    "tip_label = f\"Tip:\"\n",
    "total_label = f\"Total Charge:\"\n",
    "\n",
    "# combine left and right\n",
    "line_1 = f'{salads_label + salads_rj[len(salads_label):]}'\n",
    "line_2 = f'{hamburgers_label + hamburgers_rj[len(hamburgers_label):]}'\n",
    "line_3 = f'{sodas_label + sodas_rj[len(sodas_label):]}'\n",
    "line_4 = dashed_line\n",
    "line_5 = f'{subtotal_label + subtotal_rj[len(subtotal_label):]}'\n",
    "line_6 = f'{tax_label + tax_rj[len(tax_label):]}'\n",
    "line_7 = f'{tip_label + tip_rj[len(tip_label):]}'\n",
    "line_8 = dashed_line\n",
    "line_9 = f'{total_label + total_rj[len(total_label):]}'\n",
    "\n",
    "print (f\"\"\"{line_1}\n",
    "{line_2}\n",
    "{line_3}\n",
    "{line_4}\n",
    "{line_5}\n",
    "{line_6}\n",
    "{line_7}\n",
    "{line_8}\n",
    "{line_9}\n",
    "\"\"\")\n"
   ]
  },
  {
   "cell_type": "markdown",
   "id": "b1d69cf7-b8c7-4696-8e74-ee9f64d1daed",
   "metadata": {},
   "source": [
    "## Problem 3: Volume of a Sphere"
   ]
  },
  {
   "cell_type": "code",
   "execution_count": 3,
   "id": "6efc714e-7b25-4db6-8815-ce2af17bb5e1",
   "metadata": {},
   "outputs": [
    {
     "name": "stdout",
     "output_type": "stream",
     "text": [
      "The volume of a sphere with radius 4.6 is equal to 407.720\n",
      "The volume of a sphere with radius 7.2 is equal to 1563.456\n",
      "The volume of a sphere with radius 9.7 is equal to 3822.992\n"
     ]
    }
   ],
   "source": [
    "# Create a variable named pi to store the value 3.14159.\n",
    "pi = 3.14159\n",
    "\n",
    "# Create three variables named r1, r2, and r3 to store the values 4.6, 7.2 and 9.7. Each of these values is intended to represent the radius of a sphere.\n",
    "r1, r2, r3 = 4.6, 7.2, 9.7\n",
    "\n",
    "# Use the variables created in Parts 1 and 2 to calculate the volumes of the spheres with the given radii. Store the results in variables named v1, v2, and v3. Do not round the values stored in these variables.\n",
    "v1 = (4/3)*pi*r1**3\n",
    "v2 = (4/3)*pi*r2**3\n",
    "v3 = (4/3)*pi*r3**3\n",
    "\n",
    "# Print the results using three message in format shown below, with the xxxx symbols... Round the displayed values for the volumes to 3 decimal places\n",
    "print (f'The volume of a sphere with radius {r1} is equal to {v1:.3f}')\n",
    "print (f'The volume of a sphere with radius {r2} is equal to {v2:.3f}')\n",
    "print (f'The volume of a sphere with radius {r3} is equal to {v3:.3f}')"
   ]
  },
  {
   "cell_type": "markdown",
   "id": "fae8f4e2-0d9c-47cb-bd3d-6fc99aed660f",
   "metadata": {},
   "source": [
    "## Problem 4: Simple Interest"
   ]
  },
  {
   "cell_type": "code",
   "execution_count": 4,
   "id": "617d9e3e-5af3-4146-a5c7-6a9dce4006f3",
   "metadata": {},
   "outputs": [
    {
     "name": "stdout",
     "output_type": "stream",
     "text": [
      "Amount repaid: $225.75\n"
     ]
    }
   ],
   "source": [
    "# Suppose that a loan of $210 collects simple interest at an annual rate of 0.09 and is repaid after 10 months (i.e. 10/12 of a year).\n",
    "\n",
    "# Create variables P, i, and t to store the relevant values for this loan.\n",
    "P, i, t = 210.0, 0.09, 10/12\n",
    "\n",
    "# Use the variables created in Step 1 above to calculate the repayment amount, storing the result in a variable A.\n",
    "A = P * (1 + (i*t))\n",
    "\n",
    "# Print the result in a message using the format shown below, with the xxxx symbols replaced with the appropriate value.\n",
    "print (f'Amount repaid: ${A:.2f}')\n",
    "\n",
    "\n",
    "\n",
    "\n",
    "\n"
   ]
  },
  {
   "cell_type": "markdown",
   "id": "abdd3944-fa19-4dae-9ff5-e73296d020c4",
   "metadata": {},
   "source": [
    "## Problem 5: Compound Interest"
   ]
  },
  {
   "cell_type": "code",
   "execution_count": 5,
   "id": "cdbab195-22c0-47d8-b13c-7c337b16a2a9",
   "metadata": {},
   "outputs": [
    {
     "name": "stdout",
     "output_type": "stream",
     "text": [
      "Amount repaid: $463.05\n"
     ]
    }
   ],
   "source": [
    "# Suppose that a loan of $400 collects compound interest at an annual rate of 0.05 and is repaid after 3 years.\n",
    "\n",
    "# Create variables P, i, and t to store the relevant values for this loan.\n",
    "P, i, t = 400.0, 0.05, 3\n",
    "\n",
    "# Use the variables created in Step 1 above to calculate the repayment amount, storing the result in a variable A.\n",
    "A = P * (1+i)**t\n",
    "\n",
    "# Round your result to 2 decimal places.\n",
    "A = round(A, 2)\n",
    "\n",
    "# Print the result in a message using the format shown below, with the xxxx symbols replaced with the appropriate value.\n",
    "print (f'Amount repaid: ${A:.2f}')\n"
   ]
  },
  {
   "cell_type": "markdown",
   "id": "8abb757c-962a-43b5-9dea-7686e2a3990a",
   "metadata": {},
   "source": [
    "## Problem 6: Annuity"
   ]
  },
  {
   "cell_type": "code",
   "execution_count": 6,
   "id": "372df3d0-d3c6-4997-9c53-82bde05769f6",
   "metadata": {},
   "outputs": [
    {
     "name": "stdout",
     "output_type": "stream",
     "text": [
      "Balance after 18 years: $51290.83\n"
     ]
    }
   ],
   "source": [
    "# Suppose a couple establishes a college fund for their newborn child by depositing $2000 into an account collecting interest at an annual effective rate of 0.04 for 18 years.\n",
    "\n",
    "# Create variables PMT, i, and n to store the relevant values for this loan.\n",
    "PMT, i, n = 2000.0, 0.04, 18\n",
    "\n",
    "# Use the variables created in Step 1 above to calculate the repayment amount, storing the result in a variable A.\n",
    "A = PMT * ((1+i)**n - 1) / i\n",
    "\n",
    "# Round your result to 2 decimal places.\n",
    "A = round(A, 2)\n",
    "\n",
    "# Print the result in a message using the following format shown below, with the xxxx symbols replaced with the appropriate value.\n",
    "print (f'Balance after 18 years: ${A:.2f}')"
   ]
  },
  {
   "cell_type": "markdown",
   "id": "28b26f20-b67d-4b0e-b1d9-1e64dbfc27b1",
   "metadata": {},
   "source": [
    "## Problem 7: Probability"
   ]
  },
  {
   "cell_type": "code",
   "execution_count": 7,
   "id": "a6282a03-b64f-4ea1-9150-d9f4ac7108d9",
   "metadata": {},
   "outputs": [
    {
     "name": "stdout",
     "output_type": "stream",
     "text": [
      "Probability that both people are late:        0.18\n",
      "Probability that at least one person is late: 0.72\n",
      "\n"
     ]
    }
   ],
   "source": [
    "# Assume that Allen and Beth are meeting for dinner. The probability that Allen is late is equal to 0.6. The probability that Beth is late is equal to 0.3. Whether or not one person is late is independent of whether or not the other person is late.\n",
    "\n",
    "# Create a variable named prob_A to store the probability that Allen is late. Create a variable named prob_B to store the probability that Beth is late.\n",
    "prob_A, prob_B = 0.6, 0.3\n",
    "\n",
    "# Use the formulas provided above to calculate the probability that both people are late, \n",
    "#   as well as the probability that at least one of the two people is late. \n",
    "#   Store the results in variables named prob_A_and_B and prob_A_or_B. \n",
    "#   Use the variables you created in Step 1 for your calculations.\n",
    "prob_A_and_B = prob_A * prob_B\n",
    "prob_A_or_B = prob_A + prob_B - prob_A_and_B\n",
    "\n",
    "# Print the following messages, with the xxxx symbols replaced with the appropriate values. \n",
    "# print ('Probability that at least one person is late: xxxx')\n",
    "\n",
    "# right side of output\n",
    "prob_A_and_B_right = (f'{prob_A_and_B:<.2f}'.rjust(50, ' ')) # numbers left aligned\n",
    "prob_A_or_B_right = (f'{prob_A_or_B:<.2f}'.rjust(50, ' ')) # numbers left aligned\n",
    "\n",
    "# left side of output\n",
    "prob_A_and_B_label = \"Probability that both people are late:\"\n",
    "prob_A_or_B_label = \"Probability that at least one person is late:\"\n",
    "\n",
    "# combine left and right\n",
    "line_1 = f'{prob_A_and_B_label + prob_A_and_B_right[len(prob_A_and_B_label):]}'\n",
    "line_2 = f'{prob_A_or_B_label + prob_A_or_B_right[len(prob_A_or_B_label):]}'\n",
    "\n",
    "# output\n",
    "print (f\"\"\"{line_1}\n",
    "{line_2}\n",
    "\"\"\")\n"
   ]
  },
  {
   "cell_type": "markdown",
   "id": "5ddd87ca-16f6-45ff-8fb5-88aeacb797fb",
   "metadata": {},
   "source": [
    "## Problem 8: Constructing an Output Message"
   ]
  },
  {
   "cell_type": "code",
   "execution_count": 8,
   "id": "fc42cc83-7727-423a-9533-58359e386f4f",
   "metadata": {},
   "outputs": [
    {
     "name": "stdout",
     "output_type": "stream",
     "text": [
      "First Name: Matt      \n",
      "Last Name:  Snyder    \n",
      "Student ID: 1216235   \n"
     ]
    }
   ],
   "source": [
    "# Create a variable named first to store a string containing your first name.\n",
    "first = 'Matt'\n",
    "\n",
    "# Create a variable named last to store a string containing your last name.\n",
    "last = 'Snyder'\n",
    "\n",
    "# Create a variable named sid to store an integer containing your student ID number. Ignore any leading zeros in your ID number.\n",
    "sid = 1216235\n",
    "\n",
    "# Use the variables created above to define a variable named msg. This variable should contain a string, that when printed, will display as shown below with the xxxx symbols replaced with the appropriate values. This will involve the use of the escape character \\n.\n",
    "# print ('First Name: xxxx')\n",
    "\n",
    "# right side of output\n",
    "line_1_right = (f'{first:<10}'.rjust(22, ' ')) #  left aligned\n",
    "line_2_right = (f'{last:<10}'.rjust(22, ' ')) #  left aligned\n",
    "line_3_right = (f'{sid:<10}'.rjust(22, ' ')) #  left aligned\n",
    "\n",
    "# left side of output\n",
    "line_1_left = \"First Name:\"\n",
    "line_2_left = \"Last Name:\"\n",
    "line_3_left = \"Student ID:\"\n",
    "\n",
    "# combine left and right\n",
    "line_1 = f'{line_1_left + line_1_right[len(line_1_left):]}'\n",
    "line_2 = f'{line_2_left + line_2_right[len(line_2_left):]}'\n",
    "line_3 = f'{line_3_left + line_3_right[len(line_3_left):]}'\n",
    "msg = line_1 + '\\n' + line_2 + '\\n' + line_3\n",
    "\n",
    "# Print msg.\n",
    "print (msg)"
   ]
  }
 ],
 "metadata": {
  "kernelspec": {
   "display_name": "Python 3 (ipykernel)",
   "language": "python",
   "name": "python3"
  },
  "language_info": {
   "codemirror_mode": {
    "name": "ipython",
    "version": 3
   },
   "file_extension": ".py",
   "mimetype": "text/x-python",
   "name": "python",
   "nbconvert_exporter": "python",
   "pygments_lexer": "ipython3",
   "version": "3.13.5"
  }
 },
 "nbformat": 4,
 "nbformat_minor": 5
}

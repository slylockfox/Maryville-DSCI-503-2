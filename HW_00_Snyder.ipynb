{
 "cells": [
  {
   "cell_type": "markdown",
   "id": "b76b6224-9191-40bb-9904-14454be93357",
   "metadata": {},
   "source": [
    "## DSCI 503 - Homework 00\n",
    "**Matt Snyder**\n",
    "Due "
   ]
  },
  {
   "cell_type": "markdown",
   "id": "2618720e-7f35-4fa5-b66d-a7ad7b86ac86",
   "metadata": {},
   "source": [
    "### Part 1: Arithmetic Operations\n",
    "In this section of the assignment, we will demonstrate the following concepts:\n",
    "* Addition\n",
    "* Subtraction\n",
    "* Multiplication\n",
    "* Division\n",
    "* Exponentiation"
   ]
  },
  {
   "cell_type": "code",
   "execution_count": 1,
   "id": "2c8b1b75-4662-4ef6-9a44-85fb1a81ae07",
   "metadata": {},
   "outputs": [
    {
     "name": "stdout",
     "output_type": "stream",
     "text": [
      "9\n"
     ]
    }
   ],
   "source": [
    "print(7 + 2)"
   ]
  },
  {
   "cell_type": "code",
   "execution_count": 2,
   "id": "f5d6c987-a506-4f76-b329-3275c6b3ec2c",
   "metadata": {},
   "outputs": [
    {
     "name": "stdout",
     "output_type": "stream",
     "text": [
      "5\n"
     ]
    }
   ],
   "source": [
    "print(7 - 2)"
   ]
  },
  {
   "cell_type": "code",
   "execution_count": 3,
   "id": "007376bb-82ee-41aa-a5bd-360ba787ec65",
   "metadata": {},
   "outputs": [
    {
     "name": "stdout",
     "output_type": "stream",
     "text": [
      "14\n"
     ]
    }
   ],
   "source": [
    "print(7 * 2)"
   ]
  },
  {
   "cell_type": "code",
   "execution_count": 4,
   "id": "0990fc9f-798c-4c74-a03e-ea63dca2a02c",
   "metadata": {},
   "outputs": [
    {
     "name": "stdout",
     "output_type": "stream",
     "text": [
      "3.5\n"
     ]
    }
   ],
   "source": [
    "print(7 / 2)"
   ]
  },
  {
   "cell_type": "code",
   "execution_count": 5,
   "id": "a215b42f-91ff-4a13-abaa-0fe63fea5c6d",
   "metadata": {},
   "outputs": [
    {
     "name": "stdout",
     "output_type": "stream",
     "text": [
      "49\n"
     ]
    }
   ],
   "source": [
    "print(7 ** 2)"
   ]
  },
  {
   "cell_type": "markdown",
   "id": "7126bdde-276c-4218-8865-ee62ed454578",
   "metadata": {},
   "source": [
    "### Part 2: Variables\n",
    "In this section of the assignment, we will demonstrate the following concepts:\n",
    "* Creating variables\n",
    "* Printing the value of variables\n",
    "* Operations with variables\n",
    "* Nonlinear execution in notebooks"
   ]
  },
  {
   "cell_type": "code",
   "execution_count": 6,
   "id": "2a589e73-b255-4c0c-9f98-fb37a4965cb9",
   "metadata": {},
   "outputs": [],
   "source": [
    "x = 91"
   ]
  },
  {
   "cell_type": "code",
   "execution_count": 7,
   "id": "9d06fe45-1b0c-43a0-817e-2aefe86b21b9",
   "metadata": {},
   "outputs": [],
   "source": [
    "x = 42"
   ]
  },
  {
   "cell_type": "code",
   "execution_count": 8,
   "id": "0d8c688b-48cd-41e0-95a1-54df16bf7806",
   "metadata": {},
   "outputs": [
    {
     "name": "stdout",
     "output_type": "stream",
     "text": [
      "42\n"
     ]
    }
   ],
   "source": [
    "print(x)"
   ]
  },
  {
   "cell_type": "code",
   "execution_count": 9,
   "id": "609df54b-356f-41c2-9a38-5c049d1b278e",
   "metadata": {},
   "outputs": [],
   "source": [
    "y=7"
   ]
  },
  {
   "cell_type": "code",
   "execution_count": 10,
   "id": "3f5eb99d-f94a-4ade-917d-031dd31cb0c9",
   "metadata": {},
   "outputs": [
    {
     "name": "stdout",
     "output_type": "stream",
     "text": [
      "7\n"
     ]
    }
   ],
   "source": [
    "print(y)"
   ]
  },
  {
   "cell_type": "code",
   "execution_count": 11,
   "id": "4a27a2a5-9f1b-4b82-9ab7-398e9b90aaad",
   "metadata": {},
   "outputs": [
    {
     "name": "stdout",
     "output_type": "stream",
     "text": [
      "6.0\n"
     ]
    }
   ],
   "source": [
    "print (x / y)"
   ]
  },
  {
   "cell_type": "markdown",
   "id": "a02189f8-f93a-4cae-87d1-ff8b761d65e9",
   "metadata": {},
   "source": [
    "### Part 3: Comments\n",
    "In this section of the assignment, we will demonstrate the following concepts:\n",
    "* Writing comments\n",
    "* Using comments to document code\n",
    "* Using comments to disable lines of code"
   ]
  },
  {
   "cell_type": "code",
   "execution_count": 12,
   "id": "d0de0fc7-c7d5-4b81-8be6-eb32454fd31e",
   "metadata": {},
   "outputs": [
    {
     "name": "stdout",
     "output_type": "stream",
     "text": [
      "7\n"
     ]
    }
   ],
   "source": [
    "# This is a comment\n",
    "print(2 + 5)"
   ]
  },
  {
   "cell_type": "code",
   "execution_count": 13,
   "id": "657f9310-8e85-497c-880a-28ca480a8509",
   "metadata": {},
   "outputs": [
    {
     "name": "stdout",
     "output_type": "stream",
     "text": [
      "2937.54\n"
     ]
    }
   ],
   "source": [
    "# In this cell, we will calculate sales revenue\n",
    "sales = 173             # Monthly widget sales\n",
    "price = 16.98           # Price per widget\n",
    "revenue = sales * price # Monthly revenue\n",
    "print(revenue)"
   ]
  },
  {
   "cell_type": "code",
   "execution_count": 14,
   "id": "61269dba-9444-427e-b54c-63992d6a9cc4",
   "metadata": {},
   "outputs": [
    {
     "name": "stdout",
     "output_type": "stream",
     "text": [
      "2.0\n",
      "3.0\n"
     ]
    }
   ],
   "source": [
    "print(12/6)\n",
    "# print(12/0)\n",
    "print(12/4)"
   ]
  },
  {
   "cell_type": "markdown",
   "id": "04e43ec9-5cf2-45a8-92f0-896ef95b3a47",
   "metadata": {},
   "source": [
    "### Part 4: Strings\n",
    "In this section of the assignment, we will demonstrate the following concepts:\n",
    "* Creating strings\n",
    "* Storing strings in variables\n",
    "* Printing multiple items"
   ]
  },
  {
   "cell_type": "code",
   "execution_count": 15,
   "id": "fefea27e-e3f6-4749-9ab5-c618341d3e83",
   "metadata": {},
   "outputs": [
    {
     "name": "stdout",
     "output_type": "stream",
     "text": [
      "Hello world!\n"
     ]
    }
   ],
   "source": [
    "print (\"Hello world!\")"
   ]
  },
  {
   "cell_type": "code",
   "execution_count": 16,
   "id": "7c3f512e-ce84-42b2-9777-0731162991d6",
   "metadata": {},
   "outputs": [
    {
     "name": "stdout",
     "output_type": "stream",
     "text": [
      "Matt Snyder\n"
     ]
    }
   ],
   "source": [
    "name = \"Matt Snyder\"\n",
    "print (name)"
   ]
  },
  {
   "cell_type": "code",
   "execution_count": 17,
   "id": "b286dbbd-29d1-4710-b16b-bedcb2b40254",
   "metadata": {},
   "outputs": [
    {
     "name": "stdout",
     "output_type": "stream",
     "text": [
      "Hello, my name is Matt Snyder.\n"
     ]
    }
   ],
   "source": [
    "print (\"Hello, my name is \", name, \".\", sep=\"\")"
   ]
  }
 ],
 "metadata": {
  "kernelspec": {
   "display_name": "Python 3 (ipykernel)",
   "language": "python",
   "name": "python3"
  },
  "language_info": {
   "codemirror_mode": {
    "name": "ipython",
    "version": 3
   },
   "file_extension": ".py",
   "mimetype": "text/x-python",
   "name": "python",
   "nbconvert_exporter": "python",
   "pygments_lexer": "ipython3",
   "version": "3.13.5"
  }
 },
 "nbformat": 4,
 "nbformat_minor": 5
}

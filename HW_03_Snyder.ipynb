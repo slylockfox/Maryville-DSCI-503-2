{
 "cells": [
  {
   "cell_type": "markdown",
   "id": "96e0b1c1-13e4-4037-bc0b-b2998496fc3b",
   "metadata": {},
   "source": [
    "# DSCI 503 - Homework 03\n",
    "### Matt Snyder"
   ]
  },
  {
   "cell_type": "markdown",
   "id": "2db7b83e-ead3-42e0-88b9-475818287b6c",
   "metadata": {},
   "source": [
    "## Problem 1: Dot Product"
   ]
  },
  {
   "cell_type": "code",
   "execution_count": 1,
   "id": "8a641837-5835-4146-a17e-828b0eacdbe9",
   "metadata": {},
   "outputs": [],
   "source": [
    "def dot_product(x: list, y: list):\n",
    "    result = 0\n",
    "    for i in range(0, len(x)):\n",
    "        result += x[i] * y[i]\n",
    "    return result"
   ]
  },
  {
   "cell_type": "code",
   "execution_count": 2,
   "id": "8f234ad1-3a83-4a54-88e5-34e70fbfeb4d",
   "metadata": {},
   "outputs": [
    {
     "name": "stdout",
     "output_type": "stream",
     "text": [
      "The dot product of v1 and v2 is 16220.\n"
     ]
    }
   ],
   "source": [
    "v1 = [38, 9, 40, 34, 20, 16, 42, 36, 12, 1, 23, 46, 31, 19, 30, 33, 16, 43, 24, 41]\n",
    "v2 = [43, 13, 35, 14, 26, 3, 36, 15, 42, 44, 45, 20, 17, 6, 47, 40, 38, 41, 31, 24]\n",
    "v1_dot_v2 = dot_product(v1, v2)\n",
    "print (f'The dot product of v1 and v2 is {v1_dot_v2}.')"
   ]
  },
  {
   "cell_type": "markdown",
   "id": "2de4112e-74c6-48fd-9e51-bc9a99427eb6",
   "metadata": {},
   "source": [
    "## Problem 2: Amortization"
   ]
  },
  {
   "cell_type": "code",
   "execution_count": 4,
   "id": "565a286b-a42a-4c99-91cb-b79e21262e4c",
   "metadata": {},
   "outputs": [],
   "source": [
    "def count_payments(amount, rate, pmt):\n",
    "    \"\"\"The parameter amount represents the initial size of a loan that is to be repaid with monthly payments. The parameter\n",
    "        rate is the monthly rate at which the loan collects interest, and pmt is the size of the monthly payment.\n",
    "    \"\"\"\n",
    "    balance = amount\n",
    "    payments = 0\n",
    "    # The loop should continue to run for as long as the balance is greater than zero.\n",
    "    while balance > 0:\n",
    "        # Calculate the new balance. This will be done by multiplying the current balance by 1+i, and then subtracting\n",
    "        # the payment amount. Store the result back into balance, rounded to 2 decimal places.\n",
    "        balance = round(balance * (1+rate) - pmt, 2)\n",
    "        # Increment a variable used to count the number of payments that have been made\n",
    "        payments += 1\n",
    "    return payments"
   ]
  },
  {
   "cell_type": "code",
   "execution_count": 8,
   "id": "40f38a70-d347-4179-a409-310d26e645c2",
   "metadata": {},
   "outputs": [
    {
     "name": "stdout",
     "output_type": "stream",
     "text": [
      "351 monthly payments of $850 would be required.\n",
      "312 monthly payments of $900 would be required.\n",
      "281 monthly payments of $950 would be required.\n",
      "256 monthly payments of $1000 would be required.\n",
      "236 monthly payments of $1050 would be required.\n"
     ]
    }
   ],
   "source": [
    "# Assume that a loan is made in the amount of $160,000 and is charged a monthly interest rate of 0.4%. Use a loop along\n",
    "# with the function count_payments() to determine the number of monthly payments that must be made in order to repay the loan\n",
    "for pmt in range(850, 1050+50, 50): # 850, 900, 950, 1000, 1050\n",
    "    payment_count = count_payments(160000, 0.4/100, pmt)\n",
    "    print (f'{payment_count} monthly payments of ${pmt} would be required.')"
   ]
  },
  {
   "cell_type": "code",
   "execution_count": 9,
   "id": "782c57a9-358a-4612-b89e-cb6f4709a08b",
   "metadata": {},
   "outputs": [
    {
     "name": "stdout",
     "output_type": "stream",
     "text": [
      "308 monthly payments of $850 would be required.\n",
      "279 monthly payments of $900 would be required.\n",
      "255 monthly payments of $950 would be required.\n",
      "235 monthly payments of $1000 would be required.\n",
      "219 monthly payments of $1050 would be required.\n"
     ]
    }
   ],
   "source": [
    "# Assume that the borrow mentioned in the previous set of instructions has an opportunity to borrow the $160,000 at a\n",
    "# lower monthly interest rate of 0.35%. Repeat the instructions from the previous cell using the new interest rate.\n",
    "for pmt in range(850, 1050+50, 50): # 850, 900, 950, 1000, 1050\n",
    "    payment_count = count_payments(160000, 0.35/100, pmt)\n",
    "    print (f'{payment_count} monthly payments of ${pmt} would be required.')"
   ]
  },
  {
   "cell_type": "markdown",
   "id": "5612c53b-4118-4319-ad33-1456b6af39bc",
   "metadata": {},
   "source": [
    "## Problem 3: Minimum"
   ]
  },
  {
   "cell_type": "code",
   "execution_count": 17,
   "id": "8fdfc987-2e9c-49df-b9fa-3f213c182f3e",
   "metadata": {},
   "outputs": [],
   "source": [
    "def minimum(x: list):\n",
    "    \"\"\" a single parameter named x, which is expected to be a list of elements of the same type. The function should \n",
    "        return the smallest element of x. The function should work on lists of integers, floats, and strings. \n",
    "        In each case, the \"smallest\" element is defined as the one with the lowest ranking with\n",
    "        respect to the < comparison operator. For strings, this should yield the earliest string when ordered alphabetically.\n",
    "    \"\"\"\n",
    "    if len (x) == 0:\n",
    "        return None\n",
    "    elif len (x) == 1:\n",
    "        return x[0]\n",
    "    else: # len at least 2\n",
    "        result = x[0]\n",
    "        for next_ele in x[1:]:\n",
    "            if next_ele < result:\n",
    "                result = next_ele\n",
    "        return result"
   ]
  },
  {
   "cell_type": "code",
   "execution_count": 26,
   "id": "8b290326-ffb3-467b-93da-6fb56c3dfd88",
   "metadata": {},
   "outputs": [
    {
     "name": "stdout",
     "output_type": "stream",
     "text": [
      "Minimum of list1 is 4.1\n",
      "Minimum of list2 is 3.4\n",
      "Minimum of list3 is Chicago\n"
     ]
    }
   ],
   "source": [
    "list1 = [9.8, 7.4, 5.6, 4.8, 4.8, 5.3, 4.1, 9.6, 5.4]\n",
    "list2 = [3.4, 7.6, 8.7, 7.5, 9.8, 7.5, 6.7, 8.7, 8.4]\n",
    "list3 = ['St. Louis', 'Kansas City', 'Chicago', 'Little Rock', 'Omaha']\n",
    "print (f'Minimum of list1 is {minimum(list1)}')\n",
    "print (f'Minimum of list2 is {minimum(list2)}')\n",
    "print (f'Minimum of list3 is {minimum(list3)}')"
   ]
  },
  {
   "cell_type": "markdown",
   "id": "adb6102f-2af3-440f-9d47-3d90dc6f0db9",
   "metadata": {},
   "source": [
    "## Problem 4: Argmin"
   ]
  },
  {
   "cell_type": "code",
   "execution_count": 22,
   "id": "952536ad-ebe0-4d8b-8e38-03d3ad14267e",
   "metadata": {},
   "outputs": [],
   "source": [
    "def argmin(x: list):\n",
    "    \"\"\" a single parameter named x, which is expected to be a list of elements of the same type. The function should \n",
    "        return the index of smallest element of x. If there are multiple elements all equal to the smallest element, \n",
    "        then the function should return the index of the first occurrence of an element with this value.\n",
    "    \"\"\"\n",
    "    if len (x) == 0:\n",
    "        return None\n",
    "    elif len (x) == 1:\n",
    "        return x[0]\n",
    "    else: # len at least 2\n",
    "        result = 0\n",
    "        for i in range(1, len(x[1:])):\n",
    "            if x[i] < x[result]:\n",
    "                result = i\n",
    "        return result"
   ]
  },
  {
   "cell_type": "code",
   "execution_count": 27,
   "id": "7ffb9f34-ca5d-48e5-a511-09d03d746aaa",
   "metadata": {},
   "outputs": [
    {
     "name": "stdout",
     "output_type": "stream",
     "text": [
      "Argmin of list1 is 6\n",
      "Argmin of list2 is 0\n",
      "Argmin of list3 is 2\n"
     ]
    }
   ],
   "source": [
    "print (f'Argmin of list1 is {argmin(list1)}')\n",
    "print (f'Argmin of list2 is {argmin(list2)}')\n",
    "print (f'Argmin of list3 is {argmin(list3)}')"
   ]
  },
  {
   "cell_type": "markdown",
   "id": "8512bfa7-9bcd-4083-ba47-f87d785a4eb3",
   "metadata": {},
   "source": [
    "## Problem 5: Find Smallest Elements"
   ]
  },
  {
   "cell_type": "code",
   "execution_count": 47,
   "id": "48eb9130-d221-465c-ac45-1f2164dc5d36",
   "metadata": {},
   "outputs": [],
   "source": [
    "def find_smallest(x: list, n = None):\n",
    "    \"\"\" If n is set to None, then the function should return the smallest element of x (not as part of a list).\n",
    "        If n is set to a positive integer, the function should return a list consisting of the smallest n elements of list x.\n",
    "        If n is greater than the length of the list x, then the entire list x should be returned.\n",
    "    \"\"\"\n",
    "    if x == None:\n",
    "        return None\n",
    "    else:\n",
    "        sorted_x = sorted(x)\n",
    "        if n == None:\n",
    "            return sorted_x[0]\n",
    "        elif n > len(x):\n",
    "            return x\n",
    "        else:\n",
    "            # not clear in problem statement, but assuming the ordering of elements in result should be same as original order\n",
    "            result = []\n",
    "            result_sorted = sorted_x[0:n]\n",
    "            for original in x:\n",
    "                if original in result_sorted:\n",
    "                    result.append(original)\n",
    "                    # remove a copy from sorted list, to ensure we don't include too many copies of dups from original\n",
    "                    result_sorted.remove(original) \n",
    "            return result"
   ]
  },
  {
   "cell_type": "code",
   "execution_count": 48,
   "id": "5cda6daa-1855-427d-bd96-c86b19adcecb",
   "metadata": {},
   "outputs": [
    {
     "name": "stdout",
     "output_type": "stream",
     "text": [
      "17\n",
      "[17]\n",
      "[28, 17]\n",
      "[39, 28, 17, 28, 53]\n",
      "[39, 74, 28, 64, 17, 28, 54, 53]\n"
     ]
    }
   ],
   "source": [
    "# Create a list named my_list containing the values 39, 74, 28, 64, 17, 28, 54, 53 (in that order). Print the results of each\n",
    "# of the following function calls.\n",
    "my_list = [39, 74, 28, 64, 17, 28, 54, 53]\n",
    "print (find_smallest(my_list))\n",
    "print (find_smallest(my_list, 1))\n",
    "print (find_smallest(my_list, 2))\n",
    "print (find_smallest(my_list, 5))\n",
    "print (find_smallest(my_list, 12))"
   ]
  },
  {
   "cell_type": "code",
   "execution_count": 38,
   "id": "20d797fe-8c98-4884-9ff1-a9d63b7a96c5",
   "metadata": {},
   "outputs": [
    {
     "name": "stdout",
     "output_type": "stream",
     "text": [
      "[39, 74]\n"
     ]
    }
   ],
   "source": [
    "print (my_list[0:2])"
   ]
  },
  {
   "cell_type": "code",
   "execution_count": null,
   "id": "3f349b17-019b-46e9-980a-5fd1c2841d1a",
   "metadata": {},
   "outputs": [],
   "source": []
  },
  {
   "cell_type": "code",
   "execution_count": null,
   "id": "6dd46aa6-317d-47a1-80e8-564a9861fb5b",
   "metadata": {},
   "outputs": [],
   "source": []
  },
  {
   "cell_type": "code",
   "execution_count": null,
   "id": "0288624a-971a-4921-8501-0702d6bd76e7",
   "metadata": {},
   "outputs": [],
   "source": []
  },
  {
   "cell_type": "code",
   "execution_count": null,
   "id": "471fb7e8-4f39-454c-a938-425c1751cfb3",
   "metadata": {},
   "outputs": [],
   "source": []
  },
  {
   "cell_type": "code",
   "execution_count": null,
   "id": "25ec5acc-355a-4487-9064-00797756a4b2",
   "metadata": {},
   "outputs": [],
   "source": []
  },
  {
   "cell_type": "code",
   "execution_count": null,
   "id": "13ec4d49-2ba8-4d9a-8922-c304c3b81c3b",
   "metadata": {},
   "outputs": [],
   "source": []
  },
  {
   "cell_type": "code",
   "execution_count": null,
   "id": "1bf19b62-3900-417f-8c61-72992f7a9024",
   "metadata": {},
   "outputs": [],
   "source": []
  },
  {
   "cell_type": "code",
   "execution_count": null,
   "id": "e865763f-6423-4283-954a-f06689ea9856",
   "metadata": {},
   "outputs": [],
   "source": []
  },
  {
   "cell_type": "code",
   "execution_count": null,
   "id": "171e994d-b422-4928-8e15-6d98bd084c24",
   "metadata": {},
   "outputs": [],
   "source": []
  },
  {
   "cell_type": "code",
   "execution_count": null,
   "id": "b6d7b415-791c-4075-8b17-5de74444e535",
   "metadata": {},
   "outputs": [],
   "source": []
  },
  {
   "cell_type": "code",
   "execution_count": null,
   "id": "7838dfaf-ae58-41c9-bc79-e2c5b1137768",
   "metadata": {},
   "outputs": [],
   "source": []
  },
  {
   "cell_type": "code",
   "execution_count": null,
   "id": "d49b2ad8-2983-4266-aee5-283e1c2384b4",
   "metadata": {},
   "outputs": [],
   "source": []
  },
  {
   "cell_type": "code",
   "execution_count": null,
   "id": "d59e5c64-f4f5-4241-b41d-aa782f8b2027",
   "metadata": {},
   "outputs": [],
   "source": []
  }
 ],
 "metadata": {
  "kernelspec": {
   "display_name": "Python 3 (ipykernel)",
   "language": "python",
   "name": "python3"
  },
  "language_info": {
   "codemirror_mode": {
    "name": "ipython",
    "version": 3
   },
   "file_extension": ".py",
   "mimetype": "text/x-python",
   "name": "python",
   "nbconvert_exporter": "python",
   "pygments_lexer": "ipython3",
   "version": "3.13.5"
  }
 },
 "nbformat": 4,
 "nbformat_minor": 5
}

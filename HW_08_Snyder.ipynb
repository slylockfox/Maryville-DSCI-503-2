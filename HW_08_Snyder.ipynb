{
 "cells": [
  {
   "cell_type": "markdown",
   "id": "a75c70ee-e871-4400-b8f1-174ec920c0b2",
   "metadata": {},
   "source": [
    "# DSCI 503 - Homework 08\n",
    "### Matt Snyder"
   ]
  },
  {
   "cell_type": "code",
   "execution_count": 1,
   "id": "155f28ab-190f-4d76-9bd1-5e06299e77a0",
   "metadata": {},
   "outputs": [],
   "source": [
    "import numpy as np\n",
    "import pandas as pd\n",
    "import matplotlib.pyplot as plt\n",
    "\n",
    "from sklearn.model_selection import train_test_split\n",
    "from sklearn.preprocessing import OneHotEncoder\n",
    "from sklearn.metrics import confusion_matrix, classification_report\n",
    "\n",
    "from sklearn.linear_model import LinearRegression,LogisticRegression\n",
    "from sklearn.tree import DecisionTreeClassifier\n",
    "from sklearn.ensemble import RandomForestClassifier"
   ]
  },
  {
   "cell_type": "markdown",
   "id": "eee209b6-6742-4edf-bf51-fda408b243e0",
   "metadata": {},
   "source": [
    "## Problem 1: Diamonds Dataset"
   ]
  },
  {
   "cell_type": "code",
   "execution_count": 2,
   "id": "34f4d8cd-7c21-4832-b984-c2c1291bcb34",
   "metadata": {},
   "outputs": [
    {
     "data": {
      "text/html": [
       "<div>\n",
       "<style scoped>\n",
       "    .dataframe tbody tr th:only-of-type {\n",
       "        vertical-align: middle;\n",
       "    }\n",
       "\n",
       "    .dataframe tbody tr th {\n",
       "        vertical-align: top;\n",
       "    }\n",
       "\n",
       "    .dataframe thead th {\n",
       "        text-align: right;\n",
       "    }\n",
       "</style>\n",
       "<table border=\"1\" class=\"dataframe\">\n",
       "  <thead>\n",
       "    <tr style=\"text-align: right;\">\n",
       "      <th></th>\n",
       "      <th>carat</th>\n",
       "      <th>cut</th>\n",
       "      <th>color</th>\n",
       "      <th>clarity</th>\n",
       "      <th>depth</th>\n",
       "      <th>table</th>\n",
       "      <th>price</th>\n",
       "      <th>x</th>\n",
       "      <th>y</th>\n",
       "      <th>z</th>\n",
       "      <th>ln_carat</th>\n",
       "      <th>ln_price</th>\n",
       "    </tr>\n",
       "  </thead>\n",
       "  <tbody>\n",
       "    <tr>\n",
       "      <th>1</th>\n",
       "      <td>0.23</td>\n",
       "      <td>Ideal</td>\n",
       "      <td>E</td>\n",
       "      <td>SI2</td>\n",
       "      <td>61.5</td>\n",
       "      <td>55.0</td>\n",
       "      <td>326</td>\n",
       "      <td>3.95</td>\n",
       "      <td>3.98</td>\n",
       "      <td>2.43</td>\n",
       "      <td>-1.469676</td>\n",
       "      <td>5.786897</td>\n",
       "    </tr>\n",
       "    <tr>\n",
       "      <th>2</th>\n",
       "      <td>0.21</td>\n",
       "      <td>Premium</td>\n",
       "      <td>E</td>\n",
       "      <td>SI1</td>\n",
       "      <td>59.8</td>\n",
       "      <td>61.0</td>\n",
       "      <td>326</td>\n",
       "      <td>3.89</td>\n",
       "      <td>3.84</td>\n",
       "      <td>2.31</td>\n",
       "      <td>-1.560648</td>\n",
       "      <td>5.786897</td>\n",
       "    </tr>\n",
       "    <tr>\n",
       "      <th>3</th>\n",
       "      <td>0.23</td>\n",
       "      <td>Good</td>\n",
       "      <td>E</td>\n",
       "      <td>VS1</td>\n",
       "      <td>56.9</td>\n",
       "      <td>65.0</td>\n",
       "      <td>327</td>\n",
       "      <td>4.05</td>\n",
       "      <td>4.07</td>\n",
       "      <td>2.31</td>\n",
       "      <td>-1.469676</td>\n",
       "      <td>5.789960</td>\n",
       "    </tr>\n",
       "    <tr>\n",
       "      <th>4</th>\n",
       "      <td>0.29</td>\n",
       "      <td>Premium</td>\n",
       "      <td>I</td>\n",
       "      <td>VS2</td>\n",
       "      <td>62.4</td>\n",
       "      <td>58.0</td>\n",
       "      <td>334</td>\n",
       "      <td>4.20</td>\n",
       "      <td>4.23</td>\n",
       "      <td>2.63</td>\n",
       "      <td>-1.237874</td>\n",
       "      <td>5.811141</td>\n",
       "    </tr>\n",
       "    <tr>\n",
       "      <th>5</th>\n",
       "      <td>0.31</td>\n",
       "      <td>Good</td>\n",
       "      <td>J</td>\n",
       "      <td>SI2</td>\n",
       "      <td>63.3</td>\n",
       "      <td>58.0</td>\n",
       "      <td>335</td>\n",
       "      <td>4.34</td>\n",
       "      <td>4.35</td>\n",
       "      <td>2.75</td>\n",
       "      <td>-1.171183</td>\n",
       "      <td>5.814131</td>\n",
       "    </tr>\n",
       "  </tbody>\n",
       "</table>\n",
       "</div>"
      ],
      "text/plain": [
       "   carat      cut color clarity  depth  table  price     x     y     z  \\\n",
       "1   0.23    Ideal     E     SI2   61.5   55.0    326  3.95  3.98  2.43   \n",
       "2   0.21  Premium     E     SI1   59.8   61.0    326  3.89  3.84  2.31   \n",
       "3   0.23     Good     E     VS1   56.9   65.0    327  4.05  4.07  2.31   \n",
       "4   0.29  Premium     I     VS2   62.4   58.0    334  4.20  4.23  2.63   \n",
       "5   0.31     Good     J     SI2   63.3   58.0    335  4.34  4.35  2.75   \n",
       "\n",
       "   ln_carat  ln_price  \n",
       "1 -1.469676  5.786897  \n",
       "2 -1.560648  5.786897  \n",
       "3 -1.469676  5.789960  \n",
       "4 -1.237874  5.811141  \n",
       "5 -1.171183  5.814131  "
      ]
     },
     "execution_count": 2,
     "metadata": {},
     "output_type": "execute_result"
    }
   ],
   "source": [
    "# Load the data stored in the tab-delimited file diamonds.txt into a DataFrame named diamonds. \n",
    "diamonds = pd.read_table('diamonds.txt')\n",
    "\n",
    "# add two new columns to diamonds named ln_carat and ln_price. These columns should contain the\n",
    "# natural logarithms of the carat and price columns. \n",
    "diamonds.loc[:, 'ln_carat'] = np.log(diamonds.carat)\n",
    "diamonds.loc[:, 'ln_price'] = np.log(diamonds.price)\n",
    "\n",
    "# Use head() to display the first 5 rows of this DataFrame.\n",
    "diamonds.head()"
   ]
  },
  {
   "cell_type": "code",
   "execution_count": 8,
   "id": "42fa758e-3d17-4255-a237-9c8b5478a9e4",
   "metadata": {},
   "outputs": [
    {
     "name": "stdout",
     "output_type": "stream",
     "text": [
      "Numerical Feature Array Shape:   (53940, 1)\n",
      "Categorical Feature Array Shape: (53940, 3)\n",
      "Label Array Shape:               (53940,)\n"
     ]
    }
   ],
   "source": [
    "# Create a 2D array named X1_num by selecting the ln_carat column from diamonds.\n",
    "X1_num = diamonds.loc[:, ['ln_carat']].values # making the column selection an array gives a 2D shape to the result\n",
    "\n",
    "# Create a 2D array named X1_cat by selecting the cut, color, and clarity columns from diamonds.\n",
    "X1_cat = diamonds.loc[:, ['cut', 'color', 'clarity']].values\n",
    "\n",
    "# Create a 1D array named y1 by selecting the ln_price column from diamonds.\n",
    "y1 = diamonds.loc[:, 'ln_price'].values\n",
    "\n",
    "# Print the shapes of all three of these arrays with messages as shown below.\n",
    "print (f'Numerical Feature Array Shape:   {X1_num.shape}')\n",
    "print (f'Categorical Feature Array Shape: {X1_cat.shape}')\n",
    "print (f'Label Array Shape:               {y1.shape}')"
   ]
  },
  {
   "cell_type": "code",
   "execution_count": 9,
   "id": "3ffd6955-e7dc-4816-99f5-6060c63f52f9",
   "metadata": {},
   "outputs": [
    {
     "name": "stdout",
     "output_type": "stream",
     "text": [
      "Encoded Feature Array Shape: (53940, 20)\n"
     ]
    }
   ],
   "source": [
    "# Create a OneHotEncoder() object setting sparse=False.\n",
    "encoder = OneHotEncoder(sparse_output=False) # sparse=False\n",
    "\n",
    "# Fit the encoder to the categorical features.\n",
    "encoder.fit(X1_cat)\n",
    "\n",
    "# Use the encoder to encode the categorical features, storing the result in a variable named X1_enc.\n",
    "X1_enc = encoder.transform(X1_cat)\n",
    "\n",
    "# Print the shape of X1_enc with a message as shown below.\n",
    "print (f'Encoded Feature Array Shape: {X1_enc.shape}')"
   ]
  },
  {
   "cell_type": "code",
   "execution_count": 11,
   "id": "609d61e5-90d0-4330-91d5-fad48396540a",
   "metadata": {},
   "outputs": [
    {
     "name": "stdout",
     "output_type": "stream",
     "text": [
      "Feature Array Shape: (53940, 21)\n"
     ]
    }
   ],
   "source": [
    "# Use np.hstack to combine X1_num and X1_enc into a single array named X1 with the numerical column\n",
    "# appearing first in the new array.\n",
    "X1 = np.hstack([X1_num, X1_enc])\n",
    "\n",
    "# 2. Print the shape of X1 with a message as shown below.\n",
    "print (f'Feature Array Shape: {X1.shape}')"
   ]
  },
  {
   "cell_type": "code",
   "execution_count": 12,
   "id": "a616de19-7373-4038-aad2-963e9becad2a",
   "metadata": {},
   "outputs": [
    {
     "name": "stdout",
     "output_type": "stream",
     "text": [
      "Training Features Shape:   (43152, 21)\n",
      "Validation Features Shape: (5394, 21)\n",
      "Test Features Shape:       (5394, 21)\n"
     ]
    }
   ],
   "source": [
    "# Use train_test_split() to split the data into training and holdout sets using an 80/20 split. Name the\n",
    "# resulting arrays X1_train, X1_hold, y1_train, and y1_hold. Set random state=1.\n",
    "X1_train, X1_hold, y1_train, y1_hold = train_test_split(X1, y1, test_size=0.2, random_state=1)\n",
    "\n",
    "# Use train_test_split() to split the holdout data into validation and test sets using a 50/50 split. Name the\n",
    "# resulting arrays X1_valid, X1_test, y1_valid, and y1_test. Set random state=1.\n",
    "X1_valid, X1_test, y1_valid, y1_test = train_test_split(X1_hold, y1_hold, test_size=0.5, random_state=1)\n",
    "\n",
    "# Print the shapes of X1_train, X1_valid, and X1_test with messages as shown below\n",
    "print (f'Training Features Shape:   {X1_train.shape}')\n",
    "print (f'Validation Features Shape: {X1_valid.shape}')\n",
    "print (f'Test Features Shape:       {X1_test.shape}')"
   ]
  },
  {
   "cell_type": "markdown",
   "id": "114c04eb-6d30-4fcb-95e0-99998a26c8fc",
   "metadata": {},
   "source": [
    "### Linear Regression Model with One Feature"
   ]
  },
  {
   "cell_type": "code",
   "execution_count": 19,
   "id": "0cb3d6d6-a5c7-41c6-9871-06647339df25",
   "metadata": {},
   "outputs": [
    {
     "name": "stdout",
     "output_type": "stream",
     "text": [
      "Training r-Squared:   0.933\n",
      "Validation r-Squared: 0.9348\n"
     ]
    }
   ],
   "source": [
    "# Create a linear regression model named dia_mod_1.\n",
    "dia_mod_1 = LinearRegression()\n",
    "\n",
    "# Fit the model to the training data, using only the first (numerical) column of X1_train.\n",
    "X_first_column = X1_train[:,0].reshape(-1, 1)\n",
    "dia_mod_1.fit(X_first_column, y1_train)\n",
    "\n",
    "# Calculate the r-squared values for the training and validation set. Note that when using the score() method\n",
    "# for this model, you will need to provide it with only the first column of the feature array.\n",
    "X_valid_first_column = X1_valid[:,0].reshape(-1, 1)\n",
    "train_r2 = dia_mod_1.score(X_first_column, y1_train)\n",
    "valid_r2 = dia_mod_1.score(X_valid_first_column, y1_valid)\n",
    "\n",
    "# Print the results with messages as shown below. Round the scores to 4 decimal places.\n",
    "print (f'Training r-Squared:   {round(train_r2, 4)}')\n",
    "print (f'Validation r-Squared: {round(valid_r2, 4)}')"
   ]
  },
  {
   "cell_type": "markdown",
   "id": "fe0e39f6-8898-417f-bf81-883228799152",
   "metadata": {},
   "source": [
    "### Linear Regression Model with Several Features"
   ]
  },
  {
   "cell_type": "code",
   "execution_count": 20,
   "id": "cd4f67ed-9092-44f8-abad-d5b2b37d01a0",
   "metadata": {},
   "outputs": [
    {
     "name": "stdout",
     "output_type": "stream",
     "text": [
      "Training r-Squared:   0.9825\n",
      "Validation r-Squared: 0.9834\n"
     ]
    }
   ],
   "source": [
    "# Create a linear regression model named dia_mod_2.\n",
    "dia_mod_2 = LinearRegression()\n",
    "\n",
    "# Fit the model to the training data using all features in X1_train.\n",
    "dia_mod_2.fit(X1_train, y1_train)\n",
    "\n",
    "# Calculate the r-squared values for the training and validation set.\n",
    "train_r2 = dia_mod_2.score(X1_train, y1_train)\n",
    "valid_r2 = dia_mod_2.score(X1_valid, y1_valid)\n",
    "\n",
    "# Print the results with messages as shown below. Round the scores to 4 decimal places.\n",
    "print (f'Training r-Squared:   {round(train_r2, 4)}')\n",
    "print (f'Validation r-Squared: {round(valid_r2, 4)}')"
   ]
  },
  {
   "cell_type": "code",
   "execution_count": 22,
   "id": "40eb55e3-c530-4437-a005-343fb276d734",
   "metadata": {},
   "outputs": [
    {
     "name": "stdout",
     "output_type": "stream",
     "text": [
      "Testing r-Squared: 0.9825\n"
     ]
    }
   ],
   "source": [
    "# Score the model dia_mod_2 using the test set.\n",
    "valid_r2 = dia_mod_2.score(X1_test, y1_test)\n",
    "\n",
    "# Print the result with a message as shown below. Round the score to 4 decimal places.\n",
    "print (f'Testing r-Squared: {round(valid_r2, 4)}')"
   ]
  },
  {
   "cell_type": "markdown",
   "id": "a275641f-58a0-444c-bf8d-5914b0bc3b2c",
   "metadata": {},
   "source": [
    "## Problem 2: Census Dataset"
   ]
  },
  {
   "cell_type": "code",
   "execution_count": 23,
   "id": "aac7589f-6f35-4bde-9b58-29d008d1746c",
   "metadata": {},
   "outputs": [
    {
     "data": {
      "text/html": [
       "<div>\n",
       "<style scoped>\n",
       "    .dataframe tbody tr th:only-of-type {\n",
       "        vertical-align: middle;\n",
       "    }\n",
       "\n",
       "    .dataframe tbody tr th {\n",
       "        vertical-align: top;\n",
       "    }\n",
       "\n",
       "    .dataframe thead th {\n",
       "        text-align: right;\n",
       "    }\n",
       "</style>\n",
       "<table border=\"1\" class=\"dataframe\">\n",
       "  <thead>\n",
       "    <tr style=\"text-align: right;\">\n",
       "      <th></th>\n",
       "      <th>age</th>\n",
       "      <th>workclass</th>\n",
       "      <th>fnlwgt</th>\n",
       "      <th>education</th>\n",
       "      <th>educ_num</th>\n",
       "      <th>marital_status</th>\n",
       "      <th>occupation</th>\n",
       "      <th>relationship</th>\n",
       "      <th>race</th>\n",
       "      <th>sex</th>\n",
       "      <th>capital_gain</th>\n",
       "      <th>capital_loss</th>\n",
       "      <th>hrs_per_week</th>\n",
       "      <th>native_country</th>\n",
       "      <th>salary</th>\n",
       "    </tr>\n",
       "  </thead>\n",
       "  <tbody>\n",
       "    <tr>\n",
       "      <th>0</th>\n",
       "      <td>39</td>\n",
       "      <td>State-gov</td>\n",
       "      <td>77516</td>\n",
       "      <td>Bachelors</td>\n",
       "      <td>13</td>\n",
       "      <td>Never-married</td>\n",
       "      <td>Adm-clerical</td>\n",
       "      <td>Not-in-family</td>\n",
       "      <td>White</td>\n",
       "      <td>Male</td>\n",
       "      <td>2174</td>\n",
       "      <td>0</td>\n",
       "      <td>40</td>\n",
       "      <td>United-States</td>\n",
       "      <td>&lt;=50K</td>\n",
       "    </tr>\n",
       "    <tr>\n",
       "      <th>1</th>\n",
       "      <td>50</td>\n",
       "      <td>Self-emp-not-inc</td>\n",
       "      <td>83311</td>\n",
       "      <td>Bachelors</td>\n",
       "      <td>13</td>\n",
       "      <td>Married-civ-spouse</td>\n",
       "      <td>Exec-managerial</td>\n",
       "      <td>Husband</td>\n",
       "      <td>White</td>\n",
       "      <td>Male</td>\n",
       "      <td>0</td>\n",
       "      <td>0</td>\n",
       "      <td>13</td>\n",
       "      <td>United-States</td>\n",
       "      <td>&lt;=50K</td>\n",
       "    </tr>\n",
       "    <tr>\n",
       "      <th>2</th>\n",
       "      <td>38</td>\n",
       "      <td>Private</td>\n",
       "      <td>215646</td>\n",
       "      <td>HS-grad</td>\n",
       "      <td>9</td>\n",
       "      <td>Divorced</td>\n",
       "      <td>Handlers-cleaners</td>\n",
       "      <td>Not-in-family</td>\n",
       "      <td>White</td>\n",
       "      <td>Male</td>\n",
       "      <td>0</td>\n",
       "      <td>0</td>\n",
       "      <td>40</td>\n",
       "      <td>United-States</td>\n",
       "      <td>&lt;=50K</td>\n",
       "    </tr>\n",
       "    <tr>\n",
       "      <th>3</th>\n",
       "      <td>53</td>\n",
       "      <td>Private</td>\n",
       "      <td>234721</td>\n",
       "      <td>11th</td>\n",
       "      <td>7</td>\n",
       "      <td>Married-civ-spouse</td>\n",
       "      <td>Handlers-cleaners</td>\n",
       "      <td>Husband</td>\n",
       "      <td>Black</td>\n",
       "      <td>Male</td>\n",
       "      <td>0</td>\n",
       "      <td>0</td>\n",
       "      <td>40</td>\n",
       "      <td>United-States</td>\n",
       "      <td>&lt;=50K</td>\n",
       "    </tr>\n",
       "    <tr>\n",
       "      <th>4</th>\n",
       "      <td>28</td>\n",
       "      <td>Private</td>\n",
       "      <td>338409</td>\n",
       "      <td>Bachelors</td>\n",
       "      <td>13</td>\n",
       "      <td>Married-civ-spouse</td>\n",
       "      <td>Prof-specialty</td>\n",
       "      <td>Wife</td>\n",
       "      <td>Black</td>\n",
       "      <td>Female</td>\n",
       "      <td>0</td>\n",
       "      <td>0</td>\n",
       "      <td>40</td>\n",
       "      <td>Cuba</td>\n",
       "      <td>&lt;=50K</td>\n",
       "    </tr>\n",
       "    <tr>\n",
       "      <th>5</th>\n",
       "      <td>37</td>\n",
       "      <td>Private</td>\n",
       "      <td>284582</td>\n",
       "      <td>Masters</td>\n",
       "      <td>14</td>\n",
       "      <td>Married-civ-spouse</td>\n",
       "      <td>Exec-managerial</td>\n",
       "      <td>Wife</td>\n",
       "      <td>White</td>\n",
       "      <td>Female</td>\n",
       "      <td>0</td>\n",
       "      <td>0</td>\n",
       "      <td>40</td>\n",
       "      <td>United-States</td>\n",
       "      <td>&lt;=50K</td>\n",
       "    </tr>\n",
       "    <tr>\n",
       "      <th>6</th>\n",
       "      <td>49</td>\n",
       "      <td>Private</td>\n",
       "      <td>160187</td>\n",
       "      <td>9th</td>\n",
       "      <td>5</td>\n",
       "      <td>Married-spouse-absent</td>\n",
       "      <td>Other-service</td>\n",
       "      <td>Not-in-family</td>\n",
       "      <td>Black</td>\n",
       "      <td>Female</td>\n",
       "      <td>0</td>\n",
       "      <td>0</td>\n",
       "      <td>16</td>\n",
       "      <td>Jamaica</td>\n",
       "      <td>&lt;=50K</td>\n",
       "    </tr>\n",
       "    <tr>\n",
       "      <th>7</th>\n",
       "      <td>52</td>\n",
       "      <td>Self-emp-not-inc</td>\n",
       "      <td>209642</td>\n",
       "      <td>HS-grad</td>\n",
       "      <td>9</td>\n",
       "      <td>Married-civ-spouse</td>\n",
       "      <td>Exec-managerial</td>\n",
       "      <td>Husband</td>\n",
       "      <td>White</td>\n",
       "      <td>Male</td>\n",
       "      <td>0</td>\n",
       "      <td>0</td>\n",
       "      <td>45</td>\n",
       "      <td>United-States</td>\n",
       "      <td>&gt;50K</td>\n",
       "    </tr>\n",
       "    <tr>\n",
       "      <th>8</th>\n",
       "      <td>31</td>\n",
       "      <td>Private</td>\n",
       "      <td>45781</td>\n",
       "      <td>Masters</td>\n",
       "      <td>14</td>\n",
       "      <td>Never-married</td>\n",
       "      <td>Prof-specialty</td>\n",
       "      <td>Not-in-family</td>\n",
       "      <td>White</td>\n",
       "      <td>Female</td>\n",
       "      <td>14084</td>\n",
       "      <td>0</td>\n",
       "      <td>50</td>\n",
       "      <td>United-States</td>\n",
       "      <td>&gt;50K</td>\n",
       "    </tr>\n",
       "    <tr>\n",
       "      <th>9</th>\n",
       "      <td>42</td>\n",
       "      <td>Private</td>\n",
       "      <td>159449</td>\n",
       "      <td>Bachelors</td>\n",
       "      <td>13</td>\n",
       "      <td>Married-civ-spouse</td>\n",
       "      <td>Exec-managerial</td>\n",
       "      <td>Husband</td>\n",
       "      <td>White</td>\n",
       "      <td>Male</td>\n",
       "      <td>5178</td>\n",
       "      <td>0</td>\n",
       "      <td>40</td>\n",
       "      <td>United-States</td>\n",
       "      <td>&gt;50K</td>\n",
       "    </tr>\n",
       "  </tbody>\n",
       "</table>\n",
       "</div>"
      ],
      "text/plain": [
       "   age          workclass  fnlwgt   education  educ_num  \\\n",
       "0   39          State-gov   77516   Bachelors        13   \n",
       "1   50   Self-emp-not-inc   83311   Bachelors        13   \n",
       "2   38            Private  215646     HS-grad         9   \n",
       "3   53            Private  234721        11th         7   \n",
       "4   28            Private  338409   Bachelors        13   \n",
       "5   37            Private  284582     Masters        14   \n",
       "6   49            Private  160187         9th         5   \n",
       "7   52   Self-emp-not-inc  209642     HS-grad         9   \n",
       "8   31            Private   45781     Masters        14   \n",
       "9   42            Private  159449   Bachelors        13   \n",
       "\n",
       "           marital_status          occupation    relationship    race  \\\n",
       "0           Never-married        Adm-clerical   Not-in-family   White   \n",
       "1      Married-civ-spouse     Exec-managerial         Husband   White   \n",
       "2                Divorced   Handlers-cleaners   Not-in-family   White   \n",
       "3      Married-civ-spouse   Handlers-cleaners         Husband   Black   \n",
       "4      Married-civ-spouse      Prof-specialty            Wife   Black   \n",
       "5      Married-civ-spouse     Exec-managerial            Wife   White   \n",
       "6   Married-spouse-absent       Other-service   Not-in-family   Black   \n",
       "7      Married-civ-spouse     Exec-managerial         Husband   White   \n",
       "8           Never-married      Prof-specialty   Not-in-family   White   \n",
       "9      Married-civ-spouse     Exec-managerial         Husband   White   \n",
       "\n",
       "       sex  capital_gain  capital_loss  hrs_per_week  native_country  salary  \n",
       "0     Male          2174             0            40   United-States   <=50K  \n",
       "1     Male             0             0            13   United-States   <=50K  \n",
       "2     Male             0             0            40   United-States   <=50K  \n",
       "3     Male             0             0            40   United-States   <=50K  \n",
       "4   Female             0             0            40            Cuba   <=50K  \n",
       "5   Female             0             0            40   United-States   <=50K  \n",
       "6   Female             0             0            16         Jamaica   <=50K  \n",
       "7     Male             0             0            45   United-States    >50K  \n",
       "8   Female         14084             0            50   United-States    >50K  \n",
       "9     Male          5178             0            40   United-States    >50K  "
      ]
     },
     "execution_count": 23,
     "metadata": {},
     "output_type": "execute_result"
    }
   ],
   "source": [
    "# Load the data stored in the tab-delimited file census.txt into a DataFrame named census. \n",
    "census = pd.read_table('census.txt')\n",
    "\n",
    "# Use head() to display the first 10 rows of this DataFrame.\n",
    "census.head(10)"
   ]
  },
  {
   "cell_type": "code",
   "execution_count": 24,
   "id": "49f53fdc-edbc-4768-8c81-096f17957df8",
   "metadata": {},
   "outputs": [
    {
     "data": {
      "text/plain": [
       "(32561, 15)"
      ]
     },
     "execution_count": 24,
     "metadata": {},
     "output_type": "execute_result"
    }
   ],
   "source": [
    "# Print the shape of the census DataFrame.\n",
    "census.shape"
   ]
  },
  {
   "cell_type": "code",
   "execution_count": 85,
   "id": "45762e2d-98eb-4f6b-a565-5872ac715bb4",
   "metadata": {},
   "outputs": [
    {
     "data": {
      "text/plain": [
       "salary\n",
       "<=50K    24720\n",
       ">50K      7841\n",
       "Name: count, dtype: int64"
      ]
     },
     "execution_count": 85,
     "metadata": {},
     "output_type": "execute_result"
    }
   ],
   "source": [
    "# Without creating any new DataFrame variables, select the salary column, and then call its value_counts() method.\n",
    "val_cnts = census.loc[:,'salary'].value_counts()\n",
    "\n",
    "# Display the result.\n",
    "val_cnts.head()"
   ]
  },
  {
   "cell_type": "markdown",
   "id": "d8cd5629-2e26-4ad7-a5ce-e35ca46e8668",
   "metadata": {},
   "source": [
    "### Prepare the Data"
   ]
  },
  {
   "cell_type": "code",
   "execution_count": 56,
   "id": "4d6ac898-8b73-4d6e-b954-17c1c59dcca7",
   "metadata": {},
   "outputs": [
    {
     "name": "stdout",
     "output_type": "stream",
     "text": [
      "Numerical Feature Array Shape:   (32561, 6)\n",
      "Categorical Feature Array Shape: (32561, 8)\n",
      "Label Array Shape:               (32561,)\n"
     ]
    }
   ],
   "source": [
    "# Create a 2D array named X2_num by selecting the columns of census that represent numerical features.\n",
    "categorical_columns = ['workclass', 'education', 'marital_status', 'occupation', 'relationship', 'race', 'sex', 'native_country']\n",
    "mask = ~np.isin(census.columns, categorical_columns) # bitwise-not of is-in categorical column list\n",
    "numerical_columns = census.columns[mask]\n",
    "X2_num_df = census.loc[:, numerical_columns[:-1]] # omit salary column\n",
    "X2_num = X2_num_df.values\n",
    "\n",
    "# Create a 2D array named X2_cat by selecting the columns of census that represent categorical features.\n",
    "X2_cat = census.loc[:, categorical_columns].values\n",
    "\n",
    "# Create a 1D array named y2 by selecting the salary column.\n",
    "y2 = census.loc[:, 'salary'].values\n",
    "\n",
    "# Print the shapes of all three of these arrays with messages as shown below. \n",
    "print (f'Numerical Feature Array Shape:   {X2_num.shape}')\n",
    "print (f'Categorical Feature Array Shape: {X2_cat.shape}')\n",
    "print (f'Label Array Shape:               {y2.shape}')"
   ]
  },
  {
   "cell_type": "code",
   "execution_count": 57,
   "id": "6113a5c4-d44a-4a0b-9f8b-fb1464b0b881",
   "metadata": {},
   "outputs": [
    {
     "name": "stdout",
     "output_type": "stream",
     "text": [
      "Encoded Feature Array Shape: (32561, 102)\n"
     ]
    }
   ],
   "source": [
    "# Create a OneHotEncoder() object setting sparse=False.\n",
    "encoder = OneHotEncoder(sparse_output=False)\n",
    "\n",
    "# Fit the encoder to the categorical features.\n",
    "encoder.fit(X2_cat)\n",
    "\n",
    "# Use the encoder to encode the categorical features, storing the result in a variable named X2_enc.\n",
    "X2_enc = encoder.transform(X2_cat)\n",
    "\n",
    "# Print the shape of X2_enc with a message as shown below.\n",
    "print (f'Encoded Feature Array Shape: {X2_enc.shape}')"
   ]
  },
  {
   "cell_type": "code",
   "execution_count": 58,
   "id": "72c1f600-fde1-4f5e-83a2-395649ec2a9e",
   "metadata": {},
   "outputs": [
    {
     "name": "stdout",
     "output_type": "stream",
     "text": [
      "Feature Array Shape: (32561, 108)\n"
     ]
    }
   ],
   "source": [
    "# Use np.hstack to combine X2_num and X2_enc into a single array named X2.\n",
    "X2 = np.hstack([X2_num, X2_enc])\n",
    "\n",
    "# Print the shape of X2 with a message as shown below.\n",
    "print (f'Feature Array Shape: {X2.shape}')"
   ]
  },
  {
   "cell_type": "code",
   "execution_count": 61,
   "id": "8f11d7e9-8565-4d9f-8d7f-478c3096fd03",
   "metadata": {},
   "outputs": [
    {
     "name": "stdout",
     "output_type": "stream",
     "text": [
      "Training Features Shape:   (22792, 108)\n",
      "Validation Features Shape: (4884, 108)\n",
      "Test Features Shape:       (4885, 108)\n"
     ]
    }
   ],
   "source": [
    "# Use train_test_split() to split the data into training and holdout sets using an 70/30 split. \n",
    "# Name the resulting arrays X2_train, X2_hold, y2_train, and y2_hold. Set random state=1. Use stratified sampling.\n",
    "X2_train, X2_hold, y2_train, y2_hold = train_test_split(X2, y2, test_size = 0.3, random_state=1, stratify=y2)\n",
    "\n",
    "# Use train_test_split() to split the holdout data into validation and test sets using a 50/50 split. \n",
    "# Name the resulting arrays X2_valid, X2_test, y2_valid, and y2_test. Set random state=1. Use stratified sampling.\n",
    "X2_valid, X2_test, y2_valid, y2_test = train_test_split(X2_hold, y2_hold, test_size = 0.5, random_state=1, stratify=y2_hold)\n",
    "\n",
    "# Print the shapes of X2_train, X2_valid, and X2_test with messages as shown below. \n",
    "print (f'Training Features Shape:   {X2_train.shape}')\n",
    "print (f'Validation Features Shape: {X2_valid.shape}')\n",
    "print (f'Test Features Shape:       {X2_test.shape}')"
   ]
  },
  {
   "cell_type": "markdown",
   "id": "6f6d62a7-e8bd-4401-8e22-ac7ea1dbc95b",
   "metadata": {},
   "source": [
    "### Logistic Regression Model"
   ]
  },
  {
   "cell_type": "code",
   "execution_count": 72,
   "id": "5c5b27b1-ceae-47e4-94d8-e514b75c3bd7",
   "metadata": {},
   "outputs": [
    {
     "name": "stdout",
     "output_type": "stream",
     "text": [
      "Training Accuracy:   0.8428\n",
      "Validation Accuracy: 0.8479\n"
     ]
    },
    {
     "name": "stderr",
     "output_type": "stream",
     "text": [
      "/opt/anaconda3/lib/python3.13/site-packages/sklearn/linear_model/_logistic.py:465: ConvergenceWarning: lbfgs failed to converge (status=1):\n",
      "STOP: TOTAL NO. OF ITERATIONS REACHED LIMIT.\n",
      "\n",
      "Increase the number of iterations (max_iter) or scale the data as shown in:\n",
      "    https://scikit-learn.org/stable/modules/preprocessing.html\n",
      "Please also refer to the documentation for alternative solver options:\n",
      "    https://scikit-learn.org/stable/modules/linear_model.html#logistic-regression\n",
      "  n_iter_i = _check_optimize_result(\n"
     ]
    }
   ],
   "source": [
    "# Create a logistic regression model named lr_mod setting solver='lbfgs', and max_iter=1000. Set penalty='none', unless that results in an error, in which case, set C=10e1000.\n",
    "lr_mod = LogisticRegression(solver='lbfgs', max_iter=1000, C=10e1000)  # not using penalty=None\n",
    "\n",
    "# Fit your model to the training data.\n",
    "lr_mod.fit(X2_train, y2_train)\n",
    "\n",
    "# Calculate the training and validation accuracy with messages as shown below. Round the scores to 4 decimal places.\n",
    "train_r2 = lr_mod.score(X2_train, y2_train)\n",
    "valid_r2 = lr_mod.score(X2_valid, y2_valid)\n",
    "\n",
    "print (f'Training Accuracy:   {round(train_r2, 4)}')\n",
    "print (f'Validation Accuracy: {round(valid_r2, 4)}')"
   ]
  },
  {
   "cell_type": "code",
   "execution_count": null,
   "id": "60beff03-f6de-48ba-86f7-ff0f421d37eb",
   "metadata": {},
   "outputs": [],
   "source": []
  },
  {
   "cell_type": "markdown",
   "id": "4f86b15c-70c3-440c-abfa-512913afddce",
   "metadata": {},
   "source": [
    "### Decision Tree Models"
   ]
  },
  {
   "cell_type": "code",
   "execution_count": 74,
   "id": "5635b3ce-0465-47f6-9e84-a8003be1cd0f",
   "metadata": {},
   "outputs": [
    {
     "name": "stdout",
     "output_type": "stream",
     "text": [
      "Optimal value for max_depth:           6\n",
      "Training Accuracy for Optimal Model:   0.8585\n",
      "Validation Accuracy for Optimal Model: 0.8565\n"
     ]
    }
   ],
   "source": [
    "# Create empty lists named dt_train_acc and dt_valid_acc. These lists will store the accuracy scores that we calculate for each model.\n",
    "dt_train_acc = []\n",
    "dt_valid_acc = []\n",
    "\n",
    "# Create a range variable named depth_range to represent a sequence of integers from 2 to 30.\n",
    "depth_range = range(2, 31)\n",
    "\n",
    "# Loop over the values in depth_range.\n",
    "for i in depth_range:\n",
    "    # Use NumPy to set a random seed of 1. This should be done inside the loop.\n",
    "    np.random.seed(1)\n",
    "    # Create a decision tree model named temp_tree with max_depth equal to the current value from depth_range that is being considered.\n",
    "    temp_tree = DecisionTreeClassifier(max_depth=i)\n",
    "    \n",
    "    # Fit the model to the training data.\n",
    "    temp_tree.fit(X2_train, y2_train)\n",
    "    \n",
    "    # Calculate the training and validation accuracy for temp_tree, appending the resulting values to the appropriate lists.\n",
    "    dt_train_acc.append(temp_tree.score(X2_train, y2_train))\n",
    "    dt_valid_acc.append(temp_tree.score(X2_valid, y2_valid))\n",
    "    \n",
    "# Use np.argmax to determine the index of the maximum value in dt_valid_acc. Store the result in dt_idx.\n",
    "dt_idx = np.argmax(dt_valid_acc)\n",
    "\n",
    "# Use dt_idx and depth_range to find the optimal value for the max_depth hyperparameter. Store the result in dt_opt_depth.\n",
    "dt_opt_depth = depth_range[dt_idx]\n",
    "\n",
    "# Use dt_idx with the lists dt_train_acc and dt_valid_acc to determine the training and validation accuracies for the optimal model found.\n",
    "opt_train_acc = dt_train_acc[dt_idx]\n",
    "opt_valid_acc = dt_valid_acc[dt_idx]\n",
    "\n",
    "# Display the values found in Steps 5 and 6 with messages as shown below. Round the accuracy scores to 4 decimal places.\n",
    "print (f'Optimal value for max_depth:           {dt_opt_depth}')\n",
    "print (f'Training Accuracy for Optimal Model:   {round(opt_train_acc, 4)}')\n",
    "print (f'Validation Accuracy for Optimal Model: {round(opt_valid_acc, 4)}')"
   ]
  },
  {
   "cell_type": "code",
   "execution_count": 79,
   "id": "e69378ef-fe65-4b86-84cd-8af627bdccbc",
   "metadata": {},
   "outputs": [
    {
     "data": {
      "image/png": "[encoded data removed]",
      "text/plain": [
       "<Figure size 640x480 with 1 Axes>"
      ]
     },
     "metadata": {},
     "output_type": "display_data"
    }
   ],
   "source": [
    "# Create a figure with two line plots on the same set of axes. One line plot should plot values of dt_train_acc against depth_range \n",
    "# The plot should contain a legend with two items that read \"Training\" \n",
    "plt.plot(depth_range, dt_train_acc, label='Training')\n",
    "\n",
    "# and the other should plot values of dt_valid_acc against depth_range. \n",
    "# label \"Validation\" for legend\n",
    "plt.plot(depth_range, dt_valid_acc, label='Validation')\n",
    "plt.legend()\n",
    "\n",
    "# The x-axis should be labeled \"Max Depth\" and the y-axis should be labeled \"Accuracy\". \n",
    "plt.xlabel('Max Depth')\n",
    "plt.ylabel('Accuracy')\n",
    "\n",
    "plt.show()"
   ]
  },
  {
   "cell_type": "markdown",
   "id": "4417a59f-ebce-4dbc-b6e8-9ba1aa9b66b4",
   "metadata": {},
   "source": [
    "### Random Forest Models"
   ]
  },
  {
   "cell_type": "code",
   "execution_count": 80,
   "id": "f8356175-0c02-4a4b-94ba-c1935568cddb",
   "metadata": {},
   "outputs": [
    {
     "name": "stdout",
     "output_type": "stream",
     "text": [
      "Optimal value for max_depth:           19\n",
      "Training Accuracy for Optimal Model:   0.9192\n",
      "Validation Accuracy for Optimal Model: 0.8643\n"
     ]
    }
   ],
   "source": [
    "# Create empty lists named rf_train_acc and rf_valid_acc. These lists will store the accuracy scores that we calculate for each model.\n",
    "rf_train_acc = []\n",
    "rf_valid_acc = []\n",
    "\n",
    "# Loop over the values in depth_range.\n",
    "for i in depth_range:\n",
    "\n",
    "    # Use NumPy to set a random seed of 1. This should be done inside the loop.\n",
    "    np.random.seed(1)\n",
    "    \n",
    "    # Create a random forest model named temp_forest with max_depth equal to the current value from depth_range that is being considered. \n",
    "    # Set the parameter n_estimators to 100.\n",
    "    temp_forest = RandomForestClassifier(n_estimators=100, max_depth=i)\n",
    "    \n",
    "    # Fit the model to the training data.\n",
    "    temp_forest.fit(X2_train, y2_train)\n",
    "    \n",
    "    # Calculate the training and validation accuracy for temp_forest, appending the resulting values to the appropriate lists.\n",
    "    rf_train_acc.append(temp_forest.score(X2_train, y2_train))\n",
    "    rf_valid_acc.append(temp_forest.score(X2_valid, y2_valid))\n",
    "    \n",
    "# Use np.argmax to determine the index of the maximum value in rf_valid_acc. Store the result in rf_idx.\n",
    "rf_idx = np.argmax(rf_valid_acc)\n",
    "\n",
    "# Use rf_idx and depth_range to find the optimal value for the max_depth hyperparameter. Store the result in rf_opt_depth.\n",
    "rf_opt_depth = depth_range[rf_idx]\n",
    "\n",
    "# Use rf_idx with the lists rf_train_acc and rf_valid_acc to determine the training and validation accuracies for the optimal model found.\n",
    "opt_train_acc = rf_train_acc[rf_idx]\n",
    "opt_valid_acc = rf_valid_acc[rf_idx]\n",
    "\n",
    "# Display the values found in Steps 4 and 5 with messages as shown below. Round the accuracy scores to 4 decimal places.\n",
    "print (f'Optimal value for max_depth:           {rf_opt_depth}')\n",
    "print (f'Training Accuracy for Optimal Model:   {round(opt_train_acc, 4)}')\n",
    "print (f'Validation Accuracy for Optimal Model: {round(opt_valid_acc, 4)}')"
   ]
  },
  {
   "cell_type": "code",
   "execution_count": 81,
   "id": "b4b696c4-2384-47ed-9101-f33b2b469b70",
   "metadata": {},
   "outputs": [
    {
     "data": {
      "image/png": "[encoded data removed]",
      "text/plain": [
       "<Figure size 640x480 with 1 Axes>"
      ]
     },
     "metadata": {},
     "output_type": "display_data"
    }
   ],
   "source": [
    "# Create a figure with two line plots on the same set of axes. One line plot should plot values of rf_train_acc against depth_range\n",
    "# The plot should contain a legend with two items that read \"Training\" \n",
    "plt.plot(depth_range, rf_train_acc, label='Training')\n",
    "\n",
    "# and the other should plot values of rf_valid_acc against depth_range. \n",
    "# label \"Validation\" for legend\n",
    "plt.plot(depth_range, rf_valid_acc, label='Validation')\n",
    "plt.legend()\n",
    "\n",
    "# The x-axis should be labeled \"Max Depth\" and the y-axis should be labeled \"Accuracy\". \n",
    "plt.xlabel('Max Depth')\n",
    "plt.ylabel('Accuracy')\n",
    "\n",
    "plt.show()"
   ]
  },
  {
   "cell_type": "markdown",
   "id": "2ed4e68b-7b11-47b0-9e9b-86a5b15fdcb4",
   "metadata": {},
   "source": [
    "### Evaluate Final Model"
   ]
  },
  {
   "cell_type": "code",
   "execution_count": 84,
   "id": "5dfbdd15-18d7-48fe-b1d3-fe8d7f7adc08",
   "metadata": {},
   "outputs": [
    {
     "name": "stdout",
     "output_type": "stream",
     "text": [
      "Training Accuracy for Final Model:   0.9192\n",
      "Validation Accuracy for Final Model: 0.8643\n",
      "Testing Accuracy for Final Model:    0.8624\n"
     ]
    }
   ],
   "source": [
    "# If your final model is a decision tree or random forest model, use NumPy to set a random seed of 1.\n",
    "np.random.seed(1)\n",
    "\n",
    "# Recreate the best model you found, using the parameter values that produced that model. Store the resulting\n",
    "# model in a variable named final_model.\n",
    "final_model = RandomForestClassifier(n_estimators=100, max_depth=19)\n",
    "\n",
    "# Fit this model to the training set.\n",
    "final_model.fit(X2_train, y2_train)\n",
    "\n",
    "# Print the training accuracy, validation accuracy, and test accuracy for the final model with messages as shown\n",
    "# below. round the accuracy scores to four decimal places.\n",
    "\n",
    "print (f'Training Accuracy for Final Model:   {round(final_model.score(X2_train, y2_train),4)}')\n",
    "print (f'Validation Accuracy for Final Model: {round(final_model.score(X2_valid, y2_valid),4)}')\n",
    "print (f'Testing Accuracy for Final Model:    {round(final_model.score(X2_test, y2_test),4)}')"
   ]
  }
 ],
 "metadata": {
  "kernelspec": {
   "display_name": "Python 3 (ipykernel)",
   "language": "python",
   "name": "python3"
  },
  "language_info": {
   "codemirror_mode": {
    "name": "ipython",
    "version": 3
   },
   "file_extension": ".py",
   "mimetype": "text/x-python",
   "name": "python",
   "nbconvert_exporter": "python",
   "pygments_lexer": "ipython3",
   "version": "3.13.5"
  }
 },
 "nbformat": 4,
 "nbformat_minor": 5
}

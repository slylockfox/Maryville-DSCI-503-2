{
 "cells": [
  {
   "cell_type": "markdown",
   "id": "a75c70ee-e871-4400-b8f1-174ec920c0b2",
   "metadata": {},
   "source": [
    "# DSCI 503 - Homework 08\n",
    "### Matt Snyder"
   ]
  },
  {
   "cell_type": "code",
   "execution_count": 1,
   "id": "155f28ab-190f-4d76-9bd1-5e06299e77a0",
   "metadata": {},
   "outputs": [],
   "source": [
    "import numpy as np\n",
    "import pandas as pd\n",
    "import matplotlib.pyplot as plt\n",
    "\n",
    "from sklearn.model_selection import train_test_split\n",
    "from sklearn.preprocessing import OneHotEncoder\n",
    "from sklearn.metrics import confusion_matrix, classification_report\n",
    "\n",
    "from sklearn.linear_model import LinearRegression,LogisticRegression\n",
    "from sklearn.tree import DecisionTreeClassifier\n",
    "from sklearn.ensemble import RandomForestClassifier"
   ]
  },
  {
   "cell_type": "markdown",
   "id": "eee209b6-6742-4edf-bf51-fda408b243e0",
   "metadata": {},
   "source": [
    "## Problem 1: Diamonds Dataset"
   ]
  },
  {
   "cell_type": "code",
   "execution_count": 2,
   "id": "34f4d8cd-7c21-4832-b984-c2c1291bcb34",
   "metadata": {},
   "outputs": [
    {
     "data": {
      "text/html": [
       "<div>\n",
       "<style scoped>\n",
       "    .dataframe tbody tr th:only-of-type {\n",
       "        vertical-align: middle;\n",
       "    }\n",
       "\n",
       "    .dataframe tbody tr th {\n",
       "        vertical-align: top;\n",
       "    }\n",
       "\n",
       "    .dataframe thead th {\n",
       "        text-align: right;\n",
       "    }\n",
       "</style>\n",
       "<table border=\"1\" class=\"dataframe\">\n",
       "  <thead>\n",
       "    <tr style=\"text-align: right;\">\n",
       "      <th></th>\n",
       "      <th>carat</th>\n",
       "      <th>cut</th>\n",
       "      <th>color</th>\n",
       "      <th>clarity</th>\n",
       "      <th>depth</th>\n",
       "      <th>table</th>\n",
       "      <th>price</th>\n",
       "      <th>x</th>\n",
       "      <th>y</th>\n",
       "      <th>z</th>\n",
       "      <th>ln_carat</th>\n",
       "      <th>ln_price</th>\n",
       "    </tr>\n",
       "  </thead>\n",
       "  <tbody>\n",
       "    <tr>\n",
       "      <th>1</th>\n",
       "      <td>0.23</td>\n",
       "      <td>Ideal</td>\n",
       "      <td>E</td>\n",
       "      <td>SI2</td>\n",
       "      <td>61.5</td>\n",
       "      <td>55.0</td>\n",
       "      <td>326</td>\n",
       "      <td>3.95</td>\n",
       "      <td>3.98</td>\n",
       "      <td>2.43</td>\n",
       "      <td>-1.469676</td>\n",
       "      <td>5.786897</td>\n",
       "    </tr>\n",
       "    <tr>\n",
       "      <th>2</th>\n",
       "      <td>0.21</td>\n",
       "      <td>Premium</td>\n",
       "      <td>E</td>\n",
       "      <td>SI1</td>\n",
       "      <td>59.8</td>\n",
       "      <td>61.0</td>\n",
       "      <td>326</td>\n",
       "      <td>3.89</td>\n",
       "      <td>3.84</td>\n",
       "      <td>2.31</td>\n",
       "      <td>-1.560648</td>\n",
       "      <td>5.786897</td>\n",
       "    </tr>\n",
       "    <tr>\n",
       "      <th>3</th>\n",
       "      <td>0.23</td>\n",
       "      <td>Good</td>\n",
       "      <td>E</td>\n",
       "      <td>VS1</td>\n",
       "      <td>56.9</td>\n",
       "      <td>65.0</td>\n",
       "      <td>327</td>\n",
       "      <td>4.05</td>\n",
       "      <td>4.07</td>\n",
       "      <td>2.31</td>\n",
       "      <td>-1.469676</td>\n",
       "      <td>5.789960</td>\n",
       "    </tr>\n",
       "    <tr>\n",
       "      <th>4</th>\n",
       "      <td>0.29</td>\n",
       "      <td>Premium</td>\n",
       "      <td>I</td>\n",
       "      <td>VS2</td>\n",
       "      <td>62.4</td>\n",
       "      <td>58.0</td>\n",
       "      <td>334</td>\n",
       "      <td>4.20</td>\n",
       "      <td>4.23</td>\n",
       "      <td>2.63</td>\n",
       "      <td>-1.237874</td>\n",
       "      <td>5.811141</td>\n",
       "    </tr>\n",
       "    <tr>\n",
       "      <th>5</th>\n",
       "      <td>0.31</td>\n",
       "      <td>Good</td>\n",
       "      <td>J</td>\n",
       "      <td>SI2</td>\n",
       "      <td>63.3</td>\n",
       "      <td>58.0</td>\n",
       "      <td>335</td>\n",
       "      <td>4.34</td>\n",
       "      <td>4.35</td>\n",
       "      <td>2.75</td>\n",
       "      <td>-1.171183</td>\n",
       "      <td>5.814131</td>\n",
       "    </tr>\n",
       "  </tbody>\n",
       "</table>\n",
       "</div>"
      ],
      "text/plain": [
       "   carat      cut color clarity  depth  table  price     x     y     z  \\\n",
       "1   0.23    Ideal     E     SI2   61.5   55.0    326  3.95  3.98  2.43   \n",
       "2   0.21  Premium     E     SI1   59.8   61.0    326  3.89  3.84  2.31   \n",
       "3   0.23     Good     E     VS1   56.9   65.0    327  4.05  4.07  2.31   \n",
       "4   0.29  Premium     I     VS2   62.4   58.0    334  4.20  4.23  2.63   \n",
       "5   0.31     Good     J     SI2   63.3   58.0    335  4.34  4.35  2.75   \n",
       "\n",
       "   ln_carat  ln_price  \n",
       "1 -1.469676  5.786897  \n",
       "2 -1.560648  5.786897  \n",
       "3 -1.469676  5.789960  \n",
       "4 -1.237874  5.811141  \n",
       "5 -1.171183  5.814131  "
      ]
     },
     "execution_count": 2,
     "metadata": {},
     "output_type": "execute_result"
    }
   ],
   "source": [
    "# Load the data stored in the tab-delimited file diamonds.txt into a DataFrame named diamonds. \n",
    "diamonds = pd.read_table('diamonds.txt')\n",
    "\n",
    "# add two new columns to diamonds named ln_carat and ln_price. These columns should contain the\n",
    "# natural logarithms of the carat and price columns. \n",
    "diamonds.loc[:, 'ln_carat'] = np.log(diamonds.carat)\n",
    "diamonds.loc[:, 'ln_price'] = np.log(diamonds.price)\n",
    "\n",
    "# Use head() to display the first 5 rows of this DataFrame.\n",
    "diamonds.head()"
   ]
  },
  {
   "cell_type": "code",
   "execution_count": 8,
   "id": "42fa758e-3d17-4255-a237-9c8b5478a9e4",
   "metadata": {},
   "outputs": [
    {
     "name": "stdout",
     "output_type": "stream",
     "text": [
      "Numerical Feature Array Shape:   (53940, 1)\n",
      "Categorical Feature Array Shape: (53940, 3)\n",
      "Label Array Shape:               (53940,)\n"
     ]
    }
   ],
   "source": [
    "# Create a 2D array named X1_num by selecting the ln_carat column from diamonds.\n",
    "X1_num = diamonds.loc[:, ['ln_carat']].values # making the column selection an array gives a 2D shape to the result\n",
    "\n",
    "# Create a 2D array named X1_cat by selecting the cut, color, and clarity columns from diamonds.\n",
    "X1_cat = diamonds.loc[:, ['cut', 'color', 'clarity']].values\n",
    "\n",
    "# Create a 1D array named y1 by selecting the ln_price column from diamonds.\n",
    "y1 = diamonds.loc[:, 'ln_price'].values\n",
    "\n",
    "# Print the shapes of all three of these arrays with messages as shown below.\n",
    "print (f'Numerical Feature Array Shape:   {X1_num.shape}')\n",
    "print (f'Categorical Feature Array Shape: {X1_cat.shape}')\n",
    "print (f'Label Array Shape:               {y1.shape}')"
   ]
  },
  {
   "cell_type": "code",
   "execution_count": 9,
   "id": "3ffd6955-e7dc-4816-99f5-6060c63f52f9",
   "metadata": {},
   "outputs": [
    {
     "name": "stdout",
     "output_type": "stream",
     "text": [
      "Encoded Feature Array Shape: (53940, 20)\n"
     ]
    }
   ],
   "source": [
    "# Create a OneHotEncoder() object setting sparse=False.\n",
    "encoder = OneHotEncoder(sparse_output=False) # sparse=False\n",
    "\n",
    "# Fit the encoder to the categorical features.\n",
    "encoder.fit(X1_cat)\n",
    "\n",
    "# Use the encoder to encode the categorical features, storing the result in a variable named X1_enc.\n",
    "X1_enc = encoder.transform(X1_cat)\n",
    "\n",
    "# Print the shape of X1_enc with a message as shown below.\n",
    "print (f'Encoded Feature Array Shape: {X1_enc.shape}')"
   ]
  },
  {
   "cell_type": "code",
   "execution_count": 11,
   "id": "609d61e5-90d0-4330-91d5-fad48396540a",
   "metadata": {},
   "outputs": [
    {
     "name": "stdout",
     "output_type": "stream",
     "text": [
      "Feature Array Shape: (53940, 21)\n"
     ]
    }
   ],
   "source": [
    "# Use np.hstack to combine X1_num and X1_enc into a single array named X1 with the numerical column\n",
    "# appearing first in the new array.\n",
    "X1 = np.hstack([X1_num, X1_enc])\n",
    "\n",
    "# 2. Print the shape of X1 with a message as shown below.\n",
    "print (f'Feature Array Shape: {X1.shape}')"
   ]
  },
  {
   "cell_type": "code",
   "execution_count": 12,
   "id": "a616de19-7373-4038-aad2-963e9becad2a",
   "metadata": {},
   "outputs": [
    {
     "name": "stdout",
     "output_type": "stream",
     "text": [
      "Training Features Shape:   (43152, 21)\n",
      "Validation Features Shape: (5394, 21)\n",
      "Test Features Shape:       (5394, 21)\n"
     ]
    }
   ],
   "source": [
    "# Use train_test_split() to split the data into training and holdout sets using an 80/20 split. Name the\n",
    "# resulting arrays X1_train, X1_hold, y1_train, and y1_hold. Set random state=1.\n",
    "X1_train, X1_hold, y1_train, y1_hold = train_test_split(X1, y1, test_size=0.2, random_state=1)\n",
    "\n",
    "# Use train_test_split() to split the holdout data into validation and test sets using a 50/50 split. Name the\n",
    "# resulting arrays X1_valid, X1_test, y1_valid, and y1_test. Set random state=1.\n",
    "X1_valid, X1_test, y1_valid, y1_test = train_test_split(X1_hold, y1_hold, test_size=0.5, random_state=1)\n",
    "\n",
    "# Print the shapes of X1_train, X1_valid, and X1_test with messages as shown below\n",
    "print (f'Training Features Shape:   {X1_train.shape}')\n",
    "print (f'Validation Features Shape: {X1_valid.shape}')\n",
    "print (f'Test Features Shape:       {X1_test.shape}')"
   ]
  },
  {
   "cell_type": "markdown",
   "id": "114c04eb-6d30-4fcb-95e0-99998a26c8fc",
   "metadata": {},
   "source": [
    "### Linear Regression Model with One Feature"
   ]
  },
  {
   "cell_type": "code",
   "execution_count": 19,
   "id": "0cb3d6d6-a5c7-41c6-9871-06647339df25",
   "metadata": {},
   "outputs": [
    {
     "name": "stdout",
     "output_type": "stream",
     "text": [
      "Training r-Squared:   0.933\n",
      "Validation r-Squared: 0.9348\n"
     ]
    }
   ],
   "source": [
    "# Create a linear regression model named dia_mod_1.\n",
    "dia_mod_1 = LinearRegression()\n",
    "\n",
    "# Fit the model to the training data, using only the first (numerical) column of X1_train.\n",
    "X_first_column = X1_train[:,0].reshape(-1, 1)\n",
    "dia_mod_1.fit(X_first_column, y1_train)\n",
    "\n",
    "# Calculate the r-squared values for the training and validation set. Note that when using the score() method\n",
    "# for this model, you will need to provide it with only the first column of the feature array.\n",
    "X_valid_first_column = X1_valid[:,0].reshape(-1, 1)\n",
    "train_r2 = dia_mod_1.score(X_first_column, y1_train)\n",
    "valid_r2 = dia_mod_1.score(X_valid_first_column, y1_valid)\n",
    "\n",
    "# Print the results with messages as shown below. Round the scores to 4 decimal places.\n",
    "print (f'Training r-Squared:   {round(train_r2, 4)}')\n",
    "print (f'Validation r-Squared: {round(valid_r2, 4)}')"
   ]
  },
  {
   "cell_type": "markdown",
   "id": "fe0e39f6-8898-417f-bf81-883228799152",
   "metadata": {},
   "source": [
    "### Linear Regression Model with Several Features"
   ]
  },
  {
   "cell_type": "code",
   "execution_count": 20,
   "id": "cd4f67ed-9092-44f8-abad-d5b2b37d01a0",
   "metadata": {},
   "outputs": [
    {
     "name": "stdout",
     "output_type": "stream",
     "text": [
      "Training r-Squared:   0.9825\n",
      "Validation r-Squared: 0.9834\n"
     ]
    }
   ],
   "source": [
    "# Create a linear regression model named dia_mod_2.\n",
    "dia_mod_2 = LinearRegression()\n",
    "\n",
    "# Fit the model to the training data using all features in X1_train.\n",
    "dia_mod_2.fit(X1_train, y1_train)\n",
    "\n",
    "# Calculate the r-squared values for the training and validation set.\n",
    "train_r2 = dia_mod_2.score(X1_train, y1_train)\n",
    "valid_r2 = dia_mod_2.score(X1_valid, y1_valid)\n",
    "\n",
    "# Print the results with messages as shown below. Round the scores to 4 decimal places.\n",
    "print (f'Training r-Squared:   {round(train_r2, 4)}')\n",
    "print (f'Validation r-Squared: {round(valid_r2, 4)}')"
   ]
  },
  {
   "cell_type": "code",
   "execution_count": 22,
   "id": "40eb55e3-c530-4437-a005-343fb276d734",
   "metadata": {},
   "outputs": [
    {
     "name": "stdout",
     "output_type": "stream",
     "text": [
      "Testing r-Squared: 0.9825\n"
     ]
    }
   ],
   "source": [
    "# Score the model dia_mod_2 using the test set.\n",
    "valid_r2 = dia_mod_2.score(X1_test, y1_test)\n",
    "\n",
    "# Print the result with a message as shown below. Round the score to 4 decimal places.\n",
    "print (f'Testing r-Squared: {round(valid_r2, 4)}')"
   ]
  },
  {
   "cell_type": "code",
   "execution_count": null,
   "id": "1c949220-2a5d-45c3-a4bc-11eebaa5f825",
   "metadata": {},
   "outputs": [],
   "source": []
  },
  {
   "cell_type": "code",
   "execution_count": null,
   "id": "aac7589f-6f35-4bde-9b58-29d008d1746c",
   "metadata": {},
   "outputs": [],
   "source": []
  },
  {
   "cell_type": "code",
   "execution_count": null,
   "id": "49f53fdc-edbc-4768-8c81-096f17957df8",
   "metadata": {},
   "outputs": [],
   "source": []
  },
  {
   "cell_type": "code",
   "execution_count": null,
   "id": "45762e2d-98eb-4f6b-a565-5872ac715bb4",
   "metadata": {},
   "outputs": [],
   "source": []
  },
  {
   "cell_type": "code",
   "execution_count": null,
   "id": "8a6147a5-9308-4d8e-831f-cd54794fb20f",
   "metadata": {},
   "outputs": [],
   "source": []
  },
  {
   "cell_type": "code",
   "execution_count": null,
   "id": "4d6ac898-8b73-4d6e-b954-17c1c59dcca7",
   "metadata": {},
   "outputs": [],
   "source": []
  },
  {
   "cell_type": "code",
   "execution_count": null,
   "id": "6113a5c4-d44a-4a0b-9f8b-fb1464b0b881",
   "metadata": {},
   "outputs": [],
   "source": []
  },
  {
   "cell_type": "code",
   "execution_count": null,
   "id": "72c1f600-fde1-4f5e-83a2-395649ec2a9e",
   "metadata": {},
   "outputs": [],
   "source": []
  },
  {
   "cell_type": "code",
   "execution_count": null,
   "id": "8f11d7e9-8565-4d9f-8d7f-478c3096fd03",
   "metadata": {},
   "outputs": [],
   "source": []
  },
  {
   "cell_type": "code",
   "execution_count": null,
   "id": "efc65e2e-df11-425c-93b6-4ab7d7b10ecb",
   "metadata": {},
   "outputs": [],
   "source": []
  },
  {
   "cell_type": "code",
   "execution_count": null,
   "id": "5c5b27b1-ceae-47e4-94d8-e514b75c3bd7",
   "metadata": {},
   "outputs": [],
   "source": []
  },
  {
   "cell_type": "code",
   "execution_count": null,
   "id": "87d7814b-110b-44ae-9103-240a27c200bf",
   "metadata": {},
   "outputs": [],
   "source": []
  },
  {
   "cell_type": "code",
   "execution_count": null,
   "id": "56402da9-5448-4754-beec-1d418afb7c42",
   "metadata": {},
   "outputs": [],
   "source": []
  },
  {
   "cell_type": "code",
   "execution_count": null,
   "id": "5635b3ce-0465-47f6-9e84-a8003be1cd0f",
   "metadata": {},
   "outputs": [],
   "source": []
  },
  {
   "cell_type": "code",
   "execution_count": null,
   "id": "e69378ef-fe65-4b86-84cd-8af627bdccbc",
   "metadata": {},
   "outputs": [],
   "source": []
  },
  {
   "cell_type": "code",
   "execution_count": null,
   "id": "7ce80d51-94e7-44e2-8d4a-52db7f7885f9",
   "metadata": {},
   "outputs": [],
   "source": []
  },
  {
   "cell_type": "code",
   "execution_count": null,
   "id": "f8356175-0c02-4a4b-94ba-c1935568cddb",
   "metadata": {},
   "outputs": [],
   "source": []
  },
  {
   "cell_type": "code",
   "execution_count": null,
   "id": "b4b696c4-2384-47ed-9101-f33b2b469b70",
   "metadata": {},
   "outputs": [],
   "source": []
  },
  {
   "cell_type": "code",
   "execution_count": null,
   "id": "38c9796f-b655-41d1-bab0-95bf86f7a671",
   "metadata": {},
   "outputs": [],
   "source": []
  },
  {
   "cell_type": "code",
   "execution_count": null,
   "id": "5dfbdd15-18d7-48fe-b1d3-fe8d7f7adc08",
   "metadata": {},
   "outputs": [],
   "source": []
  },
  {
   "cell_type": "code",
   "execution_count": null,
   "id": "fa3a0365-4759-4395-b50e-63a92688b22b",
   "metadata": {},
   "outputs": [],
   "source": []
  },
  {
   "cell_type": "code",
   "execution_count": null,
   "id": "964c3224-349f-420d-a14f-2161441fe684",
   "metadata": {},
   "outputs": [],
   "source": []
  },
  {
   "cell_type": "code",
   "execution_count": null,
   "id": "c25581af-3849-4e74-b94b-c6bb263c1d96",
   "metadata": {},
   "outputs": [],
   "source": []
  }
 ],
 "metadata": {
  "kernelspec": {
   "display_name": "Python 3 (ipykernel)",
   "language": "python",
   "name": "python3"
  },
  "language_info": {
   "codemirror_mode": {
    "name": "ipython",
    "version": 3
   },
   "file_extension": ".py",
   "mimetype": "text/x-python",
   "name": "python",
   "nbconvert_exporter": "python",
   "pygments_lexer": "ipython3",
   "version": "3.13.5"
  }
 },
 "nbformat": 4,
 "nbformat_minor": 5
}

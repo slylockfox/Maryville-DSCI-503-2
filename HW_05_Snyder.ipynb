{
 "cells": [
  {
   "cell_type": "markdown",
   "id": "1cf02606-e6af-4f40-8be4-c1fde31d209f",
   "metadata": {},
   "source": [
    "# DSCI 503 - Homework 05\n",
    "Matt Snyder"
   ]
  },
  {
   "cell_type": "code",
   "execution_count": 1,
   "id": "86fbd1aa-4435-4134-8840-c985ce1b1a31",
   "metadata": {},
   "outputs": [],
   "source": [
    "import numpy as np\n",
    "import pandas as pd\n",
    "import matplotlib.pyplot as plt"
   ]
  },
  {
   "cell_type": "markdown",
   "id": "e159655a-42a6-4dc1-8c41-8e1868bd863f",
   "metadata": {},
   "source": [
    "## Problem 1: Working with 2D Arrays"
   ]
  },
  {
   "cell_type": "code",
   "execution_count": 2,
   "id": "1b4850cf-d857-4050-8f85-9d6e06520607",
   "metadata": {},
   "outputs": [
    {
     "name": "stdout",
     "output_type": "stream",
     "text": [
      "[[4.17 7.2  0.   3.02 1.47 0.92 1.86 3.46]\n",
      " [3.97 5.39 4.19 6.85 2.04 8.78 0.27 6.7 ]\n",
      " [4.17 5.59 1.4  1.98 8.01 9.68 3.13 6.92]\n",
      " [8.76 8.95 0.85 0.39 1.7  8.78 0.98 4.21]\n",
      " [9.58 5.33 6.92 3.16 6.87 8.35 0.18 7.5 ]]\n"
     ]
    }
   ],
   "source": [
    "# Set a seed of 1.\n",
    "np.random.seed(1)\n",
    "\n",
    "# Use np.random.uniform to create a 5x8 array of elements sampled uniformly from the interval [0,10]. Name this array Z.\n",
    "Z = np.random.uniform(low=0, high=10, size=(5,8))\n",
    "\n",
    "# Round the elements of Z to two decimal places, storing the results back into Z.\n",
    "Z = np.round(Z, 2)\n",
    "\n",
    "# Print Z.\n",
    "print (Z)"
   ]
  },
  {
   "cell_type": "code",
   "execution_count": 6,
   "id": "9d28b9fc-e2bc-4c15-956f-c08f9e846a13",
   "metadata": {},
   "outputs": [
    {
     "name": "stdout",
     "output_type": "stream",
     "text": [
      "Row 3:    [8.76 8.95 0.85 0.39 1.7  8.78 0.98 4.21]\n",
      "Column 6: [1.86 0.27 3.13 0.98 0.18]\n"
     ]
    }
   ],
   "source": [
    "# Use a single cell to print the 3rd row and 6th column of Z. Display your results as shown below.\n",
    "# NOTE: assuming 3rd means index 3 and 6th means index 6, based on the labels in the output specification\n",
    "print (f'Row 3:    {Z[3,:]}')\n",
    "print (f'Column 6: {Z[:,6]}')"
   ]
  },
  {
   "cell_type": "code",
   "execution_count": 8,
   "id": "10f4da8b-8938-49ff-89f5-b0baed52a093",
   "metadata": {},
   "outputs": [
    {
     "name": "stdout",
     "output_type": "stream",
     "text": [
      "Row Sums:    [22.1  38.19 40.88 34.62 47.89]\n",
      "Column Sums: [30.65 32.46 13.36 15.4  20.09 36.51  6.42 28.79]\n",
      "Array Sum:   183.68\n"
     ]
    }
   ],
   "source": [
    "# Use np.sum() to calculate the column sum and row sum for Z, as well as the sum of the entire array. \n",
    "print (f'Row Sums:    {np.sum(Z, axis=1)}')\n",
    "print (f'Column Sums: {np.sum(Z, axis=0)}')\n",
    "print (f'Array Sum:   {np.sum(Z)}')"
   ]
  },
  {
   "cell_type": "markdown",
   "id": "d8fac2d9-91d7-4c0c-9b75-18709d73686c",
   "metadata": {},
   "source": [
    "## Problem 2: Reshaping and Stacking Arrays"
   ]
  },
  {
   "cell_type": "code",
   "execution_count": 55,
   "id": "c653e1a4-f042-4327-9f13-65bc4563d4e2",
   "metadata": {},
   "outputs": [
    {
     "name": "stdout",
     "output_type": "stream",
     "text": [
      "(1000, 4)\n"
     ]
    }
   ],
   "source": [
    "# Set a seed of 167.\n",
    "np.random.seed(167)\n",
    "\n",
    "# Create arrays named x1, x2, x3, and x4. Each array should be a 1D array with 1000 elements drawn at random\n",
    "# from a normal distribution. The parameters for the distributions are as follows:\n",
    "\n",
    "# The distribution used for x1 should have a mean of 50 and a standard deviation of 10.\n",
    "x1 = np.random.normal(loc=50, scale=10, size=1000)\n",
    "\n",
    "# The distribution used for x2 should have a mean of 20 and a standard deviation of 5.\n",
    "x2 = np.random.normal(loc=20, scale=5, size=1000)\n",
    "\n",
    "# The distribution used for x3 should have a mean of 100 and a standard deviation of 30.\n",
    "x3 = np.random.normal(loc=100, scale=30, size=1000)\n",
    "\n",
    "# The distribution used for x4 should have a mean of 10 and a standard deviation of 2.\n",
    "x4 = np.random.normal(loc=10, scale=2, size=1000)\n",
    "\n",
    "# Use reshape() to create column arrays based on x1, x2, x3, and x4. Use np.hstack() to combine the\n",
    "# resulting column arrays into a 1000x4 array named X.\n",
    "X = np.hstack([x1.reshape(1000,1), x2.reshape(1000,1), x3.reshape(1000,1), x4.reshape(1000,1)])\n",
    "\n",
    "# Round the values in X to two decimal places, storing the results back into X.\n",
    "X = np.round(X, 2)\n",
    "\n",
    "# Print the shape of X.\n",
    "print (X.shape)"
   ]
  },
  {
   "cell_type": "markdown",
   "id": "135a053b-6144-4a74-993d-60e20b6bded2",
   "metadata": {},
   "source": [
    "## Problem 3: Standardization"
   ]
  },
  {
   "cell_type": "code",
   "execution_count": 24,
   "id": "ecf812ec-0160-49dc-88cf-44c58b3a6f86",
   "metadata": {},
   "outputs": [
    {
     "name": "stdout",
     "output_type": "stream",
     "text": [
      "Column means:               [50.21 19.86 99.84 10.06]\n",
      "Column standard deviations: [ 9.69  5.08 30.88  2.03]\n"
     ]
    }
   ],
   "source": [
    "# Use np.mean() to calculate the column means for X. Store the resulting array in a variable.\n",
    "column_means = np.mean(X, axis=0)\n",
    "\n",
    "# Use np.std() to calculate the column standard deviations for X. Store the resulting array in a variable.\n",
    "column_scales = np.std(X, axis=0)\n",
    "\n",
    "# Print the results of Steps 1 and 2 in the format shown below. \n",
    "\n",
    "print (f'Column means:               {np.round(column_means, 2)}')\n",
    "print (f'Column standard deviations: {np.round(column_scales, 2)}')"
   ]
  },
  {
   "cell_type": "code",
   "execution_count": 31,
   "id": "30856630-7e29-4618-8e8c-7aa1b0a0da38",
   "metadata": {},
   "outputs": [
    {
     "name": "stdout",
     "output_type": "stream",
     "text": [
      "Column means:               [ 0. -0. -0. -0.]\n",
      "Column standard deviations: [1. 1. 1. 1.]\n"
     ]
    }
   ],
   "source": [
    "# Create an array W by subtracting the column means of X from X, and then dividing the result by the column\n",
    "# standard deviations of X. You can do this in one step, or break it up into two steps.\n",
    "W = (X - column_means) / column_scales # uses broadcasting\n",
    "\n",
    "# Use np.mean() to calculate the column means for W. Store the resulting array in a variable.\n",
    "w_column_means = np.mean(W, axis=0)\n",
    "\n",
    "# Use np.std() to calculate the column standard deviations for W. Store the resulting array in a variable.\n",
    "w_column_scales = np.std(W, axis=0)\n",
    "\n",
    "# Print the results of Steps 2 and 3 in the format shown below.\n",
    "print (f'Column means:               {np.round(w_column_means, 2)}')\n",
    "print (f'Column standard deviations: {np.round(w_column_scales, 2)}')"
   ]
  },
  {
   "cell_type": "markdown",
   "id": "bad76cbc-401f-4b5b-bd36-65b6a1208fbd",
   "metadata": {},
   "source": [
    "## Problem 4: Load Auto MPG Dataset"
   ]
  },
  {
   "cell_type": "code",
   "execution_count": 32,
   "id": "3f0ff02e-f49f-443a-bcbe-a384421ee0c1",
   "metadata": {},
   "outputs": [
    {
     "data": {
      "text/html": [
       "<div>\n",
       "<style scoped>\n",
       "    .dataframe tbody tr th:only-of-type {\n",
       "        vertical-align: middle;\n",
       "    }\n",
       "\n",
       "    .dataframe tbody tr th {\n",
       "        vertical-align: top;\n",
       "    }\n",
       "\n",
       "    .dataframe thead th {\n",
       "        text-align: right;\n",
       "    }\n",
       "</style>\n",
       "<table border=\"1\" class=\"dataframe\">\n",
       "  <thead>\n",
       "    <tr style=\"text-align: right;\">\n",
       "      <th></th>\n",
       "      <th>mpg</th>\n",
       "      <th>cyl</th>\n",
       "      <th>wt</th>\n",
       "      <th>region</th>\n",
       "      <th>model</th>\n",
       "    </tr>\n",
       "  </thead>\n",
       "  <tbody>\n",
       "    <tr>\n",
       "      <th>0</th>\n",
       "      <td>27.2</td>\n",
       "      <td>4</td>\n",
       "      <td>3190</td>\n",
       "      <td>eur</td>\n",
       "      <td>peugeot 504</td>\n",
       "    </tr>\n",
       "    <tr>\n",
       "      <th>1</th>\n",
       "      <td>32.8</td>\n",
       "      <td>4</td>\n",
       "      <td>1985</td>\n",
       "      <td>asia</td>\n",
       "      <td>mazda glc deluxe</td>\n",
       "    </tr>\n",
       "    <tr>\n",
       "      <th>2</th>\n",
       "      <td>18.1</td>\n",
       "      <td>6</td>\n",
       "      <td>3410</td>\n",
       "      <td>usa</td>\n",
       "      <td>amc concord d/l</td>\n",
       "    </tr>\n",
       "    <tr>\n",
       "      <th>3</th>\n",
       "      <td>17.5</td>\n",
       "      <td>8</td>\n",
       "      <td>4080</td>\n",
       "      <td>usa</td>\n",
       "      <td>dodge magnum xe</td>\n",
       "    </tr>\n",
       "    <tr>\n",
       "      <th>4</th>\n",
       "      <td>25.4</td>\n",
       "      <td>5</td>\n",
       "      <td>3530</td>\n",
       "      <td>eur</td>\n",
       "      <td>mercedes benz 300d</td>\n",
       "    </tr>\n",
       "  </tbody>\n",
       "</table>\n",
       "</div>"
      ],
      "text/plain": [
       "    mpg  cyl    wt region               model\n",
       "0  27.2    4  3190    eur         peugeot 504\n",
       "1  32.8    4  1985   asia    mazda glc deluxe\n",
       "2  18.1    6  3410    usa     amc concord d/l\n",
       "3  17.5    8  4080    usa     dodge magnum xe\n",
       "4  25.4    5  3530    eur  mercedes benz 300d"
      ]
     },
     "execution_count": 32,
     "metadata": {},
     "output_type": "execute_result"
    }
   ],
   "source": [
    "# The data is stored in the tab-separated file auto_mpg.txt. Load the contents of this file into a pandas DataFrame named auto. \n",
    "auto = pd.read_table('auto_mpg.txt', sep='\\t')\n",
    "\n",
    "# Use head() to display the first 10 rows of this data frame.\n",
    "auto.head()"
   ]
  },
  {
   "cell_type": "code",
   "execution_count": 33,
   "id": "6f1aef35-58df-44af-8c2e-6bbedea7a740",
   "metadata": {},
   "outputs": [
    {
     "name": "stdout",
     "output_type": "stream",
     "text": [
      "(398, 5)\n"
     ]
    }
   ],
   "source": [
    "# Print the shape of the auto DataFrame.\n",
    "print (auto.shape)"
   ]
  },
  {
   "cell_type": "code",
   "execution_count": 35,
   "id": "fd32bf09-d285-4f78-9310-883821eea3cf",
   "metadata": {},
   "outputs": [
    {
     "name": "stdout",
     "output_type": "stream",
     "text": [
      "mpg      23.514573\n",
      "cyl       5.454774\n",
      "wt     2970.424623\n",
      "dtype: float64\n"
     ]
    }
   ],
   "source": [
    "# Call the mean() method of auto and print the results. This will display the means for each of the numerical columns in the DataFrame.\n",
    "print (auto.mean(numeric_only=True))"
   ]
  },
  {
   "cell_type": "markdown",
   "id": "8116b39f-59c2-4707-8e6f-af4f0c499203",
   "metadata": {},
   "source": [
    "## Problem 5: Regional Counts and Means"
   ]
  },
  {
   "cell_type": "code",
   "execution_count": 40,
   "id": "021c1af6-85cf-4962-af9e-4b456c250c5c",
   "metadata": {},
   "outputs": [
    {
     "name": "stdout",
     "output_type": "stream",
     "text": [
      "['asia' 'eur' 'usa']\n"
     ]
    }
   ],
   "source": [
    "# Use np.unique() to obtain an array of unique values appearing in the region column of auto. Store the resulting\n",
    "# array in a variable named regions. \n",
    "regions = np.unique(auto.loc[:,'region'])\n",
    "\n",
    "# Print this array.\n",
    "print (regions)"
   ]
  },
  {
   "cell_type": "code",
   "execution_count": 48,
   "id": "e7d17e24-0737-4dc8-9086-12ec456ed63e",
   "metadata": {},
   "outputs": [
    {
     "name": "stdout",
     "output_type": "stream",
     "text": [
      "Number of cars manufactured in Asia:   79\n",
      "Number of cars manufactured in Europe: 70\n",
      "Number of cars manufactured in USA:    249\n"
     ]
    }
   ],
   "source": [
    "# Use boolean masking to create three new DataFrames named asia_auto, eur_auto, and usa_auto. Each of these\n",
    "# new DataFrames should contain the rows of auto associated with one of the values of region.\n",
    "sel = auto.loc[:,'region'] == 'asia'\n",
    "asia_auto = auto.loc[sel, :]\n",
    "sel = auto.loc[:,'region'] == 'eur'\n",
    "eur_auto = auto.loc[sel, :]\n",
    "sel = auto.loc[:,'region'] == 'usa'\n",
    "usa_auto = auto.loc[sel, :]\n",
    "\n",
    "# Use len() or the shape attribute to determine the number of rows in each of the new DataFrames. Print the results\n",
    "print (f'Number of cars manufactured in Asia:   {asia_auto.shape[0]}')\n",
    "print (f'Number of cars manufactured in Europe: {eur_auto.shape[0]}')\n",
    "print (f'Number of cars manufactured in USA:    {usa_auto.shape[0]}')"
   ]
  },
  {
   "cell_type": "code",
   "execution_count": 60,
   "id": "65924a69-b874-4fc3-bb9c-4950c76af28b",
   "metadata": {},
   "outputs": [
    {
     "data": {
      "text/html": [
       "<div>\n",
       "<style scoped>\n",
       "    .dataframe tbody tr th:only-of-type {\n",
       "        vertical-align: middle;\n",
       "    }\n",
       "\n",
       "    .dataframe tbody tr th {\n",
       "        vertical-align: top;\n",
       "    }\n",
       "\n",
       "    .dataframe thead th {\n",
       "        text-align: right;\n",
       "    }\n",
       "</style>\n",
       "<table border=\"1\" class=\"dataframe\">\n",
       "  <thead>\n",
       "    <tr style=\"text-align: right;\">\n",
       "      <th></th>\n",
       "      <th>mpg</th>\n",
       "      <th>cyl</th>\n",
       "      <th>wt</th>\n",
       "    </tr>\n",
       "  </thead>\n",
       "  <tbody>\n",
       "    <tr>\n",
       "      <th>asia</th>\n",
       "      <td>30.450633</td>\n",
       "      <td>4.101266</td>\n",
       "      <td>2221.227848</td>\n",
       "    </tr>\n",
       "    <tr>\n",
       "      <th>eur</th>\n",
       "      <td>27.891429</td>\n",
       "      <td>4.157143</td>\n",
       "      <td>2423.300000</td>\n",
       "    </tr>\n",
       "    <tr>\n",
       "      <th>usa</th>\n",
       "      <td>20.083534</td>\n",
       "      <td>6.248996</td>\n",
       "      <td>3361.931727</td>\n",
       "    </tr>\n",
       "  </tbody>\n",
       "</table>\n",
       "</div>"
      ],
      "text/plain": [
       "            mpg       cyl           wt\n",
       "asia  30.450633  4.101266  2221.227848\n",
       "eur   27.891429  4.157143  2423.300000\n",
       "usa   20.083534  6.248996  3361.931727"
      ]
     },
     "execution_count": 60,
     "metadata": {},
     "output_type": "execute_result"
    }
   ],
   "source": [
    "# Create three new arrays named asia_means, eur_means, and usa_means. Each array should have three elements,\n",
    "# which should be the average values of mpg, cyl, and wt for the relevant region. \n",
    "asia_means = asia_auto.mean(numeric_only=True)\n",
    "eur_means = eur_auto.mean(numeric_only=True)\n",
    "usa_means = usa_auto.mean(numeric_only=True)\n",
    "\n",
    "# Use the arrays to create a new DataFrame named mean_df. The DataFrame should have three columns named mpg,\n",
    "# cyl, and wt. Each row of this DataFrame should represent one of the three regions, and the index for the DataFrame\n",
    "# should be set to indicate the name of the region using the previously created regions array.\n",
    "mean_df = pd.DataFrame([asia_means, eur_means, usa_means], index=regions)\n",
    "\n",
    "# Display mean_df without using the print() function.\n",
    "mean_df.head()"
   ]
  },
  {
   "cell_type": "markdown",
   "id": "f292cc12-337a-4366-8a8f-d2f0456fdc77",
   "metadata": {},
   "source": [
    "## Problem 6: Average Weight and MPG by Region"
   ]
  },
  {
   "cell_type": "code",
   "execution_count": 70,
   "id": "ec1507c2-fb8c-4900-a43a-70d8e95fd29c",
   "metadata": {},
   "outputs": [
    {
     "data": {
      "image/png": "[encoded data removed]",
      "text/plain": [
       "<Figure size 800x400 with 2 Axes>"
      ]
     },
     "metadata": {},
     "output_type": "display_data"
    }
   ],
   "source": [
    "# Create a list named colors1 containing three named colors that display well and are easy to distinguish from one another.\n",
    "colors1 = ['orange', 'lightgreen', 'steelblue']\n",
    "\n",
    "# The figure size should be [8,4].\n",
    "plt.figure(figsize=[8,4])\n",
    "\n",
    "# Use the DataFrame mean_df from Problem 5 to create a single figure with two side-by-side bar charts.\n",
    "# Each bar chart should have three bars, one for each region. \n",
    "# The heights of the bars in the left plot should indicate the average MPG of vehicles in each region. \n",
    "# The bars should be labeled according to the region they represent.\n",
    "# The colors of the bars in each plot should be set using the colors1 list.\n",
    "# Each bar should have a black border.\n",
    "plt.subplot(1,2, 1)\n",
    "plt.bar(x=regions, height=mean_df.loc[:, 'mpg'], color=colors1, edgecolor='black')\n",
    "# • The x-axis of the plots should be labeled \"Region\".\n",
    "plt.xlabel('Region')\n",
    "# The title of the left plot should be \"Average MPG by Region\". \n",
    "plt.title('Average MPG by Region')\n",
    "# The y-axes of the plot should be labeled \"Average MPG\"\n",
    "plt.ylabel('Average MPG')\n",
    "\n",
    "# The heights of the bars in the right plot should indicate the average weight of vehicles in each region.\n",
    "plt.subplot(1,2, 2)\n",
    "plt.bar(x=regions, height=mean_df.loc[:, 'wt'], color=colors1, edgecolor='black')\n",
    "plt.xlabel('Region')\n",
    "# The y-axes of the plot should be labeled \"Average Weight in Pounds\".\n",
    "plt.ylabel('Average Weight in Pounds')\n",
    "# The title of the right plot should be \"Average Weight by Region\".\n",
    "plt.title('Average Weight by Region')\n",
    "\n",
    "# Call plt.tight_layout() to prevent elements of your subplots from overlapping.\n",
    "plt.tight_layout()\n",
    "# Use plt.show() to display the figure.\n",
    "plt.show()"
   ]
  },
  {
   "cell_type": "code",
   "execution_count": null,
   "id": "00b3fa88-0f1e-4722-bedc-78bf57711be2",
   "metadata": {},
   "outputs": [],
   "source": []
  },
  {
   "cell_type": "code",
   "execution_count": null,
   "id": "1cb44254-b682-4e42-8266-5006b1e2461e",
   "metadata": {},
   "outputs": [],
   "source": []
  },
  {
   "cell_type": "code",
   "execution_count": null,
   "id": "273e7eb4-9c3c-49de-80b7-ef318817d2de",
   "metadata": {},
   "outputs": [],
   "source": []
  },
  {
   "cell_type": "code",
   "execution_count": null,
   "id": "3f78ac6f-68b3-4b1b-ab5c-6a414b6671b4",
   "metadata": {},
   "outputs": [],
   "source": []
  },
  {
   "cell_type": "code",
   "execution_count": null,
   "id": "12848e05-50fa-47ec-a16d-a6bdb5354fb4",
   "metadata": {},
   "outputs": [],
   "source": []
  },
  {
   "cell_type": "code",
   "execution_count": null,
   "id": "02b05f15-30b0-4ca5-9e8f-57bf2eaff4e0",
   "metadata": {},
   "outputs": [],
   "source": []
  },
  {
   "cell_type": "code",
   "execution_count": null,
   "id": "9ef3a6fa-6ab1-4fbd-a0b0-d9e5dea31986",
   "metadata": {},
   "outputs": [],
   "source": []
  },
  {
   "cell_type": "code",
   "execution_count": null,
   "id": "9701e3ff-d679-494e-9671-88a50f30919e",
   "metadata": {},
   "outputs": [],
   "source": []
  },
  {
   "cell_type": "code",
   "execution_count": null,
   "id": "d461b710-4c45-4923-bbda-3adb3c988fd1",
   "metadata": {},
   "outputs": [],
   "source": []
  },
  {
   "cell_type": "code",
   "execution_count": null,
   "id": "7f638802-34e7-442d-9985-b804fc36a3f9",
   "metadata": {},
   "outputs": [],
   "source": []
  },
  {
   "cell_type": "code",
   "execution_count": null,
   "id": "d1acba62-b7e3-4748-9a66-e95dd46f9a8e",
   "metadata": {},
   "outputs": [],
   "source": []
  },
  {
   "cell_type": "code",
   "execution_count": null,
   "id": "690707ab-8505-4761-aed1-0c157974c716",
   "metadata": {},
   "outputs": [],
   "source": []
  },
  {
   "cell_type": "code",
   "execution_count": null,
   "id": "19233c0b-39d8-4876-b602-8a9c47772597",
   "metadata": {},
   "outputs": [],
   "source": []
  },
  {
   "cell_type": "code",
   "execution_count": null,
   "id": "9010d13c-ce23-40eb-ba14-95efcd9c1af9",
   "metadata": {},
   "outputs": [],
   "source": []
  },
  {
   "cell_type": "code",
   "execution_count": null,
   "id": "101ce54a-eb27-4571-9fa0-04e6cd76f5a3",
   "metadata": {},
   "outputs": [],
   "source": []
  },
  {
   "cell_type": "code",
   "execution_count": null,
   "id": "78e7920f-1fb8-47cf-9a12-4de92cff8fab",
   "metadata": {},
   "outputs": [],
   "source": []
  },
  {
   "cell_type": "code",
   "execution_count": null,
   "id": "52cc45ed-4732-45e3-a79e-2e6e5c86b055",
   "metadata": {},
   "outputs": [],
   "source": []
  },
  {
   "cell_type": "code",
   "execution_count": null,
   "id": "bc5bba76-58a3-484c-9371-4e4722115f61",
   "metadata": {},
   "outputs": [],
   "source": []
  },
  {
   "cell_type": "code",
   "execution_count": null,
   "id": "eacc2b04-28c3-4897-b6e7-ee905748a12f",
   "metadata": {},
   "outputs": [],
   "source": []
  },
  {
   "cell_type": "code",
   "execution_count": null,
   "id": "a0a95381-c9b3-49b3-bf94-49d1bf28ee14",
   "metadata": {},
   "outputs": [],
   "source": []
  },
  {
   "cell_type": "code",
   "execution_count": null,
   "id": "548d5bb7-9cf2-4b1f-8359-48556b4818bd",
   "metadata": {},
   "outputs": [],
   "source": []
  },
  {
   "cell_type": "code",
   "execution_count": null,
   "id": "b28d10ff-ecde-46fe-b6fc-8eb75f90366a",
   "metadata": {},
   "outputs": [],
   "source": []
  }
 ],
 "metadata": {
  "kernelspec": {
   "display_name": "Python 3 (ipykernel)",
   "language": "python",
   "name": "python3"
  },
  "language_info": {
   "codemirror_mode": {
    "name": "ipython",
    "version": 3
   },
   "file_extension": ".py",
   "mimetype": "text/x-python",
   "name": "python",
   "nbconvert_exporter": "python",
   "pygments_lexer": "ipython3",
   "version": "3.13.5"
  }
 },
 "nbformat": 4,
 "nbformat_minor": 5
}

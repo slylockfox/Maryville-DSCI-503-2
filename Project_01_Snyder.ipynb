{
 "cells": [
  {
   "cell_type": "markdown",
   "id": "e64368f0-4959-47f9-bfc8-f1b2fc94476c",
   "metadata": {},
   "source": [
    "# DSCI 503 – Project 01\n",
    "### Matt Snyder"
   ]
  },
  {
   "cell_type": "markdown",
   "id": "accbcce7-592e-4c2c-8cfb-8afd7b19c2ef",
   "metadata": {},
   "source": [
    "# Introduction\n",
    "Experiments with socioeconomic data spanning 219 years and 184 countries"
   ]
  },
  {
   "cell_type": "code",
   "execution_count": 2,
   "id": "191c04f4-ba31-4c8a-874d-41c4eb99b0db",
   "metadata": {},
   "outputs": [
    {
     "data": {
      "text/html": [
       "<div>\n",
       "<style scoped>\n",
       "    .dataframe tbody tr th:only-of-type {\n",
       "        vertical-align: middle;\n",
       "    }\n",
       "\n",
       "    .dataframe tbody tr th {\n",
       "        vertical-align: top;\n",
       "    }\n",
       "\n",
       "    .dataframe thead th {\n",
       "        text-align: right;\n",
       "    }\n",
       "</style>\n",
       "<table border=\"1\" class=\"dataframe\">\n",
       "  <thead>\n",
       "    <tr style=\"text-align: right;\">\n",
       "      <th></th>\n",
       "      <th>country</th>\n",
       "      <th>year</th>\n",
       "      <th>continent</th>\n",
       "      <th>population</th>\n",
       "      <th>life_exp</th>\n",
       "      <th>gdp_per_cap</th>\n",
       "      <th>gini</th>\n",
       "    </tr>\n",
       "  </thead>\n",
       "  <tbody>\n",
       "    <tr>\n",
       "      <th>0</th>\n",
       "      <td>Afghanistan</td>\n",
       "      <td>1800</td>\n",
       "      <td>asia</td>\n",
       "      <td>3280000</td>\n",
       "      <td>28.2</td>\n",
       "      <td>603</td>\n",
       "      <td>30.5</td>\n",
       "    </tr>\n",
       "    <tr>\n",
       "      <th>1</th>\n",
       "      <td>Albania</td>\n",
       "      <td>1800</td>\n",
       "      <td>europe</td>\n",
       "      <td>410000</td>\n",
       "      <td>35.4</td>\n",
       "      <td>667</td>\n",
       "      <td>38.9</td>\n",
       "    </tr>\n",
       "    <tr>\n",
       "      <th>2</th>\n",
       "      <td>Algeria</td>\n",
       "      <td>1800</td>\n",
       "      <td>africa</td>\n",
       "      <td>2500000</td>\n",
       "      <td>28.8</td>\n",
       "      <td>715</td>\n",
       "      <td>56.2</td>\n",
       "    </tr>\n",
       "    <tr>\n",
       "      <th>3</th>\n",
       "      <td>Angola</td>\n",
       "      <td>1800</td>\n",
       "      <td>africa</td>\n",
       "      <td>1570000</td>\n",
       "      <td>27.0</td>\n",
       "      <td>618</td>\n",
       "      <td>57.2</td>\n",
       "    </tr>\n",
       "    <tr>\n",
       "      <th>4</th>\n",
       "      <td>Antigua and Barbuda</td>\n",
       "      <td>1800</td>\n",
       "      <td>americas</td>\n",
       "      <td>37000</td>\n",
       "      <td>33.5</td>\n",
       "      <td>757</td>\n",
       "      <td>40.0</td>\n",
       "    </tr>\n",
       "    <tr>\n",
       "      <th>5</th>\n",
       "      <td>Argentina</td>\n",
       "      <td>1800</td>\n",
       "      <td>americas</td>\n",
       "      <td>534000</td>\n",
       "      <td>33.2</td>\n",
       "      <td>1510</td>\n",
       "      <td>47.7</td>\n",
       "    </tr>\n",
       "    <tr>\n",
       "      <th>6</th>\n",
       "      <td>Armenia</td>\n",
       "      <td>1800</td>\n",
       "      <td>europe</td>\n",
       "      <td>413000</td>\n",
       "      <td>34.0</td>\n",
       "      <td>514</td>\n",
       "      <td>31.5</td>\n",
       "    </tr>\n",
       "    <tr>\n",
       "      <th>7</th>\n",
       "      <td>Australia</td>\n",
       "      <td>1800</td>\n",
       "      <td>asia</td>\n",
       "      <td>351000</td>\n",
       "      <td>34.0</td>\n",
       "      <td>814</td>\n",
       "      <td>38.7</td>\n",
       "    </tr>\n",
       "    <tr>\n",
       "      <th>8</th>\n",
       "      <td>Austria</td>\n",
       "      <td>1800</td>\n",
       "      <td>europe</td>\n",
       "      <td>3210000</td>\n",
       "      <td>34.4</td>\n",
       "      <td>1850</td>\n",
       "      <td>33.4</td>\n",
       "    </tr>\n",
       "    <tr>\n",
       "      <th>9</th>\n",
       "      <td>Azerbaijan</td>\n",
       "      <td>1800</td>\n",
       "      <td>europe</td>\n",
       "      <td>880000</td>\n",
       "      <td>29.2</td>\n",
       "      <td>775</td>\n",
       "      <td>70.5</td>\n",
       "    </tr>\n",
       "  </tbody>\n",
       "</table>\n",
       "</div>"
      ],
      "text/plain": [
       "               country  year continent  population  life_exp  gdp_per_cap  \\\n",
       "0          Afghanistan  1800      asia     3280000      28.2          603   \n",
       "1              Albania  1800    europe      410000      35.4          667   \n",
       "2              Algeria  1800    africa     2500000      28.8          715   \n",
       "3               Angola  1800    africa     1570000      27.0          618   \n",
       "4  Antigua and Barbuda  1800  americas       37000      33.5          757   \n",
       "5            Argentina  1800  americas      534000      33.2         1510   \n",
       "6              Armenia  1800    europe      413000      34.0          514   \n",
       "7            Australia  1800      asia      351000      34.0          814   \n",
       "8              Austria  1800    europe     3210000      34.4         1850   \n",
       "9           Azerbaijan  1800    europe      880000      29.2          775   \n",
       "\n",
       "   gini  \n",
       "0  30.5  \n",
       "1  38.9  \n",
       "2  56.2  \n",
       "3  57.2  \n",
       "4  40.0  \n",
       "5  47.7  \n",
       "6  31.5  \n",
       "7  38.7  \n",
       "8  33.4  \n",
       "9  70.5  "
      ]
     },
     "execution_count": 2,
     "metadata": {},
     "output_type": "execute_result"
    }
   ],
   "source": [
    "import pandas as pd\n",
    "df = pd.read_csv('gapminder_data.txt', sep='\\t')\n",
    "df.head(10)"
   ]
  },
  {
   "cell_type": "code",
   "execution_count": 3,
   "id": "8176713b-50e1-4a69-a8f7-9669fe844143",
   "metadata": {},
   "outputs": [],
   "source": [
    "country = df.country.to_list()\n",
    "continent = df.continent.to_list()\n",
    "year = df.year.to_list()\n",
    "population = df.population.to_list()\n",
    "life_exp = df.life_exp.to_list()\n",
    "pcgdp = df.gdp_per_cap.to_list()\n",
    "gini = df.gini.to_list()"
   ]
  },
  {
   "cell_type": "code",
   "execution_count": 4,
   "id": "eaf2eb0a-cf34-4a7a-bd5e-cf80847b770d",
   "metadata": {},
   "outputs": [
    {
     "name": "stdout",
     "output_type": "stream",
     "text": [
      "Country:  Sierra Leone\n",
      "Continent:  africa\n",
      "Year:  1920\n",
      "Population:  1670000\n",
      "Life Expectancy:  29.1\n",
      "Per Capita GDP:  1170\n",
      "Gini Index:  45.1\n"
     ]
    }
   ],
   "source": [
    "N = 22222\n",
    "print('Country: ', country[N])\n",
    "print('Continent: ', continent[N])\n",
    "print('Year: ' , year[N])\n",
    "print('Population: ', population[N])\n",
    "print('Life Expectancy: ', life_exp[N])\n",
    "print('Per Capita GDP: ', pcgdp[N])\n",
    "print('Gini Index: ', gini[N])"
   ]
  },
  {
   "cell_type": "markdown",
   "id": "721270cd-cdd1-4b59-9142-e947a90baa47",
   "metadata": {},
   "source": [
    "# Part 1: Displaying Past 20 Years of US Data\n",
    "Extract and display US records from 1999"
   ]
  },
  {
   "cell_type": "code",
   "execution_count": 54,
   "id": "d428e9ab-125d-4838-87d1-2c717ac85c95",
   "metadata": {},
   "outputs": [
    {
     "name": "stdout",
     "output_type": "stream",
     "text": [
      "Year    Country          Population   LExp    pcGDP    Gini\n",
      "-----------------------------------------------------------\n",
      "1999    United States    279000000    76.8    44700    40.5\n",
      "2000    United States    282000000    76.9    46000    40.5\n",
      "2001    United States    285000000    77.0    46000    40.5\n",
      "2002    United States    288000000    77.1    46400    40.5\n",
      "2003    United States    290000000    77.3    47300    40.5\n",
      "2004    United States    293000000    77.5    48600    40.6\n",
      "2005    United States    295000000    77.7    49800    40.7\n",
      "2006    United States    298000000    77.9    50600    40.8\n",
      "2007    United States    301000000    78.1    51000    40.8\n",
      "2008    United States    303000000    78.3    50400    40.8\n",
      "2009    United States    306000000    78.6    48600    40.7\n",
      "2010    United States    309000000    78.7    49400    40.7\n",
      "2011    United States    311000000    78.8    49800    40.7\n",
      "2012    United States    313000000    78.9    50500    40.8\n",
      "2013    United States    316000000    78.9    51000    41.0\n",
      "2014    United States    318000000    78.9    51800    41.2\n",
      "2015    United States    320000000    78.8    52800    41.3\n",
      "2016    United States    322000000    78.8    53300    41.4\n",
      "2017    United States    324000000    79.0    54200    41.5\n",
      "2018    United States    327000000    79.1    54900    41.5\n"
     ]
    }
   ],
   "source": [
    "us_indices = [index for index, value in enumerate(country) if value == 'United States']\n",
    "\n",
    "print ('Year    Country          Population   LExp    pcGDP    Gini')\n",
    "print ('-----------------------------------------------------------')\n",
    "\n",
    "for i in us_indices:\n",
    "    if year[i] >= 1999:\n",
    "        print(f'{year[i]:<8}{country[i]:<17}{population[i]:<13}{life_exp[i]:<8}{pcgdp[i]:<9}{gini[i]:<4}')"
   ]
  },
  {
   "cell_type": "markdown",
   "id": "28811665-353a-40db-93e9-c6c600f8ccc9",
   "metadata": {},
   "source": [
    "# Part 2: Selecting the 2018 Data\n",
    "Extract all records from 2018 and calculate global population in that year"
   ]
  },
  {
   "cell_type": "code",
   "execution_count": 58,
   "id": "bd957e15-6e47-4651-95ce-ba76af475d92",
   "metadata": {},
   "outputs": [],
   "source": [
    "# Create six empty lists named: country_2018, population_2018, continent_2018, life_exp_2018, pcgdp_2018, and gini_2018.\n",
    "# Populate the new lists by looping over the original lists. At each iteration of the loop, check to see if the\n",
    "# associated record is from 2018. It is is, store each piece of the record in one of the six new lists, as appopriate.\n",
    "country_2018 = []\n",
    "population_2018 = []\n",
    "continent_2018 = []\n",
    "life_exp_2018 = []\n",
    "pcgdp_2018 = []\n",
    "gini_2018 = []\n",
    "for i in range(0, len(country)):\n",
    "    if year[i] == 2018:\n",
    "        country_2018.append(country[i])\n",
    "        population_2018.append(population[i])\n",
    "        continent_2018.append(continent[i])\n",
    "        life_exp_2018.append(life_exp[i])\n",
    "        pcgdp_2018.append(pcgdp[i])\n",
    "        gini_2018.append(gini[i])    "
   ]
  },
  {
   "cell_type": "code",
   "execution_count": 59,
   "id": "b2558d36-ac0a-47e1-aeb2-bbe2c7fdaee8",
   "metadata": {},
   "outputs": [
    {
     "name": "stdout",
     "output_type": "stream",
     "text": [
      "The global population in 2018 was 7595200200.\n"
     ]
    }
   ],
   "source": [
    "# Use the sum() function to calculate the total population of the world in 2018, storing the result in a variable global_population_2018. Print this result in the following format:\n",
    "global_population_2018 = sum(population_2018)\n",
    "print (f'The global population in 2018 was {global_population_2018}.')"
   ]
  },
  {
   "cell_type": "markdown",
   "id": "2b71052d-59f6-4dd9-90d5-669dc978fd16",
   "metadata": {},
   "source": [
    "# Part 3: Identifying Countries with Largest and Smallest Populations\n",
    "Sort populations to find a range of 10 at the top and bottom, and list those countries"
   ]
  },
  {
   "cell_type": "code",
   "execution_count": 61,
   "id": "4a5d12de-8707-452f-badf-a7ab225d4528",
   "metadata": {},
   "outputs": [
    {
     "name": "stdout",
     "output_type": "stream",
     "text": [
      "Countries with Largest Populations in 2018\n",
      "------------------------------------------------------\n",
      "The population of Bangladesh in 2018 was 166000000.\n",
      "The population of Brazil in 2018 was 211000000.\n",
      "The population of China in 2018 was 1420000000.\n",
      "The population of India in 2018 was 1350000000.\n",
      "The population of Indonesia in 2018 was 267000000.\n",
      "The population of Mexico in 2018 was 131000000.\n",
      "The population of Nigeria in 2018 was 196000000.\n",
      "The population of Pakistan in 2018 was 201000000.\n",
      "The population of Russia in 2018 was 144000000.\n",
      "The population of United States in 2018 was 327000000.\n"
     ]
    }
   ],
   "source": [
    "# Create a sorted copy of the list population_2018. Store this new list in a variable. Note the the list population_2018 should NOT itself be sorted.\n",
    "sorted_pop_2018 = sorted(population_2018)\n",
    "\n",
    "# Use the sorted list to determine the population of the country with the tenth largest population. Store the results in a variable.\n",
    "tenth_highest_pop = sorted_pop_2018[-10]\n",
    "\n",
    "# Print the first two lines displayed in the sample output shown below.\n",
    "print ('Countries with Largest Populations in 2018')\n",
    "print ('------------------------------------------------------')\n",
    "\n",
    "# Use a loop to print information for each country with a population greater than or equal to the value you found in Step 2 \n",
    "for i in range(0, len(country_2018)):\n",
    "    if population_2018[i] >= tenth_highest_pop:\n",
    "        print (f'The population of {country_2018[i]} in 2018 was {population_2018[i]}.')"
   ]
  },
  {
   "cell_type": "code",
   "execution_count": 63,
   "id": "753fbbd0-3da8-4f37-bd6b-c25a5e2001f6",
   "metadata": {},
   "outputs": [
    {
     "name": "stdout",
     "output_type": "stream",
     "text": [
      "Countries with Smallest Populations in 2018\n",
      "------------------------------------------------------\n",
      "The population of Antigua and Barbuda in 2018 was 103000.\n",
      "The population of Grenada in 2018 was 108000.\n",
      "The population of Kiribati in 2018 was 118000.\n",
      "The population of Micronesia, Fed. Sts. in 2018 was 106000.\n",
      "The population of Samoa in 2018 was 198000.\n",
      "The population of Sao Tome and Principe in 2018 was 209000.\n",
      "The population of Seychelles in 2018 was 95200.\n",
      "The population of St. Lucia in 2018 was 180000.\n",
      "The population of St. Vincent and the Grenadines in 2018 was 110000.\n",
      "The population of Tonga in 2018 was 109000.\n"
     ]
    }
   ],
   "source": [
    "tenth_lowest_pop = sorted_pop_2018[9]\n",
    "\n",
    "print ('Countries with Smallest Populations in 2018')\n",
    "print ('------------------------------------------------------')\n",
    "\n",
    "for i in range(0, len(country_2018)):\n",
    "    if population_2018[i] <= tenth_lowest_pop:\n",
    "        print (f'The population of {country_2018[i]} in 2018 was {population_2018[i]}.')"
   ]
  },
  {
   "cell_type": "markdown",
   "id": "383d7d49-dfcc-422a-9697-35242efad3ad",
   "metadata": {},
   "source": [
    "# Part 4: Identifying Countries with Highest and Lowest Life Expectancies\n",
    "Sort life expectancies to find a range of 10 at the top and bottom, and list those countries"
   ]
  },
  {
   "cell_type": "code",
   "execution_count": 65,
   "id": "f4683da4-1e4b-4470-891d-5b565f80d60a",
   "metadata": {},
   "outputs": [
    {
     "name": "stdout",
     "output_type": "stream",
     "text": [
      "Countries with Highest Life Expectancy in 2018\n",
      "------------------------------------------------------\n",
      "The life expectancy of Australia in 2018 was 82.9.\n",
      "The life expectancy of France in 2018 was 82.6.\n",
      "The life expectancy of Iceland in 2018 was 82.6.\n",
      "The life expectancy of Israel in 2018 was 82.4.\n",
      "The life expectancy of Italy in 2018 was 82.6.\n",
      "The life expectancy of Japan in 2018 was 84.2.\n",
      "The life expectancy of Luxembourg in 2018 was 82.4.\n",
      "The life expectancy of Norway in 2018 was 82.4.\n",
      "The life expectancy of Singapore in 2018 was 84.0.\n",
      "The life expectancy of Spain in 2018 was 83.2.\n",
      "The life expectancy of Sweden in 2018 was 82.4.\n",
      "The life expectancy of Switzerland in 2018 was 83.5.\n",
      "\n",
      "\n",
      "Countries with Lowest Life Expectancy in 2018\n",
      "------------------------------------------------------\n",
      "The life expectancy of Afghanistan in 2018 was 58.7.\n",
      "The life expectancy of Central African Republic in 2018 was 51.6.\n",
      "The life expectancy of Chad in 2018 was 60.5.\n",
      "The life expectancy of Guinea-Bissau in 2018 was 59.7.\n",
      "The life expectancy of Lesotho in 2018 was 51.1.\n",
      "The life expectancy of Sierra Leone in 2018 was 60.0.\n",
      "The life expectancy of Somalia in 2018 was 58.0.\n",
      "The life expectancy of Swaziland in 2018 was 58.6.\n",
      "The life expectancy of Zambia in 2018 was 59.5.\n",
      "The life expectancy of Zimbabwe in 2018 was 60.2.\n"
     ]
    }
   ],
   "source": [
    "sorted_life_2018 = sorted(life_exp_2018)\n",
    "tenth_highest_life = sorted_life_2018[-10]\n",
    "tenth_lowest_life = sorted_life_2018[9]\n",
    "\n",
    "print ('Countries with Highest Life Expectancy in 2018')\n",
    "print ('------------------------------------------------------')\n",
    "for i in range(0, len(country_2018)):\n",
    "    if life_exp_2018[i] >= tenth_highest_life:\n",
    "        print (f'The life expectancy of {country_2018[i]} in 2018 was {life_exp_2018[i]}.')\n",
    "print ('\\n')\n",
    "print ('Countries with Lowest Life Expectancy in 2018')\n",
    "print ('------------------------------------------------------')\n",
    "for i in range(0, len(country_2018)):\n",
    "    if life_exp_2018[i] <= tenth_lowest_life:\n",
    "        print (f'The life expectancy of {country_2018[i]} in 2018 was {life_exp_2018[i]}.')\n"
   ]
  },
  {
   "cell_type": "markdown",
   "id": "ce6633d1-229a-4c0b-b8b8-637f742049c9",
   "metadata": {},
   "source": [
    "# Part 5: Calculating GDP by Country"
   ]
  },
  {
   "cell_type": "code",
   "execution_count": 69,
   "id": "9ca19fb3-d2cb-4417-b608-b1a263711564",
   "metadata": {},
   "outputs": [
    {
     "name": "stdout",
     "output_type": "stream",
     "text": [
      "The total global GDP in 2018 was $118225647770000.\n"
     ]
    }
   ],
   "source": [
    "# Create an empty list named gdp_2018. Use a loop to populate this list. Each new element of the list should be equal to\n",
    "# the total GDP of a single country in 2018. The order of the elements in this new list should match that of the other lists for the 2018 data.\n",
    "gdp_2018 = []\n",
    "for i in range(0, len(country_2018)):\n",
    "    gdp_2018.append(pcgdp_2018[i] * population_2018[i])\n",
    "\n",
    "# Use sum() to find the sum of gdp_2018, displaying the result with a message in the format shown below.\n",
    "global_gdp = sum(gdp_2018)\n",
    "print (f'The total global GDP in 2018 was ${global_gdp}.')"
   ]
  },
  {
   "cell_type": "code",
   "execution_count": 74,
   "id": "89114ea3-2812-44b4-87c6-51cd4190187e",
   "metadata": {},
   "outputs": [
    {
     "name": "stdout",
     "output_type": "stream",
     "text": [
      "The country with the highest GDP in 2018 was China with a GDP of 22720000000000.\n",
      "The country with the lowest GDP in 2018 was Kiribati with a GDP of 223020000.\n"
     ]
    }
   ],
   "source": [
    "# Use the min() and max() functions and the index() method to find the country with the highest GDP in 2018 as well as the country with the lowest GDP in 2018.\n",
    "highest_gdp = max(gdp_2018)\n",
    "lowest_gdp = min(gdp_2018)\n",
    "highest_gdp_index = gdp_2018.index(highest_gdp)\n",
    "lowest_gdp_index = gdp_2018.index(lowest_gdp)\n",
    "print (f'The country with the highest GDP in 2018 was {country_2018[highest_gdp_index]} with a GDP of {gdp_2018[highest_gdp_index]}.')\n",
    "print (f'The country with the lowest GDP in 2018 was {country_2018[lowest_gdp_index]} with a GDP of {gdp_2018[lowest_gdp_index]}.')"
   ]
  },
  {
   "cell_type": "code",
   "execution_count": null,
   "id": "0d0cf104-3dc8-4ff8-a486-d8f0d576e57b",
   "metadata": {},
   "outputs": [],
   "source": []
  },
  {
   "cell_type": "code",
   "execution_count": null,
   "id": "c05727a1-02ae-4818-8f36-28eee95b1fd0",
   "metadata": {},
   "outputs": [],
   "source": []
  },
  {
   "cell_type": "code",
   "execution_count": null,
   "id": "fbcc4d56-22f3-4a20-8544-b3048ab2530d",
   "metadata": {},
   "outputs": [],
   "source": []
  },
  {
   "cell_type": "code",
   "execution_count": null,
   "id": "54b39844-c643-4d9d-8dd0-2373c9c4ae0f",
   "metadata": {},
   "outputs": [],
   "source": []
  },
  {
   "cell_type": "code",
   "execution_count": null,
   "id": "24601852-07f2-402a-8f32-03a4b8a5beee",
   "metadata": {},
   "outputs": [],
   "source": []
  },
  {
   "cell_type": "code",
   "execution_count": null,
   "id": "8737afe7-5cf1-446d-94ec-0dd99cab4d9c",
   "metadata": {},
   "outputs": [],
   "source": []
  },
  {
   "cell_type": "code",
   "execution_count": null,
   "id": "d04e2742-cd73-40ad-957f-bf7df1528743",
   "metadata": {},
   "outputs": [],
   "source": []
  },
  {
   "cell_type": "code",
   "execution_count": null,
   "id": "817f8e4b-fba8-4cbc-b674-1010a79d6211",
   "metadata": {},
   "outputs": [],
   "source": []
  },
  {
   "cell_type": "code",
   "execution_count": null,
   "id": "c6a432fe-5ede-45bf-b991-71bfdd93c5d6",
   "metadata": {},
   "outputs": [],
   "source": []
  },
  {
   "cell_type": "code",
   "execution_count": null,
   "id": "3a2c7324-e5b5-4eb5-ab81-5ba34b973890",
   "metadata": {},
   "outputs": [],
   "source": []
  },
  {
   "cell_type": "code",
   "execution_count": null,
   "id": "2573576e-dfda-4508-83ff-8f6f0a607476",
   "metadata": {},
   "outputs": [],
   "source": []
  },
  {
   "cell_type": "code",
   "execution_count": null,
   "id": "82257c39-0fc9-4883-83c5-50c81abc1c16",
   "metadata": {},
   "outputs": [],
   "source": []
  },
  {
   "cell_type": "code",
   "execution_count": null,
   "id": "74a9cbbb-aa53-4bdf-8b6d-87eb924db683",
   "metadata": {},
   "outputs": [],
   "source": []
  },
  {
   "cell_type": "code",
   "execution_count": null,
   "id": "fbcc0494-b637-4c49-bf40-339ddb3bc7aa",
   "metadata": {},
   "outputs": [],
   "source": []
  },
  {
   "cell_type": "code",
   "execution_count": null,
   "id": "705df66b-ffdf-4dc4-97ae-474d8c36865f",
   "metadata": {},
   "outputs": [],
   "source": []
  },
  {
   "cell_type": "code",
   "execution_count": null,
   "id": "c29533bc-14c3-494c-99b4-0960cd9628fe",
   "metadata": {},
   "outputs": [],
   "source": []
  },
  {
   "cell_type": "code",
   "execution_count": null,
   "id": "502a8ec6-057f-42c5-a574-15b8c8314bbb",
   "metadata": {},
   "outputs": [],
   "source": []
  },
  {
   "cell_type": "code",
   "execution_count": null,
   "id": "dc2408b2-5254-4d02-b420-07be6c4a0569",
   "metadata": {},
   "outputs": [],
   "source": []
  },
  {
   "cell_type": "code",
   "execution_count": null,
   "id": "96532c53-c14f-49a6-acc0-65384c427687",
   "metadata": {},
   "outputs": [],
   "source": []
  }
 ],
 "metadata": {
  "kernelspec": {
   "display_name": "Python 3 (ipykernel)",
   "language": "python",
   "name": "python3"
  },
  "language_info": {
   "codemirror_mode": {
    "name": "ipython",
    "version": 3
   },
   "file_extension": ".py",
   "mimetype": "text/x-python",
   "name": "python",
   "nbconvert_exporter": "python",
   "pygments_lexer": "ipython3",
   "version": "3.13.5"
  }
 },
 "nbformat": 4,
 "nbformat_minor": 5
}

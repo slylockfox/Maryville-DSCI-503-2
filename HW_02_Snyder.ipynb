{
 "cells": [
  {
   "cell_type": "markdown",
   "id": "715abc4f-6a3e-4599-b829-5ba1a0539397",
   "metadata": {},
   "source": [
    "# DSCI 503 - Homework 02\n",
    "### Matt Snyder"
   ]
  },
  {
   "cell_type": "markdown",
   "id": "0c1b7670-5373-4848-9190-1918eef1cda4",
   "metadata": {},
   "source": [
    "## Problem 1: Altering Lists"
   ]
  },
  {
   "cell_type": "code",
   "execution_count": 14,
   "id": "232e8545-42b0-4df5-9c99-6d04ebca79aa",
   "metadata": {},
   "outputs": [],
   "source": [
    "employees = ['Beth', 'Fred', 'Drew', 'Alex', 'Emma', 'Chad']\n",
    "years = [15, 11, 8, 5, 4, 2]"
   ]
  },
  {
   "cell_type": "code",
   "execution_count": 15,
   "id": "b1a7ceb7-43d9-4660-b6d1-cd9b00c20dad",
   "metadata": {},
   "outputs": [
    {
     "name": "stdout",
     "output_type": "stream",
     "text": [
      "['Beth', 'Gina', 'Fred', 'Drew', 'Alex', 'Emma', 'Herb', 'Chad'] [15, 12, 11, 8, 5, 4, 3, 2]\n"
     ]
    }
   ],
   "source": [
    "for new_name, new_years in [('Gina', 12), ('Herb', 3)]:\n",
    "    insert_position = len(employees)\n",
    "    for i in range (0, len(employees)):\n",
    "        if years[i] < new_years:\n",
    "            insert_position = i\n",
    "            break\n",
    "    employees.insert(insert_position, new_name)\n",
    "    years.insert(insert_position, new_years)\n",
    "print (employees, years)"
   ]
  },
  {
   "cell_type": "code",
   "execution_count": null,
   "id": "49e1dbb3-9be1-4d3c-b635-824f17b91f03",
   "metadata": {},
   "outputs": [],
   "source": []
  },
  {
   "cell_type": "code",
   "execution_count": null,
   "id": "8e6f2ef7-d28e-47ac-96bd-3089bbfcdbf8",
   "metadata": {},
   "outputs": [],
   "source": []
  },
  {
   "cell_type": "code",
   "execution_count": null,
   "id": "4a5bbefe-c70f-40b3-b0b8-5b15ac3ebc2a",
   "metadata": {},
   "outputs": [],
   "source": []
  },
  {
   "cell_type": "code",
   "execution_count": null,
   "id": "6d68c385-b732-451b-94ac-2a780567ec66",
   "metadata": {},
   "outputs": [],
   "source": []
  },
  {
   "cell_type": "code",
   "execution_count": null,
   "id": "c4b3359b-afb3-4b06-8ebc-750237f42e92",
   "metadata": {},
   "outputs": [],
   "source": []
  },
  {
   "cell_type": "code",
   "execution_count": null,
   "id": "c2e7567e-e57a-4114-927a-8fa324c5a3c7",
   "metadata": {},
   "outputs": [],
   "source": []
  },
  {
   "cell_type": "code",
   "execution_count": null,
   "id": "f9f13d81-046e-4226-969f-fa52730cb9ac",
   "metadata": {},
   "outputs": [],
   "source": []
  },
  {
   "cell_type": "code",
   "execution_count": null,
   "id": "cc0517ff-6185-43c6-9445-566b523c1f75",
   "metadata": {},
   "outputs": [],
   "source": []
  },
  {
   "cell_type": "code",
   "execution_count": null,
   "id": "775603ca-04d4-4a19-9abb-83360981c1c2",
   "metadata": {},
   "outputs": [],
   "source": []
  },
  {
   "cell_type": "code",
   "execution_count": null,
   "id": "b1e0801d-6536-4139-ae9f-a4d36afad4cb",
   "metadata": {},
   "outputs": [],
   "source": []
  },
  {
   "cell_type": "code",
   "execution_count": null,
   "id": "d3add4d8-7f6d-42a3-99d4-e34744b5f148",
   "metadata": {},
   "outputs": [],
   "source": []
  },
  {
   "cell_type": "code",
   "execution_count": null,
   "id": "c8550785-bdd7-4f87-8596-7789adcf88d3",
   "metadata": {},
   "outputs": [],
   "source": []
  },
  {
   "cell_type": "code",
   "execution_count": null,
   "id": "e8d4268d-df68-4821-a7b7-d0762d860e9b",
   "metadata": {},
   "outputs": [],
   "source": []
  },
  {
   "cell_type": "code",
   "execution_count": null,
   "id": "070f62b8-074c-4011-93f9-f9f900fb2229",
   "metadata": {},
   "outputs": [],
   "source": []
  },
  {
   "cell_type": "code",
   "execution_count": null,
   "id": "9aa1d192-1145-47a3-813f-1692b2de88b1",
   "metadata": {},
   "outputs": [],
   "source": []
  },
  {
   "cell_type": "code",
   "execution_count": null,
   "id": "e198bc55-4beb-4289-90ba-c901f746c6a9",
   "metadata": {},
   "outputs": [],
   "source": []
  },
  {
   "cell_type": "code",
   "execution_count": null,
   "id": "fb6fb00d-f0eb-43cc-a7bf-2b789e694efc",
   "metadata": {},
   "outputs": [],
   "source": []
  },
  {
   "cell_type": "code",
   "execution_count": null,
   "id": "fc8a1b47-ce25-4b94-9204-f94ef57ab595",
   "metadata": {},
   "outputs": [],
   "source": []
  },
  {
   "cell_type": "code",
   "execution_count": null,
   "id": "0aefa4fb-6723-45af-9ee0-0fcb7f64c879",
   "metadata": {},
   "outputs": [],
   "source": []
  },
  {
   "cell_type": "code",
   "execution_count": null,
   "id": "3ea7edd6-13e8-4b70-8346-672d52895be7",
   "metadata": {},
   "outputs": [],
   "source": []
  },
  {
   "cell_type": "code",
   "execution_count": null,
   "id": "7235b4ae-9643-41b8-a2ea-dc22df74ff26",
   "metadata": {},
   "outputs": [],
   "source": []
  },
  {
   "cell_type": "code",
   "execution_count": null,
   "id": "0d9b10e2-4809-421a-bdab-7b6eab6889f3",
   "metadata": {},
   "outputs": [],
   "source": []
  },
  {
   "cell_type": "code",
   "execution_count": null,
   "id": "1285ae0a-ca64-4746-8bab-1ca7ffb03e8b",
   "metadata": {},
   "outputs": [],
   "source": []
  },
  {
   "cell_type": "code",
   "execution_count": null,
   "id": "33dd412c-5032-4f20-aa1a-c1a6cac0d656",
   "metadata": {},
   "outputs": [],
   "source": []
  },
  {
   "cell_type": "code",
   "execution_count": null,
   "id": "a09997c3-8579-45e6-852b-1ebdecec6a0a",
   "metadata": {},
   "outputs": [],
   "source": []
  },
  {
   "cell_type": "code",
   "execution_count": null,
   "id": "b304ab12-5e66-4356-a01c-1ae45ac92525",
   "metadata": {},
   "outputs": [],
   "source": []
  }
 ],
 "metadata": {
  "kernelspec": {
   "display_name": "Python 3 (ipykernel)",
   "language": "python",
   "name": "python3"
  },
  "language_info": {
   "codemirror_mode": {
    "name": "ipython",
    "version": 3
   },
   "file_extension": ".py",
   "mimetype": "text/x-python",
   "name": "python",
   "nbconvert_exporter": "python",
   "pygments_lexer": "ipython3",
   "version": "3.13.5"
  }
 },
 "nbformat": 4,
 "nbformat_minor": 5
}

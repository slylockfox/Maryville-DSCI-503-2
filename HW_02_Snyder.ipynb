{
 "cells": [
  {
   "cell_type": "markdown",
   "id": "715abc4f-6a3e-4599-b829-5ba1a0539397",
   "metadata": {},
   "source": [
    "# DSCI 503 - Homework 02\n",
    "### Matt Snyder"
   ]
  },
  {
   "cell_type": "markdown",
   "id": "0c1b7670-5373-4848-9190-1918eef1cda4",
   "metadata": {},
   "source": [
    "## Problem 1: Altering Lists"
   ]
  },
  {
   "cell_type": "code",
   "execution_count": 35,
   "id": "232e8545-42b0-4df5-9c99-6d04ebca79aa",
   "metadata": {},
   "outputs": [],
   "source": [
    "# Create two lists. One should be named employees and should contain the names of the employees as strings. The second should be named years and should contain the number of years of service for each employee, stored as integers.\n",
    "employees = ['Beth', 'Fred', 'Drew', 'Alex', 'Emma', 'Chad']\n",
    "years = [15, 11, 8, 5, 4, 2]"
   ]
  },
  {
   "cell_type": "code",
   "execution_count": 36,
   "id": "b1a7ceb7-43d9-4660-b6d1-cd9b00c20dad",
   "metadata": {},
   "outputs": [
    {
     "name": "stdout",
     "output_type": "stream",
     "text": [
      "['Beth', 'Gina', 'Fred', 'Drew', 'Alex', 'Emma', 'Herb', 'Chad', 'Iris'] [15, 12, 11, 8, 5, 4, 3, 2, 0]\n"
     ]
    }
   ],
   "source": [
    "# Suppose that two employees from other departments transfer to this department. The new members are named Gina and Herb. \n",
    "# Gina has 12 years of service at the company and Herb has 3 years of experience.\n",
    "# In addition, the company hire a new employee, Iris, to join the department. Iris has 0 years of experience with the company.\n",
    "for new_name, new_years in [('Gina', 12), ('Herb', 3), ('Iris', 0)]:\n",
    "    insert_position = len(employees)\n",
    "    for i in range (0, len(employees)):\n",
    "        if years[i] < new_years:\n",
    "            insert_position = i\n",
    "            break\n",
    "    employees.insert(insert_position, new_name)\n",
    "    years.insert(insert_position, new_years)\n",
    "    \n",
    "# Print both lists.   \n",
    "print (employees, years)"
   ]
  },
  {
   "cell_type": "code",
   "execution_count": 37,
   "id": "49e1dbb3-9be1-4d3c-b635-824f17b91f03",
   "metadata": {},
   "outputs": [
    {
     "name": "stdout",
     "output_type": "stream",
     "text": [
      "['Beth', 'Gina', 'Drew', 'Emma', 'Alex', 'Herb', 'Chad', 'Iris'] [15, 12, 8, 6, 5, 3, 2, 0]\n"
     ]
    }
   ],
   "source": [
    "# Fred accepts a position at another company. Remove his information from the lists.\n",
    "delete_position = employees.index('Fred')\n",
    "del employees[delete_position]\n",
    "del years[delete_position]\n",
    "\n",
    "# It is discovered that due to a clerical error, Emma's years of service was recorded incorrectly. She actually has 6 years of experience with the company rather than 4. Update the lists to reflect this new information. \n",
    "update_position = employees.index('Emma')\n",
    "years[update_position] = 6\n",
    "while True: # re-sort by year with bubblesort\n",
    "    bubble_moved = False\n",
    "    for i in range (0, len(employees)-1): \n",
    "        if years[i] < years[i+1]: # need to swap\n",
    "            years[i], years[i+1] = years[i+1], years[i] \n",
    "            employees[i], employees[i+1] = employees[i+1], employees[i] \n",
    "            bubble_moved = True\n",
    "    if not bubble_moved: # done if no more bubbling\n",
    "        break\n",
    "\n",
    "# Print both lists.\n",
    "print (employees, years)"
   ]
  },
  {
   "cell_type": "markdown",
   "id": "4afaa9a5-c360-4172-b2ec-d38108f4067a",
   "metadata": {},
   "source": [
    "## Problem 2: Sorting and Slicing Lists"
   ]
  },
  {
   "cell_type": "code",
   "execution_count": 38,
   "id": "4a5bbefe-c70f-40b3-b0b8-5b15ac3ebc2a",
   "metadata": {},
   "outputs": [],
   "source": [
    "import random\n",
    "random.seed(12)\n",
    "random_list = random.sample(range(500), 99)"
   ]
  },
  {
   "cell_type": "code",
   "execution_count": 42,
   "id": "6d68c385-b732-451b-94ac-2a780567ec66",
   "metadata": {},
   "outputs": [
    {
     "name": "stdout",
     "output_type": "stream",
     "text": [
      "Length of random_list: 99\n",
      "First 10 Elements of random_list: [242, 137, 336, 270, 341, 179, 73, 195, 5, 191]\n"
     ]
    }
   ],
   "source": [
    "print (f'Length of random_list: {len(random_list)}')\n",
    "print (f'First 10 Elements of random_list: {random_list[0:10]}')"
   ]
  },
  {
   "cell_type": "code",
   "execution_count": 44,
   "id": "c4b3359b-afb3-4b06-8ebc-750237f42e92",
   "metadata": {},
   "outputs": [
    {
     "name": "stdout",
     "output_type": "stream",
     "text": [
      "The sum of the elements in random list is 23739.\n"
     ]
    }
   ],
   "source": [
    "# Use the sum() function to calculate the sum of the elements in random_list. Print the result in the format shown below.\n",
    "print (f'The sum of the elements in random list is {sum(random_list)}.')"
   ]
  },
  {
   "cell_type": "code",
   "execution_count": 51,
   "id": "c2e7567e-e57a-4114-927a-8fa324c5a3c7",
   "metadata": {},
   "outputs": [
    {
     "name": "stdout",
     "output_type": "stream",
     "text": [
      "First 10 Elements of sorted_list: [0, 5, 9, 15, 26, 30, 31, 38, 42, 44]\n",
      "First 10 Elements of random_list: [242, 137, 336, 270, 341, 179, 73, 195, 5, 191]\n"
     ]
    }
   ],
   "source": [
    "# Create a list named sorted_list that contains the same elements of random_list, but sorted in increasing order.\n",
    "sorted_list = sorted(random_list)\n",
    "# Print the first ten elements of both lists on separate lines. Format your output as follows:\n",
    "print (f'First 10 Elements of sorted_list: {sorted_list[0:10]}')\n",
    "print (f'First 10 Elements of random_list: {random_list[0:10]}')"
   ]
  },
  {
   "cell_type": "code",
   "execution_count": 52,
   "id": "f9f13d81-046e-4226-969f-fa52730cb9ac",
   "metadata": {},
   "outputs": [
    {
     "name": "stdout",
     "output_type": "stream",
     "text": [
      "The smallest element of bot_slice is 0.\n",
      "The largest element of bot_slice is 173.\n",
      "The smallest element of mid_slice is 179.\n",
      "The largest element of mid_slice is 311.\n",
      "The smallest element of top_slice is 318.\n",
      "The largest element of top_slice is 484.\n"
     ]
    }
   ],
   "source": [
    "# Create lists named bot_slice, mid_slice, and top_slice as follows:\n",
    "\n",
    "# bot_slice should contain the smallest 33 elements in sorted_list.\n",
    "bot_slice = sorted_list[0:33]\n",
    "# mid_slice should contain the middle 33 elements in sorted_list.\n",
    "mid_slice = sorted_list[33:66]\n",
    "# top_slice should contain the largest 33 elements in sorted_list.\n",
    "top_slice = sorted_list[66:]\n",
    "# print (len(bot_slice),len(mid_slice),len(top_slice)) # verify slicing\n",
    "\n",
    "# Print the six messages shown below, with the appropriate numerical values inserted in place of the xxxx symbols\n",
    "\n",
    "print (f'The smallest element of bot_slice is {min(bot_slice)}.')\n",
    "print (f'The largest element of bot_slice is {max(bot_slice)}.')\n",
    "print (f'The smallest element of mid_slice is {min(mid_slice)}.')\n",
    "print (f'The largest element of mid_slice is {max(mid_slice)}.')\n",
    "print (f'The smallest element of top_slice is {min(top_slice)}.')\n",
    "print (f'The largest element of top_slice is {max(top_slice)}.')"
   ]
  },
  {
   "cell_type": "markdown",
   "id": "0cb213d0-48d7-4193-a221-b79b122493a4",
   "metadata": {},
   "source": [
    "## Problem 3: Calculating Sum of Squared Errors"
   ]
  },
  {
   "cell_type": "code",
   "execution_count": 53,
   "id": "775603ca-04d4-4a19-9abb-83360981c1c2",
   "metadata": {},
   "outputs": [],
   "source": [
    "length = [22.7, 22.4, 25.8, 21.3, 20.1, 22.1, 21.1, 25.3, 26.9, 26.9,\n",
    "23.0, 23.8, 26.2, 20.4, 23.0, 21.9, 23.5, 27.8, 25.3, 25.9]\n",
    "weight = [9.2, 8.8, 10.7, 8.3, 6.2, 8.6, 7.2, 11.2, 10.5, 11.3,\n",
    "9.6, 9.9, 10.9, 5.9, 9.5, 9.1, 9.7, 11.6, 10.2, 10.5]"
   ]
  },
  {
   "cell_type": "code",
   "execution_count": 55,
   "id": "b1e0801d-6536-4139-ae9f-a4d36afad4cb",
   "metadata": {},
   "outputs": [
    {
     "name": "stdout",
     "output_type": "stream",
     "text": [
      "[8.42, 8.24, 10.28, 7.58, 6.86, 8.06, 7.46, 9.98, 10.94, 10.94, 8.6, 9.08, 10.52, 7.04, 8.6, 7.94, 8.9, 11.48, 9.98, 10.34]\n"
     ]
    }
   ],
   "source": [
    "# Create a list named pred_weight that contains the predicted weight for each marmot, according to the biologist's model.\n",
    "# You should begin by creating pred_weight as an empty list. Then loop over the elements of length. Each iteration of\n",
    "# the loop should calculate a new predicted weight using the formula provided above, and rounded to 2 decimal places.\n",
    "pred_weight = []\n",
    "for L in length:\n",
    "    pred_weight.append(round(0.6 * L - 5.2, 2))\n",
    "\n",
    "# Print pred_weight.\n",
    "print (pred_weight)"
   ]
  },
  {
   "cell_type": "code",
   "execution_count": 56,
   "id": "d3add4d8-7f6d-42a3-99d4-e34744b5f148",
   "metadata": {},
   "outputs": [
    {
     "name": "stdout",
     "output_type": "stream",
     "text": [
      "10.2236\n"
     ]
    }
   ],
   "source": [
    "# Use a for loop to calculate the model's SSE score for this sample of marmots.\n",
    "# do it without creating any new lists and using only one loop.\n",
    "SSE = 0.0\n",
    "for i in range(0, len(pred_weight)):\n",
    "    SSE += (pred_weight[i] - weight[i])**2\n",
    "\n",
    "# Print the value of SSE, rounded to four decimal places. Note that the value stored in SSE should not be rounded, only the value displayed.\n",
    "print (round(SSE, 4))"
   ]
  },
  {
   "cell_type": "markdown",
   "id": "a5ce2226-683e-4e5b-9849-15be15e743d6",
   "metadata": {},
   "source": [
    "## Problem 4: Calculating Exam Scores"
   ]
  },
  {
   "cell_type": "code",
   "execution_count": 64,
   "id": "e8d4268d-df68-4821-a7b7-d0762d860e9b",
   "metadata": {},
   "outputs": [
    {
     "name": "stdout",
     "output_type": "stream",
     "text": [
      "Student 1 Grade: 64.0%\n",
      "Student 2 Grade: 84.0%\n"
     ]
    }
   ],
   "source": [
    "# Create lists of named correct, answers1, and answers2 to store the correct answers for the exam, as well as the answers submitted by the two students. \n",
    "# The answers should be stored as strings of the form 'A', 'B', 'C', and 'D'.\n",
    "A = 'A'\n",
    "B = 'B'\n",
    "C = 'C'\n",
    "D = 'D'\n",
    "correct_answers =   [D, B, C, A, C, D, A, C, C, B, D, A, B, D, C, D, C, D, C, A, B, D, C, B, A]\n",
    "student_1_answers = [A, B, C, A, B, D, A, A, C, B, D, A, D, C, C, B, C, D, B, A, D, D, C, C, A]\n",
    "student_2_answers = [D, A, C, A, B, D, A, C, C, B, D, A, B, D, A, D, C, D, C, A, B, C, C, B, A]\n",
    "\n",
    "# Create variables named count1 and count2 to store the number of correct answers for each student.\n",
    "# Use a single loop to simultaneously loop over all three lists. As you do so, count the number of correct answers for student 1 and student 2.\n",
    "count1 = count2 = 0\n",
    "for i in range(0, len(correct_answers)):\n",
    "    count1 += (student_1_answers[i] == correct_answers[i])\n",
    "    count2 += (student_2_answers[i] == correct_answers[i])\n",
    "\n",
    "# When the loop is finished executing, divide each count of correct answers by the total number of questions and\n",
    "# multiply by 100 to obtain the grades for both students. Store the results as integers in variables named grade1 and grade2.\n",
    "grade1 = count1/len(correct_answers) * 100.0\n",
    "grade2 = count2/len(correct_answers) * 100.0\n",
    "# Print the results with descriptive messages as shown below, with the xxxx symbols replaced with the appropriate values. Match the format and spacing exactly.\n",
    "print (f'Student 1 Grade: {grade1}%')\n",
    "print (f'Student 2 Grade: {grade2}%')\n"
   ]
  },
  {
   "cell_type": "markdown",
   "id": "03d321e4-c9af-47a4-ade9-334e131030a3",
   "metadata": {},
   "source": [
    "## Problem 5: Determining Monthly Payments"
   ]
  },
  {
   "cell_type": "code",
   "execution_count": 70,
   "id": "9aa1d192-1145-47a3-813f-1692b2de88b1",
   "metadata": {},
   "outputs": [
    {
     "name": "stdout",
     "output_type": "stream",
     "text": [
      "A loan of $100000 would require monthly payments of $524.67.\n",
      "A loan of $110000 would require monthly payments of $577.13.\n",
      "A loan of $120000 would require monthly payments of $629.60.\n",
      "A loan of $130000 would require monthly payments of $682.06.\n",
      "A loan of $140000 would require monthly payments of $734.53.\n",
      "A loan of $150000 would require monthly payments of $787.00.\n",
      "A loan of $160000 would require monthly payments of $839.46.\n",
      "A loan of $170000 would require monthly payments of $891.93.\n",
      "A loan of $180000 would require monthly payments of $944.40.\n",
      "A loan of $190000 would require monthly payments of $996.86.\n",
      "A loan of $200000 would require monthly payments of $1049.33.\n"
     ]
    }
   ],
   "source": [
    "# Create variables named i and n to store the interest rate rate and the number of monthly payments. These values will remain constant throughout this problem.\n",
    "i = 0.4/100\n",
    "n = 12 * 30\n",
    "\n",
    "# Create a variable name start and set it equal to 100,000. Create another variable named increment and set it equal to 10,000.\n",
    "start = 100000\n",
    "end = 200000\n",
    "increment = 10000\n",
    "\n",
    "for L in range (start, end + increment, increment):\n",
    "    # Calculate the new loan amount to be considered, storing the result in a variable.\n",
    "    # Calculate the require monthly payment for this loan amount, rounded to 2 decimal places.\n",
    "    PMT = L * i / (1 - (1+i)**(-n))\n",
    "    # Print the result in the format shown below. Match the format exactly, including the inclusion of the\n",
    "    print (f'A loan of ${L} would require monthly payments of ${PMT:.2f}.')"
   ]
  },
  {
   "cell_type": "markdown",
   "id": "ee2e8fa5-aae9-42db-9aed-64bdf496ea59",
   "metadata": {},
   "source": [
    "## Problem 6: Creating an Amortization Schedule"
   ]
  },
  {
   "cell_type": "code",
   "execution_count": 73,
   "id": "fb6fb00d-f0eb-43cc-a7bf-2b789e694efc",
   "metadata": {},
   "outputs": [
    {
     "name": "stdout",
     "output_type": "stream",
     "text": [
      "The balance at the end of 12 months will be $157553.12.\n",
      "The balance at the end of 24 months will be $154986.16.\n",
      "The balance at the end of 36 months will be $152293.23.\n",
      "The balance at the end of 48 months will be $149468.18.\n",
      "The balance at the end of 60 months will be $146504.5.\n",
      "The balance at the end of 72 months will be $143395.39.\n",
      "The balance at the end of 84 months will be $140133.72.\n",
      "The balance at the end of 96 months will be $136711.97.\n",
      "The balance at the end of 108 months will be $133122.33.\n",
      "The balance at the end of 120 months will be $129356.56.\n",
      "The balance at the end of 132 months will be $125406.0.\n",
      "The balance at the end of 144 months will be $121261.57.\n",
      "The balance at the end of 156 months will be $116913.78.\n",
      "The balance at the end of 168 months will be $112352.64.\n",
      "The balance at the end of 180 months will be $107567.68.\n",
      "The balance at the end of 192 months will be $102547.91.\n",
      "The balance at the end of 204 months will be $97281.84.\n",
      "The balance at the end of 216 months will be $91757.37.\n",
      "The balance at the end of 228 months will be $85961.81.\n",
      "The balance at the end of 240 months will be $79881.85.\n",
      "The balance at the end of 252 months will be $73503.55.\n",
      "The balance at the end of 264 months will be $66812.25.\n",
      "The balance at the end of 276 months will be $59792.61.\n",
      "The balance at the end of 288 months will be $52428.53.\n",
      "The balance at the end of 300 months will be $44703.11.\n",
      "The balance at the end of 312 months will be $36598.58.\n",
      "The balance at the end of 324 months will be $28096.34.\n",
      "The balance at the end of 336 months will be $19176.93.\n",
      "The balance at the end of 348 months will be $9819.84.\n",
      "The balance at the end of 360 months will be $3.59.\n"
     ]
    }
   ],
   "source": [
    "# Create variables named balance, i and pmt to store the initial loan amount, interest rate, and monthly payment amount mentioned in the paragraph above.\n",
    "balance, i, pmt = 160000, 0.4/100, 839.46\n",
    "\n",
    "# Use a loop to perform the following tasks 360 times. As in Problem 5, you will need to use a name other than i\n",
    "# for the loop counter. For convenience, I recommend starting the loop counter at 1 rather than 0.\n",
    "for month in range (1, 360+1):\n",
    "    # Calculate the new balance. This will be done by multiplying the current balance by 1+i, and then\n",
    "    # subtracting the payment amount. Store the result back into balance, rounded to 2 decimal places.\n",
    "    balance = round(balance * (1+i) - pmt, 2)\n",
    "    # If current payment marks the end of a year of payments (i.e. if the loop counter is a multiple of 12),\n",
    "    # then print a message in the format shown below. Match the format exactly, including the inclusion of\n",
    "    if month % 12 == 0:\n",
    "        print (f'The balance at the end of {month} months will be ${balance}.')"
   ]
  },
  {
   "cell_type": "markdown",
   "id": "764930db-3728-4f4f-944b-4d608135e6ad",
   "metadata": {},
   "source": [
    "## Problem 7: Calculating Price of a Bulk Order"
   ]
  },
  {
   "cell_type": "code",
   "execution_count": 76,
   "id": "0aefa4fb-6723-45af-9ee0-0fcb7f64c879",
   "metadata": {},
   "outputs": [
    {
     "name": "stdout",
     "output_type": "stream",
     "text": [
      "The cost for an order of 84 widgets is $29400.0.\n",
      "The cost for an order of 100 widgets is $35000.0.\n",
      "The cost for an order of 126 widgets is $42800.0.\n",
      "The cost for an order of 150 widgets is $50000.0.\n",
      "The cost for an order of 186 widgets is $60800.0.\n",
      "The cost for an order of 200 widgets is $65000.0.\n",
      "The cost for an order of 216 widgets is $69000.0.\n",
      "The cost for an order of 248 widgets is $77000.0.\n"
     ]
    }
   ],
   "source": [
    "# Create a list named quantities to store the order quantities mentioned above.\n",
    "quantities = [84, 100, 126, 150, 186, 200, 216, 248]\n",
    "\n",
    "# Loop over this list. Each time the loop executes, perform the following steps:\n",
    "for q in quantities:\n",
    "    # Calculate the price of the order.\n",
    "    if q <= 100:\n",
    "        order_price = 350.0 * q\n",
    "    elif q <= 200:\n",
    "        order_price = 100 * 350.0 + (q - 100) * 300.0\n",
    "    else:\n",
    "        order_price = 100 * 350.0 + 100 * 300.0 + (q - 200) * 250\n",
    "    # Print a message in the format shown below, with the xxxx symbols replaced by the appropriate values.\n",
    "    print (f'The cost for an order of {q} widgets is ${order_price}.')"
   ]
  },
  {
   "cell_type": "markdown",
   "id": "282fb5a8-2719-4e87-8c66-750da09f3334",
   "metadata": {},
   "source": [
    "## Problem 8: Adding Matrices"
   ]
  },
  {
   "cell_type": "code",
   "execution_count": 77,
   "id": "7235b4ae-9643-41b8-a2ea-dc22df74ff26",
   "metadata": {},
   "outputs": [],
   "source": [
    "# Create two lists named A and B to represent the matrices above. Each of these lists should contain three lists, \n",
    "# with each sub-list containing 5 integers representing a row in the matrix. \n",
    "# For example, the first element of A should be the list [13, 43, 28, 22, 41].\n",
    "A = [[13, 43, 28, 22, 41], [17, 39, 46, 16, 21], [41, 34, 31, 25, 14]]\n",
    "B = [[35, 29, 43, 21, 31], [48, 26, 19, 17, 23], [32, 34, 24, 16, 27]]"
   ]
  },
  {
   "cell_type": "code",
   "execution_count": 82,
   "id": "0d9b10e2-4809-421a-bdab-7b6eab6889f3",
   "metadata": {},
   "outputs": [
    {
     "name": "stdout",
     "output_type": "stream",
     "text": [
      "[48, 72, 71, 43, 72]\n",
      "[65, 65, 65, 33, 44]\n",
      "[73, 68, 55, 41, 41]\n"
     ]
    }
   ],
   "source": [
    "# Create an empty list named AplusB. \n",
    "AplusB = []\n",
    "# Write a nested loop that adds the elements of A and B, storing the result in AplusB. Each time the outer loop executes, \n",
    "# it should calculate a new row of the sum and should finish by adding this row to AplusB. The final structure of AplusB should be the same as A and B.\n",
    "for row in range(0, len(A)):\n",
    "    # AplusB.append([A[row][i] + B[row][i] for i in range(0, len(A[row]))])\n",
    "    aplusb_row = []\n",
    "    for column in range (0, len(A[row])):\n",
    "        aplusb_row.append(A[row][column] + B[row][column])\n",
    "    AplusB.append(aplusb_row)\n",
    "        \n",
    "# Print the rows of AplusB, with each row appearing on its own line.\n",
    "for row in range(0, len(AplusB)):\n",
    "    print(AplusB[row])"
   ]
  },
  {
   "cell_type": "code",
   "execution_count": null,
   "id": "1285ae0a-ca64-4746-8bab-1ca7ffb03e8b",
   "metadata": {},
   "outputs": [],
   "source": []
  },
  {
   "cell_type": "code",
   "execution_count": null,
   "id": "33dd412c-5032-4f20-aa1a-c1a6cac0d656",
   "metadata": {},
   "outputs": [],
   "source": []
  },
  {
   "cell_type": "code",
   "execution_count": null,
   "id": "a09997c3-8579-45e6-852b-1ebdecec6a0a",
   "metadata": {},
   "outputs": [],
   "source": []
  },
  {
   "cell_type": "code",
   "execution_count": null,
   "id": "b304ab12-5e66-4356-a01c-1ae45ac92525",
   "metadata": {},
   "outputs": [],
   "source": []
  }
 ],
 "metadata": {
  "kernelspec": {
   "display_name": "Python 3 (ipykernel)",
   "language": "python",
   "name": "python3"
  },
  "language_info": {
   "codemirror_mode": {
    "name": "ipython",
    "version": 3
   },
   "file_extension": ".py",
   "mimetype": "text/x-python",
   "name": "python",
   "nbconvert_exporter": "python",
   "pygments_lexer": "ipython3",
   "version": "3.13.5"
  }
 },
 "nbformat": 4,
 "nbformat_minor": 5
}

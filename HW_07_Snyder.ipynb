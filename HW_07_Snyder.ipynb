{
 "cells": [
  {
   "cell_type": "markdown",
   "id": "42d837af-61b0-4b96-a6a4-535c6c09a00d",
   "metadata": {},
   "source": [
    "# DSCI 503 - Homework 07\n",
    "### Matt Snyder"
   ]
  },
  {
   "cell_type": "code",
   "execution_count": 1,
   "id": "fe2a5c3b-23bf-4716-8a58-d835cc154ce8",
   "metadata": {},
   "outputs": [],
   "source": [
    "# Import numpy, pandas, and matplotlib.pyplot using the standard aliases. Import LinearRegression,\n",
    "# LogisticRegression, and train_test_split from sklearn.\n",
    "import numpy as np\n",
    "import pandas as pd\n",
    "import matplotlib.pyplot as plt\n",
    "from sklearn.model_selection import train_test_split\n",
    "from sklearn.linear_model import LinearRegression, LogisticRegression"
   ]
  },
  {
   "cell_type": "code",
   "execution_count": 5,
   "id": "b878b7a9-1b4f-403a-8e1d-6ec33d6f0933",
   "metadata": {},
   "outputs": [
    {
     "data": {
      "text/html": [
       "<div>\n",
       "<style scoped>\n",
       "    .dataframe tbody tr th:only-of-type {\n",
       "        vertical-align: middle;\n",
       "    }\n",
       "\n",
       "    .dataframe tbody tr th {\n",
       "        vertical-align: top;\n",
       "    }\n",
       "\n",
       "    .dataframe thead th {\n",
       "        text-align: right;\n",
       "    }\n",
       "</style>\n",
       "<table border=\"1\" class=\"dataframe\">\n",
       "  <thead>\n",
       "    <tr style=\"text-align: right;\">\n",
       "      <th></th>\n",
       "      <th>Price</th>\n",
       "      <th>Food</th>\n",
       "      <th>Decor</th>\n",
       "      <th>Service</th>\n",
       "      <th>Wait</th>\n",
       "      <th>East</th>\n",
       "    </tr>\n",
       "  </thead>\n",
       "  <tbody>\n",
       "    <tr>\n",
       "      <th>0</th>\n",
       "      <td>43</td>\n",
       "      <td>22</td>\n",
       "      <td>18</td>\n",
       "      <td>20</td>\n",
       "      <td>36</td>\n",
       "      <td>0</td>\n",
       "    </tr>\n",
       "    <tr>\n",
       "      <th>1</th>\n",
       "      <td>32</td>\n",
       "      <td>20</td>\n",
       "      <td>19</td>\n",
       "      <td>19</td>\n",
       "      <td>22</td>\n",
       "      <td>0</td>\n",
       "    </tr>\n",
       "    <tr>\n",
       "      <th>2</th>\n",
       "      <td>34</td>\n",
       "      <td>21</td>\n",
       "      <td>13</td>\n",
       "      <td>18</td>\n",
       "      <td>20</td>\n",
       "      <td>0</td>\n",
       "    </tr>\n",
       "    <tr>\n",
       "      <th>3</th>\n",
       "      <td>41</td>\n",
       "      <td>20</td>\n",
       "      <td>20</td>\n",
       "      <td>17</td>\n",
       "      <td>25</td>\n",
       "      <td>0</td>\n",
       "    </tr>\n",
       "    <tr>\n",
       "      <th>4</th>\n",
       "      <td>54</td>\n",
       "      <td>24</td>\n",
       "      <td>19</td>\n",
       "      <td>21</td>\n",
       "      <td>32</td>\n",
       "      <td>0</td>\n",
       "    </tr>\n",
       "  </tbody>\n",
       "</table>\n",
       "</div>"
      ],
      "text/plain": [
       "   Price  Food  Decor  Service  Wait  East\n",
       "0     43    22     18       20    36     0\n",
       "1     32    20     19       19    22     0\n",
       "2     34    21     13       18    20     0\n",
       "3     41    20     20       17    25     0\n",
       "4     54    24     19       21    32     0"
      ]
     },
     "execution_count": 5,
     "metadata": {},
     "output_type": "execute_result"
    }
   ],
   "source": [
    "# Load the data stored in the tab-delimited file nyc.txt into a DataFrame named nyc. \n",
    "nyc = pd.read_table('nyc.txt')\n",
    "\n",
    "# Use head() to display the first 10 rows of this DataFrame.\n",
    "nyc.head()"
   ]
  },
  {
   "cell_type": "code",
   "execution_count": 11,
   "id": "4ff70c7e-9be4-4acb-b90a-621653ef0ac5",
   "metadata": {},
   "outputs": [
    {
     "name": "stdout",
     "output_type": "stream",
     "text": [
      "Training Features Shape: (134, 5)\n",
      "Test Features Shape:     (34, 5)\n"
     ]
    }
   ],
   "source": [
    "# Create a 2D feature array named X1 containing the relevant features, as well as a 1D label array named y1 containing the labels. \n",
    "X1 = nyc.iloc[:,1:].values\n",
    "y1 = nyc.iloc[:,0].values\n",
    "\n",
    "# Use train_test_split() to split the data into training and testing sets using an 80/20 split. Name the\n",
    "# resulting arrays X_train_1, X_test_1, y_train_1, and y_test_1. Set random state=1.\n",
    "X_train_1, X_test_1, y_train_1, y_test_1 = train_test_split(X1, y1, test_size = 0.2, random_state=1)\n",
    "\n",
    "# Print the shapes of X_train_1 and X_test_1. Include text labeling the two results as shown below\n",
    "print(f'Training Features Shape: {X_train_1.shape}')\n",
    "print(f'Test Features Shape:     {X_test_1.shape}')"
   ]
  },
  {
   "cell_type": "code",
   "execution_count": 12,
   "id": "5e48f2ba-b42b-4c6a-90ba-f4be4ff21e13",
   "metadata": {},
   "outputs": [
    {
     "name": "stdout",
     "output_type": "stream",
     "text": [
      "Intercept:    -23.755435322488907\n",
      "Coefficients: [ 1.55693926  2.00700907 -0.25440527  0.09203064  2.63235537]\n"
     ]
    }
   ],
   "source": [
    "# Create a linear regression model named nyc_mod and then fit it to the training data. \n",
    "nyc_mod = LinearRegression()\n",
    "nyc_mod.fit(X_train_1, y_train_1)\n",
    "\n",
    "# Display the intercepts and coefficients for the final model with text labels as shown below. \n",
    "print (f'Intercept:    {nyc_mod.intercept_}')\n",
    "print (f'Coefficients: {nyc_mod.coef_}')"
   ]
  },
  {
   "cell_type": "code",
   "execution_count": 13,
   "id": "ed5b4b42-d657-4aea-ab99-61bd92cf1c24",
   "metadata": {},
   "outputs": [
    {
     "name": "stdout",
     "output_type": "stream",
     "text": [
      "Training r-Squared: 0.6306\n",
      "Testing r-Squared:  0.6245\n"
     ]
    }
   ],
   "source": [
    "# Calculate and print the training and testing r-squared values for your model, rounded to four decimal places. \n",
    "train_r2 = nyc_mod.score(X_train_1, y_train_1)\n",
    "test_r2 = nyc_mod.score(X_test_1, y_test_1)\n",
    "print (f'Training r-Squared: {round(train_r2, 4)}')\n",
    "print (f'Testing r-Squared:  {round(test_r2, 4)}')"
   ]
  },
  {
   "cell_type": "code",
   "execution_count": 26,
   "id": "6dfddc5a-091b-45bd-981b-e2fedd1df424",
   "metadata": {},
   "outputs": [
    {
     "name": "stdout",
     "output_type": "stream",
     "text": [
      "Observed Prices:  [33.00 45.00 54.00 38.00 22.00 47.00 38.00 51.00 46.00 47.00]\n",
      "Estimated Prices: [39.20 38.09 49.35 39.26 19.72 47.40 36.85 50.07 48.26 43.01]\n"
     ]
    }
   ],
   "source": [
    "# Use your model to generate price estimates based on the feature values in the test set. Store the results in a variable named test_pred_1.\n",
    "test_pred_1 = nyc_mod.predict(X_test_1)\n",
    "\n",
    "# Print the first 10 observed y-values for the test set, and then the first 10 predictions, rounded to 2 decimal places. \n",
    "np.set_printoptions(precision=2, floatmode='fixed') # fixed display of 2 decimal places, appropriate for prices\n",
    "print (f'Observed Prices:  {np.round(np.float64(y_test_1[:10]),2)}') # convert prices to float so values will line up vertically\n",
    "print (f'Estimated Prices: {np.round(test_pred_1[:10],2)}')"
   ]
  },
  {
   "cell_type": "code",
   "execution_count": 31,
   "id": "a587d7f3-061b-49dc-a15a-ba14112872b0",
   "metadata": {},
   "outputs": [
    {
     "name": "stdout",
     "output_type": "stream",
     "text": [
      "Estimated Prices: [30.87 42.57 58.06]\n"
     ]
    }
   ],
   "source": [
    "# Create a DataFrame named nyc_new that contains the feature values for these 3 restaurants. \n",
    "column_names = ['Food', 'Decor', 'Service', 'Wait', 'East']\n",
    "nyc_new = pd.DataFrame([[22, 12, 20, 15, 0], [18, 19, 22, 34, 1], [25, 22, 18, 36, 0]], columns = column_names)\n",
    "\n",
    "# Pass this DataFrame to the predict() method of your model, storing the results in a variable named new_pred_1. \n",
    "new_pred_1 = nyc_mod.predict(nyc_new.values)\n",
    "\n",
    "# Print the price predictions stored in this variable, rounded to 2 decimal places\n",
    "print (f'Estimated Prices: {np.round(new_pred_1,2)}')"
   ]
  },
  {
   "cell_type": "code",
   "execution_count": null,
   "id": "06332e2c-4498-4a69-befd-e0df998cbcbb",
   "metadata": {},
   "outputs": [],
   "source": []
  },
  {
   "cell_type": "code",
   "execution_count": null,
   "id": "9d27e159-6ef1-4c70-aea6-7aa8a5fed0a1",
   "metadata": {},
   "outputs": [],
   "source": []
  },
  {
   "cell_type": "code",
   "execution_count": null,
   "id": "db505136-d44a-48b2-800f-463d14ee77ff",
   "metadata": {},
   "outputs": [],
   "source": []
  },
  {
   "cell_type": "code",
   "execution_count": null,
   "id": "8cc3bad1-fd74-4881-bc83-c8efb6356ccd",
   "metadata": {},
   "outputs": [],
   "source": []
  },
  {
   "cell_type": "code",
   "execution_count": null,
   "id": "43c7e51f-572d-48c0-86db-03d0b381be96",
   "metadata": {},
   "outputs": [],
   "source": []
  },
  {
   "cell_type": "code",
   "execution_count": null,
   "id": "a04c0b27-e030-45e2-9a6f-5340df22d283",
   "metadata": {},
   "outputs": [],
   "source": []
  },
  {
   "cell_type": "code",
   "execution_count": null,
   "id": "48f35fea-4eb7-425c-bbab-33f1f51caf2c",
   "metadata": {},
   "outputs": [],
   "source": []
  },
  {
   "cell_type": "code",
   "execution_count": null,
   "id": "e2503b94-36c0-40b8-a6f7-2025bedb568a",
   "metadata": {},
   "outputs": [],
   "source": []
  },
  {
   "cell_type": "code",
   "execution_count": null,
   "id": "ec7b327a-7f8b-4369-9ef0-97815c0b85e2",
   "metadata": {},
   "outputs": [],
   "source": []
  },
  {
   "cell_type": "code",
   "execution_count": null,
   "id": "014af67d-968e-4c71-9303-59b183988212",
   "metadata": {},
   "outputs": [],
   "source": []
  },
  {
   "cell_type": "code",
   "execution_count": null,
   "id": "62279097-5d6f-4954-892c-972a7aeac216",
   "metadata": {},
   "outputs": [],
   "source": []
  },
  {
   "cell_type": "code",
   "execution_count": null,
   "id": "30795286-d2b8-4a01-a15c-c6b7e87184e4",
   "metadata": {},
   "outputs": [],
   "source": []
  },
  {
   "cell_type": "code",
   "execution_count": null,
   "id": "212ade66-16a1-4167-b144-49b88141657b",
   "metadata": {},
   "outputs": [],
   "source": []
  },
  {
   "cell_type": "code",
   "execution_count": null,
   "id": "d40fbe2b-5717-4cfb-8ce5-ac8c8c233b61",
   "metadata": {},
   "outputs": [],
   "source": []
  },
  {
   "cell_type": "code",
   "execution_count": null,
   "id": "20f9fd78-7872-49a8-ae06-96ded256d389",
   "metadata": {},
   "outputs": [],
   "source": []
  },
  {
   "cell_type": "code",
   "execution_count": null,
   "id": "c6726fb5-fd38-4d59-a50f-8983162d76bd",
   "metadata": {},
   "outputs": [],
   "source": []
  },
  {
   "cell_type": "code",
   "execution_count": null,
   "id": "4865f1a8-d979-4d60-8ca8-a1799cc377ba",
   "metadata": {},
   "outputs": [],
   "source": []
  },
  {
   "cell_type": "code",
   "execution_count": null,
   "id": "ed2c3647-1a76-4b09-a19c-73187f938dc8",
   "metadata": {},
   "outputs": [],
   "source": []
  },
  {
   "cell_type": "code",
   "execution_count": null,
   "id": "77f5cba2-1c09-42ab-959e-4c9acd30df96",
   "metadata": {},
   "outputs": [],
   "source": []
  },
  {
   "cell_type": "code",
   "execution_count": null,
   "id": "7bafd1b8-2e74-49ed-8a0a-6d413e0bce8d",
   "metadata": {},
   "outputs": [],
   "source": []
  },
  {
   "cell_type": "code",
   "execution_count": null,
   "id": "6e347ff3-77be-4b93-8b7f-5252a60fa348",
   "metadata": {},
   "outputs": [],
   "source": []
  },
  {
   "cell_type": "code",
   "execution_count": null,
   "id": "b89ac095-ee22-441b-a8e0-30ed60f85b52",
   "metadata": {},
   "outputs": [],
   "source": []
  },
  {
   "cell_type": "code",
   "execution_count": null,
   "id": "d25346b6-fc15-4286-a0a1-61c255ce02e9",
   "metadata": {},
   "outputs": [],
   "source": []
  },
  {
   "cell_type": "code",
   "execution_count": null,
   "id": "a58bb9da-fe83-4ee7-9cb0-3776f0df8eb2",
   "metadata": {},
   "outputs": [],
   "source": []
  },
  {
   "cell_type": "code",
   "execution_count": null,
   "id": "d8c0e841-a60a-4415-9bbf-767c842b86e8",
   "metadata": {},
   "outputs": [],
   "source": []
  },
  {
   "cell_type": "code",
   "execution_count": null,
   "id": "753ae93e-89c1-41f8-ac10-6d928c011beb",
   "metadata": {},
   "outputs": [],
   "source": []
  },
  {
   "cell_type": "code",
   "execution_count": null,
   "id": "c37e4c11-1834-417d-9b28-84901f293911",
   "metadata": {},
   "outputs": [],
   "source": []
  },
  {
   "cell_type": "code",
   "execution_count": null,
   "id": "e920d007-dec1-4b76-a51c-ef1b26ce3d6d",
   "metadata": {},
   "outputs": [],
   "source": []
  },
  {
   "cell_type": "code",
   "execution_count": null,
   "id": "444d4d14-76f3-4982-8592-cb04efaa2df9",
   "metadata": {},
   "outputs": [],
   "source": []
  },
  {
   "cell_type": "code",
   "execution_count": null,
   "id": "3c265d2a-0409-4265-9eb2-5388de263fee",
   "metadata": {},
   "outputs": [],
   "source": []
  },
  {
   "cell_type": "code",
   "execution_count": null,
   "id": "7abd0f66-d453-4840-b19d-92675159bf67",
   "metadata": {},
   "outputs": [],
   "source": []
  },
  {
   "cell_type": "code",
   "execution_count": null,
   "id": "cfe7857f-9ac5-4934-a062-189e71187e0d",
   "metadata": {},
   "outputs": [],
   "source": []
  },
  {
   "cell_type": "code",
   "execution_count": null,
   "id": "111a5095-6592-412c-a1f3-b57b1a178c85",
   "metadata": {},
   "outputs": [],
   "source": []
  }
 ],
 "metadata": {
  "kernelspec": {
   "display_name": "Python 3 (ipykernel)",
   "language": "python",
   "name": "python3"
  },
  "language_info": {
   "codemirror_mode": {
    "name": "ipython",
    "version": 3
   },
   "file_extension": ".py",
   "mimetype": "text/x-python",
   "name": "python",
   "nbconvert_exporter": "python",
   "pygments_lexer": "ipython3",
   "version": "3.13.5"
  }
 },
 "nbformat": 4,
 "nbformat_minor": 5
}

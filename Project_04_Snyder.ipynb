{
 "cells": [
  {
   "cell_type": "markdown",
   "id": "ecd2f064-300c-44be-a980-4a8c13f3e74d",
   "metadata": {},
   "source": [
    "# DSCI 503 – Project 04\n",
    "### Matt Snyder"
   ]
  },
  {
   "cell_type": "code",
   "execution_count": 1,
   "id": "189d8116-bf54-49f0-bc25-f4368fa9670a",
   "metadata": {},
   "outputs": [],
   "source": [
    "import numpy as np\n",
    "import pandas as pd\n",
    "import matplotlib.pyplot as plt\n",
    "\n",
    "from sklearn.model_selection import train_test_split\n",
    "from sklearn.preprocessing import OneHotEncoder\n",
    "from sklearn.metrics import confusion_matrix, classification_report\n",
    "\n",
    "from sklearn.linear_model import LogisticRegression\n",
    "from sklearn.tree import DecisionTreeClassifier\n",
    "from sklearn.ensemble import RandomForestClassifier"
   ]
  },
  {
   "cell_type": "markdown",
   "id": "3b5061a0-7354-4b58-b4c7-6b7a094059b2",
   "metadata": {},
   "source": [
    "## Part 1: Loading the Dataset; Preliminary Analysis\n",
    "# *******************************************************"
   ]
  },
  {
   "cell_type": "code",
   "execution_count": 2,
   "id": "b0d26ee2-5460-4e05-85fc-1ca13b787ecf",
   "metadata": {},
   "outputs": [
    {
     "data": {
      "text/html": [
       "<div>\n",
       "<style scoped>\n",
       "    .dataframe tbody tr th:only-of-type {\n",
       "        vertical-align: middle;\n",
       "    }\n",
       "\n",
       "    .dataframe tbody tr th {\n",
       "        vertical-align: top;\n",
       "    }\n",
       "\n",
       "    .dataframe thead th {\n",
       "        text-align: right;\n",
       "    }\n",
       "</style>\n",
       "<table border=\"1\" class=\"dataframe\">\n",
       "  <thead>\n",
       "    <tr style=\"text-align: right;\">\n",
       "      <th></th>\n",
       "      <th>Elevation</th>\n",
       "      <th>Aspect</th>\n",
       "      <th>Slope</th>\n",
       "      <th>Horizontal_Distance_To_Hydrology</th>\n",
       "      <th>Vertical_Distance_To_Hydrology</th>\n",
       "      <th>Horizontal_Distance_To_Roadways</th>\n",
       "      <th>Hillshade_9am</th>\n",
       "      <th>Hillshade_Noon</th>\n",
       "      <th>Hillshade_3pm</th>\n",
       "      <th>Horizontal_Distance_To_Fire_Points</th>\n",
       "      <th>Wilderness_Area</th>\n",
       "      <th>Soil_Type</th>\n",
       "      <th>Cover_Type</th>\n",
       "    </tr>\n",
       "  </thead>\n",
       "  <tbody>\n",
       "    <tr>\n",
       "      <th>0</th>\n",
       "      <td>2596</td>\n",
       "      <td>51</td>\n",
       "      <td>3</td>\n",
       "      <td>258</td>\n",
       "      <td>0</td>\n",
       "      <td>510</td>\n",
       "      <td>221</td>\n",
       "      <td>232</td>\n",
       "      <td>148</td>\n",
       "      <td>6279</td>\n",
       "      <td>Rawah</td>\n",
       "      <td>29</td>\n",
       "      <td>5</td>\n",
       "    </tr>\n",
       "    <tr>\n",
       "      <th>1</th>\n",
       "      <td>2590</td>\n",
       "      <td>56</td>\n",
       "      <td>2</td>\n",
       "      <td>212</td>\n",
       "      <td>-6</td>\n",
       "      <td>390</td>\n",
       "      <td>220</td>\n",
       "      <td>235</td>\n",
       "      <td>151</td>\n",
       "      <td>6225</td>\n",
       "      <td>Rawah</td>\n",
       "      <td>29</td>\n",
       "      <td>5</td>\n",
       "    </tr>\n",
       "    <tr>\n",
       "      <th>2</th>\n",
       "      <td>2804</td>\n",
       "      <td>139</td>\n",
       "      <td>9</td>\n",
       "      <td>268</td>\n",
       "      <td>65</td>\n",
       "      <td>3180</td>\n",
       "      <td>234</td>\n",
       "      <td>238</td>\n",
       "      <td>135</td>\n",
       "      <td>6121</td>\n",
       "      <td>Rawah</td>\n",
       "      <td>12</td>\n",
       "      <td>2</td>\n",
       "    </tr>\n",
       "    <tr>\n",
       "      <th>3</th>\n",
       "      <td>2785</td>\n",
       "      <td>155</td>\n",
       "      <td>18</td>\n",
       "      <td>242</td>\n",
       "      <td>118</td>\n",
       "      <td>3090</td>\n",
       "      <td>238</td>\n",
       "      <td>238</td>\n",
       "      <td>122</td>\n",
       "      <td>6211</td>\n",
       "      <td>Rawah</td>\n",
       "      <td>30</td>\n",
       "      <td>2</td>\n",
       "    </tr>\n",
       "    <tr>\n",
       "      <th>4</th>\n",
       "      <td>2595</td>\n",
       "      <td>45</td>\n",
       "      <td>2</td>\n",
       "      <td>153</td>\n",
       "      <td>-1</td>\n",
       "      <td>391</td>\n",
       "      <td>220</td>\n",
       "      <td>234</td>\n",
       "      <td>150</td>\n",
       "      <td>6172</td>\n",
       "      <td>Rawah</td>\n",
       "      <td>29</td>\n",
       "      <td>5</td>\n",
       "    </tr>\n",
       "  </tbody>\n",
       "</table>\n",
       "</div>"
      ],
      "text/plain": [
       "   Elevation  Aspect  Slope  Horizontal_Distance_To_Hydrology  \\\n",
       "0       2596      51      3                               258   \n",
       "1       2590      56      2                               212   \n",
       "2       2804     139      9                               268   \n",
       "3       2785     155     18                               242   \n",
       "4       2595      45      2                               153   \n",
       "\n",
       "   Vertical_Distance_To_Hydrology  Horizontal_Distance_To_Roadways  \\\n",
       "0                               0                              510   \n",
       "1                              -6                              390   \n",
       "2                              65                             3180   \n",
       "3                             118                             3090   \n",
       "4                              -1                              391   \n",
       "\n",
       "   Hillshade_9am  Hillshade_Noon  Hillshade_3pm  \\\n",
       "0            221             232            148   \n",
       "1            220             235            151   \n",
       "2            234             238            135   \n",
       "3            238             238            122   \n",
       "4            220             234            150   \n",
       "\n",
       "   Horizontal_Distance_To_Fire_Points Wilderness_Area  Soil_Type  Cover_Type  \n",
       "0                                6279           Rawah         29           5  \n",
       "1                                6225           Rawah         29           5  \n",
       "2                                6121           Rawah         12           2  \n",
       "3                                6211           Rawah         30           2  \n",
       "4                                6172           Rawah         29           5  "
      ]
     },
     "execution_count": 2,
     "metadata": {},
     "output_type": "execute_result"
    }
   ],
   "source": [
    "# The data is stored in the tab-delimited text file forest_cover.txt. Download this file into the directory that contains\n",
    "# your notebook, and then load the data into a DataFrame named fc. \n",
    "fc = pd.read_table('forest_cover.txt')\n",
    "\n",
    "# Use the head() method to display the first 5 rows of this DataFrame.\n",
    "fc.head(5)"
   ]
  },
  {
   "cell_type": "markdown",
   "id": "24f3bfa1-bc1f-4cb7-a53c-d4f59657d090",
   "metadata": {},
   "source": [
    "### *************************************\n",
    "we will determine the size of the dataset. State what the results tell you about the\n",
    "number of observations in the dataset."
   ]
  },
  {
   "cell_type": "code",
   "execution_count": 3,
   "id": "8fb4ff02-7a0c-44cd-b965-98e690001e8e",
   "metadata": {},
   "outputs": [
    {
     "data": {
      "text/plain": [
       "(15120, 13)"
      ]
     },
     "execution_count": 3,
     "metadata": {},
     "output_type": "execute_result"
    }
   ],
   "source": [
    "# Print the shape of the fc DataFrame.\n",
    "fc.shape"
   ]
  },
  {
   "cell_type": "markdown",
   "id": "658a6753-4588-4305-b91e-f4252cc71636",
   "metadata": {},
   "source": [
    "### **************\n",
    "We will now inspect the distribution of cover types in the datasets. Add a markdown cell to briefly explain this."
   ]
  },
  {
   "cell_type": "code",
   "execution_count": 9,
   "id": "0b06b9e5-f239-4eac-8b48-c2d7cdc2d194",
   "metadata": {},
   "outputs": [
    {
     "data": {
      "text/plain": [
       "Cover_Type\n",
       "1    2160\n",
       "2    2160\n",
       "3    2160\n",
       "4    2160\n",
       "5    2160\n",
       "6    2160\n",
       "7    2160\n",
       "Name: count, dtype: int64"
      ]
     },
     "execution_count": 9,
     "metadata": {},
     "output_type": "execute_result"
    }
   ],
   "source": [
    "# Without creating any new DataFrame variables, select the Cover_Type column from fc, then call its value_counts() method,\n",
    "# followed by the sort_index() method.\n",
    "sorted_cover_values = fc.loc[:, 'Cover_Type'].value_counts().sort_index()\n",
    "\n",
    "# Display the result.\n",
    "sorted_cover_values.head(10)"
   ]
  },
  {
   "cell_type": "markdown",
   "id": "1204ca31-b01e-4a9a-98f2-9490a63b5d6c",
   "metadata": {},
   "source": [
    "### Seven Colors\n",
    "Create a list of seven colors to be used as a palette in later plots."
   ]
  },
  {
   "cell_type": "code",
   "execution_count": 7,
   "id": "052897ff-728f-4a99-a09a-b6d6da9002e0",
   "metadata": {},
   "outputs": [],
   "source": [
    "# Create a list named palette containing seven named colors. \n",
    "palette = ['orchid', 'lightcoral', 'orange', 'gold', 'lightgreen', 'deepskyblue', 'cornflowerblue']"
   ]
  },
  {
   "cell_type": "markdown",
   "id": "55ab1f5c-27f6-44e7-8166-cb0b5c79b0e5",
   "metadata": {},
   "source": [
    "## Part 2: Distribution of Cover Type by Wilderness Area\n",
    "Start by determining the distribution of the wilderness areas within our dataset."
   ]
  },
  {
   "cell_type": "code",
   "execution_count": 8,
   "id": "828de49e-041d-4a78-a598-5ad9b52086cc",
   "metadata": {},
   "outputs": [
    {
     "data": {
      "text/plain": [
       "Wilderness_Area\n",
       "Cache la Poudre    4675\n",
       "Comanche Peak      6349\n",
       "Neota               499\n",
       "Rawah              3597\n",
       "Name: count, dtype: int64"
      ]
     },
     "execution_count": 8,
     "metadata": {},
     "output_type": "execute_result"
    }
   ],
   "source": [
    "# Without creating any new DataFrame variables, select the Wilderness_Area column from fc, then call its\n",
    "# value_counts() method, followed by the sort_index() method. \n",
    "sorted_wilderness_values = fc.loc[:, 'Wilderness_Area'].value_counts().sort_index()\n",
    "\n",
    "# Display the result.\n",
    "sorted_wilderness_values.head()"
   ]
  },
  {
   "cell_type": "markdown",
   "id": "e814715a-969a-4887-be39-6bdd0f6c56cd",
   "metadata": {},
   "source": [
    "Now create a DataFrame to determine the how many regions of each cover type are in each of the four wilderness areas."
   ]
  },
  {
   "cell_type": "code",
   "execution_count": 11,
   "id": "bfa21a8a-b554-40b6-b1be-831b5f3e84fa",
   "metadata": {},
   "outputs": [
    {
     "data": {
      "text/html": [
       "<div>\n",
       "<style scoped>\n",
       "    .dataframe tbody tr th:only-of-type {\n",
       "        vertical-align: middle;\n",
       "    }\n",
       "\n",
       "    .dataframe tbody tr th {\n",
       "        vertical-align: top;\n",
       "    }\n",
       "\n",
       "    .dataframe thead th {\n",
       "        text-align: right;\n",
       "    }\n",
       "</style>\n",
       "<table border=\"1\" class=\"dataframe\">\n",
       "  <thead>\n",
       "    <tr style=\"text-align: right;\">\n",
       "      <th>Wilderness_Area</th>\n",
       "      <th>Cache la Poudre</th>\n",
       "      <th>Comanche Peak</th>\n",
       "      <th>Neota</th>\n",
       "      <th>Rawah</th>\n",
       "    </tr>\n",
       "    <tr>\n",
       "      <th>Cover_Type</th>\n",
       "      <th></th>\n",
       "      <th></th>\n",
       "      <th></th>\n",
       "      <th></th>\n",
       "    </tr>\n",
       "  </thead>\n",
       "  <tbody>\n",
       "    <tr>\n",
       "      <th>1</th>\n",
       "      <td>0</td>\n",
       "      <td>917</td>\n",
       "      <td>181</td>\n",
       "      <td>1062</td>\n",
       "    </tr>\n",
       "    <tr>\n",
       "      <th>2</th>\n",
       "      <td>20</td>\n",
       "      <td>940</td>\n",
       "      <td>66</td>\n",
       "      <td>1134</td>\n",
       "    </tr>\n",
       "    <tr>\n",
       "      <th>3</th>\n",
       "      <td>1297</td>\n",
       "      <td>863</td>\n",
       "      <td>0</td>\n",
       "      <td>0</td>\n",
       "    </tr>\n",
       "    <tr>\n",
       "      <th>4</th>\n",
       "      <td>2160</td>\n",
       "      <td>0</td>\n",
       "      <td>0</td>\n",
       "      <td>0</td>\n",
       "    </tr>\n",
       "    <tr>\n",
       "      <th>5</th>\n",
       "      <td>0</td>\n",
       "      <td>1304</td>\n",
       "      <td>0</td>\n",
       "      <td>856</td>\n",
       "    </tr>\n",
       "    <tr>\n",
       "      <th>6</th>\n",
       "      <td>1198</td>\n",
       "      <td>962</td>\n",
       "      <td>0</td>\n",
       "      <td>0</td>\n",
       "    </tr>\n",
       "    <tr>\n",
       "      <th>7</th>\n",
       "      <td>0</td>\n",
       "      <td>1363</td>\n",
       "      <td>252</td>\n",
       "      <td>545</td>\n",
       "    </tr>\n",
       "  </tbody>\n",
       "</table>\n",
       "</div>"
      ],
      "text/plain": [
       "Wilderness_Area  Cache la Poudre  Comanche Peak  Neota  Rawah\n",
       "Cover_Type                                                   \n",
       "1                              0            917    181   1062\n",
       "2                             20            940     66   1134\n",
       "3                           1297            863      0      0\n",
       "4                           2160              0      0      0\n",
       "5                              0           1304      0    856\n",
       "6                           1198            962      0      0\n",
       "7                              0           1363    252    545"
      ]
     },
     "execution_count": 11,
     "metadata": {},
     "output_type": "execute_result"
    }
   ],
   "source": [
    "# Use pd.crosstab() to count the number of regions of each cover type that are in each of the four wilderness areas.\n",
    "# Pass this function the Cover_Type column as its first argument and the Wilderness_Area column as the second\n",
    "# argument. Store the results in a DataFrame named ct_by_wa\n",
    "ct_by_wa = pd.crosstab(fc.loc[:, 'Cover_Type'], fc.loc[:, 'Wilderness_Area'])\n",
    "\n",
    "# and then display this DataFrame.\n",
    "ct_by_wa.head(10)"
   ]
  },
  {
   "cell_type": "markdown",
   "id": "c31f3443-1849-4928-9742-8066e0aa405f",
   "metadata": {},
   "source": [
    "Now visually represent the information in the above DataFrame, in the form of a stacked bar chart."
   ]
  },
  {
   "cell_type": "code",
   "execution_count": 26,
   "id": "63f36319-652c-4263-bd16-5e788c94ff6c",
   "metadata": {},
   "outputs": [
    {
     "data": {
      "image/png": "[encoded data removed]",
      "text/plain": [
       "<Figure size 800x400 with 1 Axes>"
      ]
     },
     "metadata": {},
     "output_type": "display_data"
    }
   ],
   "source": [
    "# Start by converting the count information into proportions. Create a DataFrame named ct_by_wa_props by\n",
    "# dividing ct_by_wa by the column sums of ct_by_wa. \n",
    "cyl_sums = ct_by_wa.sum()\n",
    "ct_by_wa_props = ct_by_wa / cyl_sums\n",
    "\n",
    "# We will be creating a stacked bar chart, so we need to know where the bottom of each bar should be located.\n",
    "# This can be calculated as follow: \n",
    "bb = np.cumsum(ct_by_wa_props) - ct_by_wa_props\n",
    "# Create a Matplotlib figure, setting the figure size to [8, 4].\n",
    "plt.figure(figsize=[8,4])\n",
    "\n",
    "# add a cover type string value for the plot legend\n",
    "cover_type_names = ['Spruce/Fir', 'Lodgepole Pine', 'Ponderosa Pine', 'Cottonwood/Willow', \n",
    "                    'Aspen', 'Douglas-Fir', 'Krummholz']\n",
    "\n",
    "# Loop over the rows of ct_by_wa_props. Each time this loop executes, add a bar chart to the figure\n",
    "for i in range(0, len(ct_by_wa.iloc[:,0])):\n",
    "    # The height of the bars should be determined by the current row of ct_by_wa_props.\n",
    "    bar_height = ct_by_wa_props.iloc[i, :]\n",
    "    # The bottom position of each bar should be determined by the current row of bb.\n",
    "    bar_bottom = bb.iloc[i]\n",
    "    # Each bar should have a black border, and a fill color determined by the current value of palette.\n",
    "    color = palette[i]\n",
    "    # The label for the legend should be set to the value of Cover_Type associated with the current row.\n",
    "    label = f'{ct_by_wa.index[i]} {cover_type_names[ct_by_wa.index[i] - 1]}'\n",
    "    plt.bar(x=ct_by_wa.columns, height=bar_height, color=color, \n",
    "            edgecolor='black', bottom=bar_bottom, label=label)\n",
    "\n",
    "    \n",
    "# Set the labels for the x and y axes to be \"Wilderness Area\" and \"Proportion\". \n",
    "plt.xlabel('Wilderness Area')\n",
    "plt.ylabel('Proportion')\n",
    "\n",
    "# Set the title to be \"Distribution of Cover Type by Wilderness Area\"\n",
    "plt.title('Distribution of Cover Type by Wilderness Area')\n",
    "\n",
    "# Add a legend to the plot. \n",
    "plt.legend()\n",
    "\n",
    "# Set the bbox_to_anchor parameter to place the legend to the right of the plot, near the top.\n",
    "plt.legend(bbox_to_anchor=(1, 1))\n",
    "\n",
    "# Display the figure using plt.show().\n",
    "plt.show()"
   ]
  },
  {
   "cell_type": "markdown",
   "id": "fc404ba2-ae28-4303-a98d-0c8a9fe3b59f",
   "metadata": {},
   "source": [
    "## Part 3: Distribution of Cover Type by Soil Type\n",
    "Start by creating a DataFrame to determine the number of regions of each cover type there are for each of the 40 soil types."
   ]
  },
  {
   "cell_type": "code",
   "execution_count": 23,
   "id": "9d3964cc-40b8-40c5-ade9-0aa6b741397b",
   "metadata": {},
   "outputs": [
    {
     "data": {
      "text/html": [
       "<div>\n",
       "<style scoped>\n",
       "    .dataframe tbody tr th:only-of-type {\n",
       "        vertical-align: middle;\n",
       "    }\n",
       "\n",
       "    .dataframe tbody tr th {\n",
       "        vertical-align: top;\n",
       "    }\n",
       "\n",
       "    .dataframe thead th {\n",
       "        text-align: right;\n",
       "    }\n",
       "</style>\n",
       "<table border=\"1\" class=\"dataframe\">\n",
       "  <thead>\n",
       "    <tr style=\"text-align: right;\">\n",
       "      <th>Soil_Type</th>\n",
       "      <th>1</th>\n",
       "      <th>2</th>\n",
       "      <th>3</th>\n",
       "      <th>4</th>\n",
       "      <th>5</th>\n",
       "      <th>6</th>\n",
       "      <th>8</th>\n",
       "      <th>9</th>\n",
       "      <th>10</th>\n",
       "      <th>11</th>\n",
       "      <th>...</th>\n",
       "      <th>31</th>\n",
       "      <th>32</th>\n",
       "      <th>33</th>\n",
       "      <th>34</th>\n",
       "      <th>35</th>\n",
       "      <th>36</th>\n",
       "      <th>37</th>\n",
       "      <th>38</th>\n",
       "      <th>39</th>\n",
       "      <th>40</th>\n",
       "    </tr>\n",
       "    <tr>\n",
       "      <th>Cover_Type</th>\n",
       "      <th></th>\n",
       "      <th></th>\n",
       "      <th></th>\n",
       "      <th></th>\n",
       "      <th></th>\n",
       "      <th></th>\n",
       "      <th></th>\n",
       "      <th></th>\n",
       "      <th></th>\n",
       "      <th></th>\n",
       "      <th></th>\n",
       "      <th></th>\n",
       "      <th></th>\n",
       "      <th></th>\n",
       "      <th></th>\n",
       "      <th></th>\n",
       "      <th></th>\n",
       "      <th></th>\n",
       "      <th></th>\n",
       "      <th></th>\n",
       "      <th></th>\n",
       "    </tr>\n",
       "  </thead>\n",
       "  <tbody>\n",
       "    <tr>\n",
       "      <th>1</th>\n",
       "      <td>0</td>\n",
       "      <td>0</td>\n",
       "      <td>0</td>\n",
       "      <td>5</td>\n",
       "      <td>0</td>\n",
       "      <td>0</td>\n",
       "      <td>0</td>\n",
       "      <td>1</td>\n",
       "      <td>9</td>\n",
       "      <td>5</td>\n",
       "      <td>...</td>\n",
       "      <td>114</td>\n",
       "      <td>230</td>\n",
       "      <td>184</td>\n",
       "      <td>0</td>\n",
       "      <td>3</td>\n",
       "      <td>0</td>\n",
       "      <td>0</td>\n",
       "      <td>80</td>\n",
       "      <td>79</td>\n",
       "      <td>49</td>\n",
       "    </tr>\n",
       "    <tr>\n",
       "      <th>2</th>\n",
       "      <td>0</td>\n",
       "      <td>3</td>\n",
       "      <td>12</td>\n",
       "      <td>20</td>\n",
       "      <td>0</td>\n",
       "      <td>7</td>\n",
       "      <td>1</td>\n",
       "      <td>9</td>\n",
       "      <td>81</td>\n",
       "      <td>67</td>\n",
       "      <td>...</td>\n",
       "      <td>97</td>\n",
       "      <td>255</td>\n",
       "      <td>184</td>\n",
       "      <td>12</td>\n",
       "      <td>1</td>\n",
       "      <td>2</td>\n",
       "      <td>0</td>\n",
       "      <td>7</td>\n",
       "      <td>3</td>\n",
       "      <td>3</td>\n",
       "    </tr>\n",
       "    <tr>\n",
       "      <th>3</th>\n",
       "      <td>121</td>\n",
       "      <td>283</td>\n",
       "      <td>133</td>\n",
       "      <td>462</td>\n",
       "      <td>55</td>\n",
       "      <td>248</td>\n",
       "      <td>0</td>\n",
       "      <td>0</td>\n",
       "      <td>717</td>\n",
       "      <td>89</td>\n",
       "      <td>...</td>\n",
       "      <td>0</td>\n",
       "      <td>5</td>\n",
       "      <td>0</td>\n",
       "      <td>0</td>\n",
       "      <td>0</td>\n",
       "      <td>0</td>\n",
       "      <td>0</td>\n",
       "      <td>0</td>\n",
       "      <td>0</td>\n",
       "      <td>0</td>\n",
       "    </tr>\n",
       "    <tr>\n",
       "      <th>4</th>\n",
       "      <td>139</td>\n",
       "      <td>94</td>\n",
       "      <td>799</td>\n",
       "      <td>133</td>\n",
       "      <td>39</td>\n",
       "      <td>244</td>\n",
       "      <td>0</td>\n",
       "      <td>0</td>\n",
       "      <td>170</td>\n",
       "      <td>24</td>\n",
       "      <td>...</td>\n",
       "      <td>0</td>\n",
       "      <td>0</td>\n",
       "      <td>0</td>\n",
       "      <td>0</td>\n",
       "      <td>0</td>\n",
       "      <td>0</td>\n",
       "      <td>0</td>\n",
       "      <td>0</td>\n",
       "      <td>0</td>\n",
       "      <td>0</td>\n",
       "    </tr>\n",
       "    <tr>\n",
       "      <th>5</th>\n",
       "      <td>0</td>\n",
       "      <td>61</td>\n",
       "      <td>0</td>\n",
       "      <td>129</td>\n",
       "      <td>0</td>\n",
       "      <td>0</td>\n",
       "      <td>0</td>\n",
       "      <td>0</td>\n",
       "      <td>64</td>\n",
       "      <td>154</td>\n",
       "      <td>...</td>\n",
       "      <td>87</td>\n",
       "      <td>100</td>\n",
       "      <td>115</td>\n",
       "      <td>4</td>\n",
       "      <td>0</td>\n",
       "      <td>0</td>\n",
       "      <td>0</td>\n",
       "      <td>0</td>\n",
       "      <td>0</td>\n",
       "      <td>0</td>\n",
       "    </tr>\n",
       "    <tr>\n",
       "      <th>6</th>\n",
       "      <td>95</td>\n",
       "      <td>182</td>\n",
       "      <td>18</td>\n",
       "      <td>87</td>\n",
       "      <td>71</td>\n",
       "      <td>151</td>\n",
       "      <td>0</td>\n",
       "      <td>0</td>\n",
       "      <td>1101</td>\n",
       "      <td>67</td>\n",
       "      <td>...</td>\n",
       "      <td>7</td>\n",
       "      <td>30</td>\n",
       "      <td>66</td>\n",
       "      <td>2</td>\n",
       "      <td>0</td>\n",
       "      <td>0</td>\n",
       "      <td>0</td>\n",
       "      <td>0</td>\n",
       "      <td>0</td>\n",
       "      <td>0</td>\n",
       "    </tr>\n",
       "    <tr>\n",
       "      <th>7</th>\n",
       "      <td>0</td>\n",
       "      <td>0</td>\n",
       "      <td>0</td>\n",
       "      <td>7</td>\n",
       "      <td>0</td>\n",
       "      <td>0</td>\n",
       "      <td>0</td>\n",
       "      <td>0</td>\n",
       "      <td>0</td>\n",
       "      <td>0</td>\n",
       "      <td>...</td>\n",
       "      <td>27</td>\n",
       "      <td>70</td>\n",
       "      <td>67</td>\n",
       "      <td>4</td>\n",
       "      <td>98</td>\n",
       "      <td>8</td>\n",
       "      <td>34</td>\n",
       "      <td>641</td>\n",
       "      <td>575</td>\n",
       "      <td>407</td>\n",
       "    </tr>\n",
       "  </tbody>\n",
       "</table>\n",
       "<p>7 rows × 38 columns</p>\n",
       "</div>"
      ],
      "text/plain": [
       "Soil_Type    1    2    3    4   5    6   8   9     10   11  ...   31   32  \\\n",
       "Cover_Type                                                  ...             \n",
       "1             0    0    0    5   0    0   0   1     9    5  ...  114  230   \n",
       "2             0    3   12   20   0    7   1   9    81   67  ...   97  255   \n",
       "3           121  283  133  462  55  248   0   0   717   89  ...    0    5   \n",
       "4           139   94  799  133  39  244   0   0   170   24  ...    0    0   \n",
       "5             0   61    0  129   0    0   0   0    64  154  ...   87  100   \n",
       "6            95  182   18   87  71  151   0   0  1101   67  ...    7   30   \n",
       "7             0    0    0    7   0    0   0   0     0    0  ...   27   70   \n",
       "\n",
       "Soil_Type    33  34  35  36  37   38   39   40  \n",
       "Cover_Type                                      \n",
       "1           184   0   3   0   0   80   79   49  \n",
       "2           184  12   1   2   0    7    3    3  \n",
       "3             0   0   0   0   0    0    0    0  \n",
       "4             0   0   0   0   0    0    0    0  \n",
       "5           115   4   0   0   0    0    0    0  \n",
       "6            66   2   0   0   0    0    0    0  \n",
       "7            67   4  98   8  34  641  575  407  \n",
       "\n",
       "[7 rows x 38 columns]"
      ]
     },
     "execution_count": 23,
     "metadata": {},
     "output_type": "execute_result"
    }
   ],
   "source": [
    "# Use pd.crosstab() to count the number of regions of each cover type there are for each of the 40 soil types. Pass this\n",
    "# function the Cover_Type column as its first argument and the Soil_Type column as the second argument. Store the\n",
    "# results in a DataFrame named ct_by_st \n",
    "ct_by_st = pd.crosstab(fc.loc[:, 'Cover_Type'], fc.loc[:, 'Soil_Type'])\n",
    "\n",
    "# and then display this DataFrame.\n",
    "ct_by_st.head(10)"
   ]
  },
  {
   "cell_type": "markdown",
   "id": "1de82a11-0236-4830-bcd2-d59b47dd6a58",
   "metadata": {},
   "source": [
    "Next, visually represent the information in the DataFrame, in the form of a stacked bar chart."
   ]
  },
  {
   "cell_type": "code",
   "execution_count": 27,
   "id": "45c555ff-16c1-49df-af99-9459aeff246b",
   "metadata": {},
   "outputs": [
    {
     "data": {
      "image/png": "[encoded data removed]",
      "text/plain": [
       "<Figure size 1200x600 with 1 Axes>"
      ]
     },
     "metadata": {},
     "output_type": "display_data"
    }
   ],
   "source": [
    "# Use ct_by_st instead of ct_by_wa, and compute proportions\n",
    "cyl_sums = ct_by_st.sum()\n",
    "# Use ct_by_st_props instead of ct_by_wa_props.\n",
    "ct_by_st_props = ct_by_st / cyl_sums\n",
    "bb = np.cumsum(ct_by_st_props) - ct_by_st_props\n",
    "\n",
    "# Set the figure size to be [12,6].\n",
    "plt.figure(figsize=[12,6])\n",
    "\n",
    "for i in range(0, len(ct_by_st.iloc[:,0])):\n",
    "    bar_height = ct_by_st_props.iloc[i, :]\n",
    "    bar_bottom = bb.iloc[i]\n",
    "    color = palette[i]\n",
    "    label = f'{ct_by_st.index[i]} {cover_type_names[ct_by_st.index[i] - 1]}'\n",
    "    plt.bar(x=ct_by_st.columns, height=bar_height, color=color, \n",
    "            edgecolor='black', bottom=bar_bottom, label=label)\n",
    "\n",
    "    \n",
    "# Change the words \"Wilderness Area\" to \"Soil Type\" in the x-axis label and in the title.\n",
    "plt.xlabel('Soil Type')\n",
    "plt.ylabel('Proportion')\n",
    "\n",
    "plt.title('Distribution of Cover Type by Soil Type')\n",
    "\n",
    "# Add a legend to the plot. \n",
    "plt.legend()\n",
    "\n",
    "# Set the bbox_to_anchor parameter to place the legend to the right of the plot, near the top.\n",
    "plt.legend(bbox_to_anchor=(1, 1))\n",
    "\n",
    "# Display the figure using plt.show().\n",
    "plt.show()"
   ]
  },
  {
   "cell_type": "markdown",
   "id": "97c626f2-5ef9-4721-a344-c2864c5df4a0",
   "metadata": {},
   "source": [
    "## Part 4: Distribution of Elevation by Cover Type\n",
    "Start by calculating the average elevation for each of the seven cover types."
   ]
  },
  {
   "cell_type": "code",
   "execution_count": 29,
   "id": "e58e0de1-fd05-4e2d-ae43-6fd2cca3ce33",
   "metadata": {},
   "outputs": [
    {
     "data": {
      "text/html": [
       "<div>\n",
       "<style scoped>\n",
       "    .dataframe tbody tr th:only-of-type {\n",
       "        vertical-align: middle;\n",
       "    }\n",
       "\n",
       "    .dataframe tbody tr th {\n",
       "        vertical-align: top;\n",
       "    }\n",
       "\n",
       "    .dataframe thead th {\n",
       "        text-align: right;\n",
       "    }\n",
       "</style>\n",
       "<table border=\"1\" class=\"dataframe\">\n",
       "  <thead>\n",
       "    <tr style=\"text-align: right;\">\n",
       "      <th></th>\n",
       "      <th>Elevation</th>\n",
       "    </tr>\n",
       "    <tr>\n",
       "      <th>Cover_Type</th>\n",
       "      <th></th>\n",
       "    </tr>\n",
       "  </thead>\n",
       "  <tbody>\n",
       "    <tr>\n",
       "      <th>1</th>\n",
       "      <td>3128.025926</td>\n",
       "    </tr>\n",
       "    <tr>\n",
       "      <th>2</th>\n",
       "      <td>2922.540278</td>\n",
       "    </tr>\n",
       "    <tr>\n",
       "      <th>3</th>\n",
       "      <td>2398.423148</td>\n",
       "    </tr>\n",
       "    <tr>\n",
       "      <th>4</th>\n",
       "      <td>2223.420370</td>\n",
       "    </tr>\n",
       "    <tr>\n",
       "      <th>5</th>\n",
       "      <td>2786.801389</td>\n",
       "    </tr>\n",
       "    <tr>\n",
       "      <th>6</th>\n",
       "      <td>2423.276852</td>\n",
       "    </tr>\n",
       "    <tr>\n",
       "      <th>7</th>\n",
       "      <td>3362.769907</td>\n",
       "    </tr>\n",
       "  </tbody>\n",
       "</table>\n",
       "</div>"
      ],
      "text/plain": [
       "              Elevation\n",
       "Cover_Type             \n",
       "1           3128.025926\n",
       "2           2922.540278\n",
       "3           2398.423148\n",
       "4           2223.420370\n",
       "5           2786.801389\n",
       "6           2423.276852\n",
       "7           3362.769907"
      ]
     },
     "execution_count": 29,
     "metadata": {},
     "output_type": "execute_result"
    }
   ],
   "source": [
    "# Select the Elevation and Cover_Type columns from fc, group the rows by Cover_Type, and then calculate the\n",
    "# mean Elevation for each group. \n",
    "mean_elevations = fc.loc[:, ['Elevation', 'Cover_Type']].\\\n",
    "    groupby('Cover_Type').mean()\n",
    "\n",
    "# Display the resulting DataFrame.\n",
    "mean_elevations.head(10)"
   ]
  },
  {
   "cell_type": "markdown",
   "id": "d44cbb0d-f269-4c91-b5f4-45c2347b0ccc",
   "metadata": {},
   "source": [
    "Next, create histograms to visually explore the distribution of elevations for each of the seven cover types."
   ]
  },
  {
   "cell_type": "code",
   "execution_count": 44,
   "id": "2a163cac-bd02-4450-89e9-3017ba89935c",
   "metadata": {},
   "outputs": [
    {
     "data": {
      "image/png": "[encoded data removed]",
      "text/plain": [
       "<Figure size 1000x400 with 7 Axes>"
      ]
     },
     "metadata": {},
     "output_type": "display_data"
    }
   ],
   "source": [
    "# Create a figure containing seven subplots arranged in a 2x4 grid (the bottom right subplot will be empty). Each of the\n",
    "# subplots should contain a histogram of elevations for regions with one specific cover type. This can be accomplished with\n",
    "# the following steps:\n",
    "\n",
    "# Set a figure size of [12,6].\n",
    "plt.figure(figsize=[10,4])\n",
    "\n",
    "# Loop over the possible values of Cover_Type (which are integers, 1 – 7). \n",
    "for i in range(1,8):\n",
    "    \n",
    "    # Create a new subplot.\n",
    "    plt.subplot(2,4,i) # seven subplots arranged in a 2x4 grid\n",
    "    \n",
    "    # Add a histogram of Elevation, using only the observations corresponding to the current value of Cover_Type. \n",
    "    sel = fc.loc[:,'Cover_Type'] == i\n",
    "    \n",
    "    # Set bins=np.arange(1800, 4050, 50) and set the fill color for the bars to be\n",
    "    # equal to the corresponding color in palette. \n",
    "    plt.hist(x=fc.loc[sel, 'Elevation'].values, \n",
    "         bins=np.arange(1800, 4050, 50), \n",
    "         edgecolor='k', color='cornflowerblue')\n",
    "    \n",
    "    # Set the title of the subplot to be \"Cover Type X\", with \"X\" replaced by the appropriate integer.\n",
    "    plt.title(f'Cover Type {i}')\n",
    "    \n",
    "    # Set the x-limits to [1800,4000] and set the y-limits to be [0,600].\n",
    "    plt.xlim([1800,4000])\n",
    "    plt.ylim([0, 600])    \n",
    "    \n",
    "    # Set the axis labels for each subplot to \"Elevation\" and \"Count\".\n",
    "    plt.xlabel('Elevation')\n",
    "    plt.ylabel('Count')\n",
    "    \n",
    "    \n",
    "# After the loop finishes, call plt.tight_layout(), and then use plt.show() to display the figure.\n",
    "plt.tight_layout()\n",
    "plt.show()"
   ]
  },
  {
   "cell_type": "markdown",
   "id": "c2374d51-9bd7-4779-9d73-d5d86bfe0457",
   "metadata": {},
   "source": [
    "## Part 5: Creating Training, Validation, and Test Sets\n",
    "Start by separating the categorical features, the numerical features, and the labels."
   ]
  },
  {
   "cell_type": "code",
   "execution_count": 47,
   "id": "b5c4570f-6334-453b-803c-c0dca5b33ea3",
   "metadata": {},
   "outputs": [
    {
     "name": "stdout",
     "output_type": "stream",
     "text": [
      "Numerical Feature Array Shape:   (15120, 10)\n",
      "Categorical Feature Array Shape: (15120, 2)\n",
      "Label Array Shape:               (15120,)\n"
     ]
    }
   ],
   "source": [
    "# Create a 2D array named X_num by selecting the columns of fc that represent numerical features.\n",
    "categorical_columns = ['Wilderness_Area', 'Soil_Type']\n",
    "mask = ~np.isin(fc.columns, categorical_columns) # bitwise-not of is-in categorical column list\n",
    "numerical_columns = fc.columns[mask]\n",
    "X_num_df = fc.loc[:, numerical_columns[:-1]] # omit Cover_Type column, which is last\n",
    "X_num = X_num_df.values\n",
    "\n",
    "# Create a 2D array named X_cat by selecting the columns of fc that represent categorical features.\n",
    "X_cat = fc.loc[:, categorical_columns].values\n",
    "\n",
    "# Create a 1D array named y by selecting the column of fc corresponding to the labels.\n",
    "y = fc.loc[:, 'Cover_Type'].values\n",
    "\n",
    "# Print the shapes of all three of these arrays with messages as shown below.\n",
    "print (f'Numerical Feature Array Shape:   {X_num.shape}')\n",
    "print (f'Categorical Feature Array Shape: {X_cat.shape}')\n",
    "print (f'Label Array Shape:               {y.shape}')"
   ]
  },
  {
   "cell_type": "markdown",
   "id": "7ed6427d-1f9a-45c2-9458-874ea3f42a9b",
   "metadata": {},
   "source": [
    "Next, encode the categorical variables using one-hot encoding."
   ]
  },
  {
   "cell_type": "code",
   "execution_count": 49,
   "id": "185ced79-847a-4c9e-998c-c51ce6f1f9b6",
   "metadata": {},
   "outputs": [
    {
     "name": "stdout",
     "output_type": "stream",
     "text": [
      "Encoded Feature Array Shape: (15120, 42)\n"
     ]
    }
   ],
   "source": [
    "# Create a OneHotEncoder() object setting sparse=False.\n",
    "encoder = OneHotEncoder(sparse_output=False)\n",
    "\n",
    "# Fit the encoder to the categorical features.\n",
    "encoder.fit(X_cat)\n",
    "\n",
    "# Use the encoder to encode the categorical features, storing the result in a variable named X_enc.\n",
    "X_enc = encoder.transform(X_cat)\n",
    "\n",
    "# Print the shape of X_enc with a message as shown below.\n",
    "print (f'Encoded Feature Array Shape: {X_enc.shape}')"
   ]
  },
  {
   "cell_type": "markdown",
   "id": "ab12d63c-a1aa-4c4f-aaf7-b17f7f8f68ab",
   "metadata": {},
   "source": [
    "Next, combine the numerical features with the encoded features."
   ]
  },
  {
   "cell_type": "code",
   "execution_count": 50,
   "id": "eea872f9-4702-4f94-858d-34d8a7440050",
   "metadata": {},
   "outputs": [
    {
     "name": "stdout",
     "output_type": "stream",
     "text": [
      "Feature Array Shape: (15120, 52)\n"
     ]
    }
   ],
   "source": [
    "# Use np.hstack to combine X_num and X_enc into a single array named X.\n",
    "X = np.hstack([X_num, X_enc])\n",
    "\n",
    "# Print the shape of X with a message as shown below.\n",
    "print (f'Feature Array Shape: {X.shape}')"
   ]
  },
  {
   "cell_type": "markdown",
   "id": "82b58cd6-4d25-41bf-9f15-620a6f192801",
   "metadata": {},
   "source": [
    "Next, split the data into training, validation, and test sets, using a 70/15/15 split."
   ]
  },
  {
   "cell_type": "code",
   "execution_count": 51,
   "id": "464839f3-0607-4e55-831b-6af2838dcfce",
   "metadata": {},
   "outputs": [
    {
     "name": "stdout",
     "output_type": "stream",
     "text": [
      "Training Features Shape:   (10584, 52)\n",
      "Validation Features Shape: (2268, 52)\n",
      "Test Features Shape:       (2268, 52)\n"
     ]
    }
   ],
   "source": [
    "# Use train_test_split() to split the data into training and holdout sets using an 70/30 split. Name the\n",
    "# resulting arrays X_train, X_hold, y_train, and y_hold. Set random state=1. Use stratified sampling.\n",
    "X_train, X_hold, y_train, y_hold = train_test_split(X, y, test_size = 0.3, random_state=1, stratify=y)\n",
    "\n",
    "# Use train_test_split() to split the holdout data into validation and test sets using a 50/50 split. Name the\n",
    "# resulting arrays X_valid, X_test, y_valid, and y_test. Set random state=1. Use stratified sampling.\n",
    "X_valid, X_test, y_valid, y_test = train_test_split(X_hold, y_hold, test_size = 0.5, random_state=1, stratify=y_hold)\n",
    "\n",
    "# • Print the shapes of X_train, X_valid, and X_test with messages as shown below.\n",
    "print (f'Training Features Shape:   {X_train.shape}')\n",
    "print (f'Validation Features Shape: {X_valid.shape}')\n",
    "print (f'Test Features Shape:       {X_test.shape}')"
   ]
  },
  {
   "cell_type": "markdown",
   "id": "1268d736-9f73-4c79-8783-ca5ac9dd2824",
   "metadata": {},
   "source": []
  },
  {
   "cell_type": "markdown",
   "id": "5ca92d45-20da-45c1-9625-f8e1400f6ff5",
   "metadata": {},
   "source": [
    "## **************************\n",
    "Part 6: Logistic Regression Model\". Also add some text\n",
    "briefly describing the purpose of your code in this part."
   ]
  },
  {
   "cell_type": "code",
   "execution_count": 56,
   "id": "b9187ccb-fda8-45b2-ba6a-6300ab11426d",
   "metadata": {},
   "outputs": [
    {
     "name": "stdout",
     "output_type": "stream",
     "text": [
      "Training Accuracy:   0.6126\n",
      "Validation Accuracy: 0.6164\n"
     ]
    },
    {
     "name": "stderr",
     "output_type": "stream",
     "text": [
      "/opt/anaconda3/lib/python3.13/site-packages/sklearn/linear_model/_logistic.py:465: ConvergenceWarning: lbfgs failed to converge (status=1):\n",
      "STOP: TOTAL NO. OF ITERATIONS REACHED LIMIT.\n",
      "\n",
      "Increase the number of iterations (max_iter) or scale the data as shown in:\n",
      "    https://scikit-learn.org/stable/modules/preprocessing.html\n",
      "Please also refer to the documentation for alternative solver options:\n",
      "    https://scikit-learn.org/stable/modules/linear_model.html#logistic-regression\n",
      "  n_iter_i = _check_optimize_result(\n"
     ]
    }
   ],
   "source": [
    "# Create a logistic regression model named lr_mod setting solver='lbfgs', max_iter=1000, Set penalty='none'\n",
    "lr_mod = LogisticRegression(solver='lbfgs', max_iter=1000, penalty=None) # multi_class='multinomial' is default\n",
    "\n",
    "# Fit your model to the training data.\n",
    "lr_mod.fit(X_train, y_train)\n",
    "\n",
    "# Calculate the training and validation accuracy with messages as shown below. Round the scores to 4 decimal places.\n",
    "train_r2 = lr_mod.score(X_train, y_train)\n",
    "valid_r2 = lr_mod.score(X_valid, y_valid)\n",
    "print (f'Training Accuracy:   {round(train_r2, 4)}')\n",
    "print (f'Validation Accuracy: {round(valid_r2, 4)}')"
   ]
  },
  {
   "cell_type": "markdown",
   "id": "0cc345c9-450b-4432-a592-bac51b6c0bc3",
   "metadata": {},
   "source": [
    "## *************************\n",
    "Part 7: Decision Tree Models\". Also add some text briefly\n",
    "describing the purpose of your code in this part."
   ]
  },
  {
   "cell_type": "code",
   "execution_count": 61,
   "id": "84e36041-bf31-465c-8c0a-2607cfa4b39a",
   "metadata": {},
   "outputs": [
    {
     "name": "stdout",
     "output_type": "stream",
     "text": [
      "Optimal value for max_depth:           18\n",
      "Training Accuracy for Optimal Model:   0.9804\n",
      "Validation Accuracy for Optimal Model: 0.772\n"
     ]
    }
   ],
   "source": [
    "# Create empty lists named dt_train_acc and dt_valid_acc. \n",
    "dt_train_acc = []\n",
    "dt_valid_acc = []\n",
    "\n",
    "# Create a range variable named depth_range to represent a sequence of integers from 2 to 30.\n",
    "depth_range = range(2, 31)\n",
    "\n",
    "# Loop over the values in depth_range.\n",
    "for i in depth_range:\n",
    "    # Use NumPy to set a random seed of 1. This should be done inside the loop.\n",
    "    np.random.seed(1)\n",
    "    \n",
    "    # Create a decision tree model named temp_tree with max_depth equal to the current value from depth_range that is being considered.\n",
    "    temp_tree = DecisionTreeClassifier(max_depth=i)\n",
    "    \n",
    "    # Fit the model to the training data.\n",
    "    temp_tree.fit(X_train, y_train)\n",
    "    \n",
    "    # Calculate the training and validation accuracy for temp_tree, appending the resulting values to the appropriate lists.\n",
    "    dt_train_acc.append(temp_tree.score(X_train, y_train))\n",
    "    dt_valid_acc.append(temp_tree.score(X_valid, y_valid))\n",
    "\n",
    "# Use np.argmax to determine the index of the maximum value in dt_valid_acc. Store the result in dt_idx.\n",
    "dt_idx = np.argmax(dt_valid_acc)\n",
    "\n",
    "# Use dt_idx and depth_range to find the optimal value for the max_depth hyperparameter. Store the result in dt_opt_depth.\n",
    "dt_opt_depth = depth_range[dt_idx]\n",
    "\n",
    "# Use dt_idx with the lists dt_train_acc and dt_valid_acc to determine the training and validation\n",
    "# accuracies for the optimal model found.\n",
    "opt_train_acc = dt_train_acc[dt_idx]\n",
    "opt_valid_acc = dt_valid_acc[dt_idx]\n",
    "\n",
    "# Display the values found in Steps 5 and 6 with messages as shown below. Round the accuracy scores to 4 decimal places.\n",
    "print (f'Optimal value for max_depth:           {dt_opt_depth}')\n",
    "print (f'Training Accuracy for Optimal Model:   {round(opt_train_acc, 4)}')\n",
    "print (f'Validation Accuracy for Optimal Model: {round(opt_valid_acc, 4)}')"
   ]
  },
  {
   "cell_type": "markdown",
   "id": "e44f694e-9005-4121-b865-c43c14fc7e3c",
   "metadata": {},
   "source": [
    "### Plot Validation Curve\n",
    "Plot the training and validation curves as a function of max_depth, so that the peak of the validation curve can be confirmed"
   ]
  },
  {
   "cell_type": "code",
   "execution_count": 62,
   "id": "c3a69161-cccc-4620-9cb4-7be7b726e68b",
   "metadata": {},
   "outputs": [
    {
     "data": {
      "image/png": "[encoded data removed]",
      "text/plain": [
       "<Figure size 640x480 with 1 Axes>"
      ]
     },
     "metadata": {},
     "output_type": "display_data"
    }
   ],
   "source": [
    "# Create a figure with two line plots on the same set of axes. One line plot should plot values of dt_train_acc against depth_range \n",
    "# The plot should contain a legend with two items that read \"Training\"\n",
    "plt.plot(depth_range, dt_train_acc, label='Training')\n",
    "\n",
    "# and the other should plot values of dt_valid_acc against depth_range. \n",
    "# label \"Validation\" for legend\n",
    "plt.plot(depth_range, dt_valid_acc, label='Validation')\n",
    "plt.legend()\n",
    "\n",
    "# The x-axis should be labeled \"Max Depth\" and the y-axis should be labeled \"Accuracy\".  \n",
    "plt.xlabel('Max Depth')\n",
    "plt.ylabel('Accuracy')\n",
    "\n",
    "plt.show()"
   ]
  },
  {
   "cell_type": "markdown",
   "id": "c54abc4f-2751-44b0-bf48-f93e4ae8c249",
   "metadata": {},
   "source": [
    "## *****************\n",
    "Part 8: Random Forest Models\". Also add some text\n",
    "briefly describing the purpose of your code in this part."
   ]
  },
  {
   "cell_type": "code",
   "execution_count": 63,
   "id": "fb6a0654-68eb-4f3b-9e1e-b30170558b17",
   "metadata": {},
   "outputs": [
    {
     "name": "stdout",
     "output_type": "stream",
     "text": [
      "Optimal value for max_depth:           28\n",
      "Training Accuracy for Optimal Model:   28\n",
      "Validation Accuracy for Optimal Model: 28\n"
     ]
    }
   ],
   "source": [
    "# Create empty lists named rf_train_acc and rf_valid_acc. \n",
    "rf_train_acc = []\n",
    "rf_valid_acc = []\n",
    "\n",
    "# Loop over the values in depth_range (from Part 7). \n",
    "for i in depth_range:\n",
    "    # Use NumPy to set a random seed of 1. This should be done inside the loop.\n",
    "    np.random.seed(1)\n",
    "    \n",
    "    # Create a decision tree model named temp_forest with max_depth equal to the current value from\n",
    "    # depth_range that is being considered. Set the parameter n_estimators to 100.\n",
    "    temp_forest = RandomForestClassifier(n_estimators=100, max_depth=i)\n",
    "    \n",
    "    # Fit the model to the training data.\n",
    "    temp_forest.fit(X_train, y_train)\n",
    "    \n",
    "    # Calculate the training and validation accuracy for temp_forest, appending the resulting values to the appropriate lists.\n",
    "    rf_train_acc.append(temp_forest.score(X_train, y_train))\n",
    "    rf_valid_acc.append(temp_forest.score(X_valid, y_valid))\n",
    "    \n",
    "# Use np.argmax to determine the index of the maximum value in rf_valid_acc. Store the result in rf_idx.\n",
    "rf_idx = np.argmax(rf_valid_acc)\n",
    "\n",
    "# Use rf_idx and depth_range to find the optimal value for the max_depth hyperparameter. Store the result in rf_opt_depth.\n",
    "rf_opt_depth = depth_range[rf_idx]\n",
    "\n",
    "# Use rf_idx with the lists rf_train_acc and rf_valid_acc to determine the training and validation accuracies for the optimal model found.\n",
    "opt_train_acc = rf_train_acc[rf_idx]\n",
    "opt_valid_acc = rf_valid_acc[rf_idx]\n",
    "\n",
    "# 6. Display the values found in Steps 4 and 5 with messages as shown below. Round the accuracy scores to 4 decimal places.\n",
    "print (f'Optimal value for max_depth:           {rf_opt_depth}')\n",
    "print (f'Training Accuracy for Optimal Model:   {round(opt_train_acc, 4)}')\n",
    "print (f'Validation Accuracy for Optimal Model: {round(opt_valid_acc, 4)}')"
   ]
  },
  {
   "cell_type": "markdown",
   "id": "c2d878dc-b424-450a-8a03-8948f5edadf2",
   "metadata": {},
   "source": [
    "### Plot Validation Curve\n",
    "Plot the training and validation curves as a function of max_depth, so that the peak of the validation curve can be confirmed"
   ]
  },
  {
   "cell_type": "code",
   "execution_count": 65,
   "id": "8e1f25d3-7eeb-4f1d-a15c-d26a25b9f029",
   "metadata": {},
   "outputs": [
    {
     "data": {
      "image/png": "[encoded data removed]",
      "text/plain": [
       "<Figure size 640x480 with 1 Axes>"
      ]
     },
     "metadata": {},
     "output_type": "display_data"
    }
   ],
   "source": [
    "# Create a figure with two line plots on the same set of axes. One line plot should plot values of rf_train_acc against depth_range\n",
    "# The plot should contain a legend with two items that read \"Training\" \n",
    "plt.plot(depth_range, rf_train_acc, label='Training')\n",
    "\n",
    "# and the other should plot values of rf_valid_acc against depth_range. \n",
    "# label \"Validation\" for legend\n",
    "plt.plot(depth_range, rf_valid_acc, label='Validation')\n",
    "plt.legend()\n",
    "\n",
    "# The x-axis should be labeled \"Max Depth\" and the y-axis should be labeled \"Accuracy\". \n",
    "plt.xlabel('Max Depth')\n",
    "plt.ylabel('Accuracy')\n",
    "\n",
    "plt.show()"
   ]
  },
  {
   "cell_type": "markdown",
   "id": "a0e3d598-30f7-46ba-bd1b-1f1efefbc954",
   "metadata": {},
   "source": [
    "## Part 9: Random Forest Models\n",
    "The logistic regression model, even with all of the categorical features encoded, gave a validation accuracy score of only 61%.  The decision tree model gave a validation accuracy score of 77%.  The model with the best validation accuracy is the random forest model, with a score of 86.7%.  Therefore we select the random forest model as our final model, using maximum depth of 28."
   ]
  },
  {
   "cell_type": "code",
   "execution_count": 67,
   "id": "c6b06ba9-76aa-4208-a62b-77b1e4186d78",
   "metadata": {},
   "outputs": [
    {
     "name": "stdout",
     "output_type": "stream",
     "text": [
      "Training Accuracy for Final Model:   1.0\n",
      "Validation Accuracy for Final Model: 0.8677\n",
      "Testing Accuracy for Final Model:    0.8593\n"
     ]
    }
   ],
   "source": [
    "# If your final model is a decision tree or random forest model, use NumPy to set a random seed of 1.\n",
    "np.random.seed(1)\n",
    "\n",
    "# Recreate the best model you found, using the parameter values that produced that model. Store the resulting\n",
    "# model in a variable named final_model.\n",
    "final_model = RandomForestClassifier(n_estimators=100, max_depth=28)\n",
    "\n",
    "# Fit this model to the training set.\n",
    "final_model.fit(X_train, y_train)\n",
    "\n",
    "# Print the training accuracy, validation accuracy, and test accuracy for the final model with messages as shown\n",
    "# below. Round the accuracy scores to four decimal places.\n",
    "train_acc = final_model.score(X_train, y_train)\n",
    "valid_acc = final_model.score(X_valid, y_valid)\n",
    "test_acc = final_model.score(X_test, y_test)\n",
    "\n",
    "print (f'Training Accuracy for Final Model:   {train_acc}')\n",
    "print (f'Validation Accuracy for Final Model: {round(valid_acc, 4)}')\n",
    "print (f'Testing Accuracy for Final Model:    {round(test_acc, 4)}')"
   ]
  },
  {
   "cell_type": "markdown",
   "id": "0be78bad-03d8-4759-8c5c-b3abb1aafb83",
   "metadata": {},
   "source": []
  },
  {
   "cell_type": "markdown",
   "id": "62c06530-189f-4ff2-81fb-4fcb616e6aa5",
   "metadata": {},
   "source": [
    "### Confusion Matrix\n",
    "Create and display a confusion matrix detailing the model's performance on the test set."
   ]
  },
  {
   "cell_type": "code",
   "execution_count": 70,
   "id": "a9344592-904e-4b23-aab1-8d2b318af392",
   "metadata": {},
   "outputs": [
    {
     "data": {
      "text/html": [
       "<div>\n",
       "<style scoped>\n",
       "    .dataframe tbody tr th:only-of-type {\n",
       "        vertical-align: middle;\n",
       "    }\n",
       "\n",
       "    .dataframe tbody tr th {\n",
       "        vertical-align: top;\n",
       "    }\n",
       "\n",
       "    .dataframe thead th {\n",
       "        text-align: right;\n",
       "    }\n",
       "</style>\n",
       "<table border=\"1\" class=\"dataframe\">\n",
       "  <thead>\n",
       "    <tr style=\"text-align: right;\">\n",
       "      <th></th>\n",
       "      <th>1</th>\n",
       "      <th>2</th>\n",
       "      <th>3</th>\n",
       "      <th>4</th>\n",
       "      <th>5</th>\n",
       "      <th>6</th>\n",
       "      <th>7</th>\n",
       "    </tr>\n",
       "  </thead>\n",
       "  <tbody>\n",
       "    <tr>\n",
       "      <th>1</th>\n",
       "      <td>236</td>\n",
       "      <td>63</td>\n",
       "      <td>2</td>\n",
       "      <td>0</td>\n",
       "      <td>5</td>\n",
       "      <td>0</td>\n",
       "      <td>18</td>\n",
       "    </tr>\n",
       "    <tr>\n",
       "      <th>2</th>\n",
       "      <td>53</td>\n",
       "      <td>239</td>\n",
       "      <td>6</td>\n",
       "      <td>0</td>\n",
       "      <td>13</td>\n",
       "      <td>10</td>\n",
       "      <td>3</td>\n",
       "    </tr>\n",
       "    <tr>\n",
       "      <th>3</th>\n",
       "      <td>0</td>\n",
       "      <td>2</td>\n",
       "      <td>262</td>\n",
       "      <td>18</td>\n",
       "      <td>2</td>\n",
       "      <td>40</td>\n",
       "      <td>0</td>\n",
       "    </tr>\n",
       "    <tr>\n",
       "      <th>4</th>\n",
       "      <td>0</td>\n",
       "      <td>0</td>\n",
       "      <td>6</td>\n",
       "      <td>313</td>\n",
       "      <td>0</td>\n",
       "      <td>5</td>\n",
       "      <td>0</td>\n",
       "    </tr>\n",
       "    <tr>\n",
       "      <th>5</th>\n",
       "      <td>0</td>\n",
       "      <td>11</td>\n",
       "      <td>4</td>\n",
       "      <td>0</td>\n",
       "      <td>305</td>\n",
       "      <td>4</td>\n",
       "      <td>0</td>\n",
       "    </tr>\n",
       "    <tr>\n",
       "      <th>6</th>\n",
       "      <td>0</td>\n",
       "      <td>0</td>\n",
       "      <td>33</td>\n",
       "      <td>11</td>\n",
       "      <td>1</td>\n",
       "      <td>279</td>\n",
       "      <td>0</td>\n",
       "    </tr>\n",
       "    <tr>\n",
       "      <th>7</th>\n",
       "      <td>8</td>\n",
       "      <td>1</td>\n",
       "      <td>0</td>\n",
       "      <td>0</td>\n",
       "      <td>0</td>\n",
       "      <td>0</td>\n",
       "      <td>315</td>\n",
       "    </tr>\n",
       "  </tbody>\n",
       "</table>\n",
       "</div>"
      ],
      "text/plain": [
       "     1    2    3    4    5    6    7\n",
       "1  236   63    2    0    5    0   18\n",
       "2   53  239    6    0   13   10    3\n",
       "3    0    2  262   18    2   40    0\n",
       "4    0    0    6  313    0    5    0\n",
       "5    0   11    4    0  305    4    0\n",
       "6    0    0   33   11    1  279    0\n",
       "7    8    1    0    0    0    0  315"
      ]
     },
     "execution_count": 70,
     "metadata": {},
     "output_type": "execute_result"
    }
   ],
   "source": [
    "# Use your final model to generate predictions for the test set, storing them in a variable named test_pred.\n",
    "test_pred = final_model.predict(X_test)\n",
    "\n",
    "# Create a confusion matrix by passing y_test and test_pred to the function confusion_matrix() from Scikit-Learn. This\n",
    "# function returns a NumPy array. Store this array in a variable, \n",
    "cm = confusion_matrix(y_test, test_pred)\n",
    "\n",
    "# ...and then convert it to a DataFrame with row and column names being set equal to the valid labels (i.e. the integers 1 – 7). Display the resulting DataFrame.\n",
    "cm_df = pd.DataFrame(cm, index=range(1,8), columns=range(1,8))\n",
    "cm_df.head(10)"
   ]
  },
  {
   "cell_type": "code",
   "execution_count": null,
   "id": "916dbdfc-0ead-4c36-8221-9a1ffc6fdb10",
   "metadata": {},
   "outputs": [],
   "source": []
  },
  {
   "cell_type": "code",
   "execution_count": null,
   "id": "570e01ce-2d04-4699-b436-cf74fa906058",
   "metadata": {},
   "outputs": [],
   "source": []
  },
  {
   "cell_type": "code",
   "execution_count": null,
   "id": "f7356254-d645-4a7b-82c4-df7cd65f1a83",
   "metadata": {},
   "outputs": [],
   "source": []
  },
  {
   "cell_type": "code",
   "execution_count": null,
   "id": "11764f88-b8a5-4ee3-8269-e6423d8a6dcf",
   "metadata": {},
   "outputs": [],
   "source": []
  },
  {
   "cell_type": "code",
   "execution_count": null,
   "id": "26142987-23c1-43ec-8e68-c42fa1ea59a3",
   "metadata": {},
   "outputs": [],
   "source": []
  },
  {
   "cell_type": "code",
   "execution_count": null,
   "id": "ca4ba04e-6403-45ac-9936-6bc37236f80b",
   "metadata": {},
   "outputs": [],
   "source": []
  }
 ],
 "metadata": {
  "kernelspec": {
   "display_name": "Python 3 (ipykernel)",
   "language": "python",
   "name": "python3"
  },
  "language_info": {
   "codemirror_mode": {
    "name": "ipython",
    "version": 3
   },
   "file_extension": ".py",
   "mimetype": "text/x-python",
   "name": "python",
   "nbconvert_exporter": "python",
   "pygments_lexer": "ipython3",
   "version": "3.13.5"
  }
 },
 "nbformat": 4,
 "nbformat_minor": 5
}

{
 "cells": [
  {
   "cell_type": "markdown",
   "id": "ecd2f064-300c-44be-a980-4a8c13f3e74d",
   "metadata": {},
   "source": [
    "# DSCI 503 – Project 04\n",
    "### Matt Snyder"
   ]
  },
  {
   "cell_type": "code",
   "execution_count": 1,
   "id": "189d8116-bf54-49f0-bc25-f4368fa9670a",
   "metadata": {},
   "outputs": [],
   "source": [
    "import numpy as np\n",
    "import pandas as pd\n",
    "import matplotlib.pyplot as plt\n",
    "\n",
    "from sklearn.model_selection import train_test_split\n",
    "from sklearn.preprocessing import OneHotEncoder\n",
    "from sklearn.metrics import confusion_matrix, classification_report\n",
    "\n",
    "from sklearn.linear_model import LogisticRegression\n",
    "from sklearn.tree import DecisionTreeClassifier\n",
    "from sklearn.ensemble import RandomForestClassifier"
   ]
  },
  {
   "cell_type": "markdown",
   "id": "3b5061a0-7354-4b58-b4c7-6b7a094059b2",
   "metadata": {},
   "source": [
    "## Part 1: Loading the Dataset; Preliminary Analysis\n",
    "# *******************************************************"
   ]
  },
  {
   "cell_type": "code",
   "execution_count": 2,
   "id": "b0d26ee2-5460-4e05-85fc-1ca13b787ecf",
   "metadata": {},
   "outputs": [
    {
     "data": {
      "text/html": [
       "<div>\n",
       "<style scoped>\n",
       "    .dataframe tbody tr th:only-of-type {\n",
       "        vertical-align: middle;\n",
       "    }\n",
       "\n",
       "    .dataframe tbody tr th {\n",
       "        vertical-align: top;\n",
       "    }\n",
       "\n",
       "    .dataframe thead th {\n",
       "        text-align: right;\n",
       "    }\n",
       "</style>\n",
       "<table border=\"1\" class=\"dataframe\">\n",
       "  <thead>\n",
       "    <tr style=\"text-align: right;\">\n",
       "      <th></th>\n",
       "      <th>Elevation</th>\n",
       "      <th>Aspect</th>\n",
       "      <th>Slope</th>\n",
       "      <th>Horizontal_Distance_To_Hydrology</th>\n",
       "      <th>Vertical_Distance_To_Hydrology</th>\n",
       "      <th>Horizontal_Distance_To_Roadways</th>\n",
       "      <th>Hillshade_9am</th>\n",
       "      <th>Hillshade_Noon</th>\n",
       "      <th>Hillshade_3pm</th>\n",
       "      <th>Horizontal_Distance_To_Fire_Points</th>\n",
       "      <th>Wilderness_Area</th>\n",
       "      <th>Soil_Type</th>\n",
       "      <th>Cover_Type</th>\n",
       "    </tr>\n",
       "  </thead>\n",
       "  <tbody>\n",
       "    <tr>\n",
       "      <th>0</th>\n",
       "      <td>2596</td>\n",
       "      <td>51</td>\n",
       "      <td>3</td>\n",
       "      <td>258</td>\n",
       "      <td>0</td>\n",
       "      <td>510</td>\n",
       "      <td>221</td>\n",
       "      <td>232</td>\n",
       "      <td>148</td>\n",
       "      <td>6279</td>\n",
       "      <td>Rawah</td>\n",
       "      <td>29</td>\n",
       "      <td>5</td>\n",
       "    </tr>\n",
       "    <tr>\n",
       "      <th>1</th>\n",
       "      <td>2590</td>\n",
       "      <td>56</td>\n",
       "      <td>2</td>\n",
       "      <td>212</td>\n",
       "      <td>-6</td>\n",
       "      <td>390</td>\n",
       "      <td>220</td>\n",
       "      <td>235</td>\n",
       "      <td>151</td>\n",
       "      <td>6225</td>\n",
       "      <td>Rawah</td>\n",
       "      <td>29</td>\n",
       "      <td>5</td>\n",
       "    </tr>\n",
       "    <tr>\n",
       "      <th>2</th>\n",
       "      <td>2804</td>\n",
       "      <td>139</td>\n",
       "      <td>9</td>\n",
       "      <td>268</td>\n",
       "      <td>65</td>\n",
       "      <td>3180</td>\n",
       "      <td>234</td>\n",
       "      <td>238</td>\n",
       "      <td>135</td>\n",
       "      <td>6121</td>\n",
       "      <td>Rawah</td>\n",
       "      <td>12</td>\n",
       "      <td>2</td>\n",
       "    </tr>\n",
       "    <tr>\n",
       "      <th>3</th>\n",
       "      <td>2785</td>\n",
       "      <td>155</td>\n",
       "      <td>18</td>\n",
       "      <td>242</td>\n",
       "      <td>118</td>\n",
       "      <td>3090</td>\n",
       "      <td>238</td>\n",
       "      <td>238</td>\n",
       "      <td>122</td>\n",
       "      <td>6211</td>\n",
       "      <td>Rawah</td>\n",
       "      <td>30</td>\n",
       "      <td>2</td>\n",
       "    </tr>\n",
       "    <tr>\n",
       "      <th>4</th>\n",
       "      <td>2595</td>\n",
       "      <td>45</td>\n",
       "      <td>2</td>\n",
       "      <td>153</td>\n",
       "      <td>-1</td>\n",
       "      <td>391</td>\n",
       "      <td>220</td>\n",
       "      <td>234</td>\n",
       "      <td>150</td>\n",
       "      <td>6172</td>\n",
       "      <td>Rawah</td>\n",
       "      <td>29</td>\n",
       "      <td>5</td>\n",
       "    </tr>\n",
       "  </tbody>\n",
       "</table>\n",
       "</div>"
      ],
      "text/plain": [
       "   Elevation  Aspect  Slope  Horizontal_Distance_To_Hydrology  \\\n",
       "0       2596      51      3                               258   \n",
       "1       2590      56      2                               212   \n",
       "2       2804     139      9                               268   \n",
       "3       2785     155     18                               242   \n",
       "4       2595      45      2                               153   \n",
       "\n",
       "   Vertical_Distance_To_Hydrology  Horizontal_Distance_To_Roadways  \\\n",
       "0                               0                              510   \n",
       "1                              -6                              390   \n",
       "2                              65                             3180   \n",
       "3                             118                             3090   \n",
       "4                              -1                              391   \n",
       "\n",
       "   Hillshade_9am  Hillshade_Noon  Hillshade_3pm  \\\n",
       "0            221             232            148   \n",
       "1            220             235            151   \n",
       "2            234             238            135   \n",
       "3            238             238            122   \n",
       "4            220             234            150   \n",
       "\n",
       "   Horizontal_Distance_To_Fire_Points Wilderness_Area  Soil_Type  Cover_Type  \n",
       "0                                6279           Rawah         29           5  \n",
       "1                                6225           Rawah         29           5  \n",
       "2                                6121           Rawah         12           2  \n",
       "3                                6211           Rawah         30           2  \n",
       "4                                6172           Rawah         29           5  "
      ]
     },
     "execution_count": 2,
     "metadata": {},
     "output_type": "execute_result"
    }
   ],
   "source": [
    "# The data is stored in the tab-delimited text file forest_cover.txt. Download this file into the directory that contains\n",
    "# your notebook, and then load the data into a DataFrame named fc. \n",
    "fc = pd.read_table('forest_cover.txt')\n",
    "\n",
    "# Use the head() method to display the first 5 rows of this DataFrame.\n",
    "fc.head(5)"
   ]
  },
  {
   "cell_type": "markdown",
   "id": "24f3bfa1-bc1f-4cb7-a53c-d4f59657d090",
   "metadata": {},
   "source": [
    "### *************************************\n",
    "we will determine the size of the dataset. State what the results tell you about the\n",
    "number of observations in the dataset."
   ]
  },
  {
   "cell_type": "code",
   "execution_count": 3,
   "id": "8fb4ff02-7a0c-44cd-b965-98e690001e8e",
   "metadata": {},
   "outputs": [
    {
     "data": {
      "text/plain": [
       "(15120, 13)"
      ]
     },
     "execution_count": 3,
     "metadata": {},
     "output_type": "execute_result"
    }
   ],
   "source": [
    "# Print the shape of the fc DataFrame.\n",
    "fc.shape"
   ]
  },
  {
   "cell_type": "markdown",
   "id": "658a6753-4588-4305-b91e-f4252cc71636",
   "metadata": {},
   "source": [
    "### **************\n",
    "We will now inspect the distribution of cover types in the datasets. Add a markdown cell to briefly explain this."
   ]
  },
  {
   "cell_type": "code",
   "execution_count": 9,
   "id": "0b06b9e5-f239-4eac-8b48-c2d7cdc2d194",
   "metadata": {},
   "outputs": [
    {
     "data": {
      "text/plain": [
       "Cover_Type\n",
       "1    2160\n",
       "2    2160\n",
       "3    2160\n",
       "4    2160\n",
       "5    2160\n",
       "6    2160\n",
       "7    2160\n",
       "Name: count, dtype: int64"
      ]
     },
     "execution_count": 9,
     "metadata": {},
     "output_type": "execute_result"
    }
   ],
   "source": [
    "# Without creating any new DataFrame variables, select the Cover_Type column from fc, then call its value_counts() method,\n",
    "# followed by the sort_index() method.\n",
    "sorted_cover_values = fc.loc[:, 'Cover_Type'].value_counts().sort_index()\n",
    "\n",
    "# Display the result.\n",
    "sorted_cover_values.head(10)"
   ]
  },
  {
   "cell_type": "markdown",
   "id": "1204ca31-b01e-4a9a-98f2-9490a63b5d6c",
   "metadata": {},
   "source": [
    "### Seven Colors\n",
    "Create a list of seven colors to be used as a palette in later plots."
   ]
  },
  {
   "cell_type": "code",
   "execution_count": 7,
   "id": "052897ff-728f-4a99-a09a-b6d6da9002e0",
   "metadata": {},
   "outputs": [],
   "source": [
    "# Create a list named palette containing seven named colors. \n",
    "palette = ['orchid', 'lightcoral', 'orange', 'gold', 'lightgreen', 'deepskyblue', 'cornflowerblue']"
   ]
  },
  {
   "cell_type": "markdown",
   "id": "55ab1f5c-27f6-44e7-8166-cb0b5c79b0e5",
   "metadata": {},
   "source": [
    "## Part 2: Distribution of Cover Type by Wilderness Area\n",
    "Start by determining the distribution of the wilderness areas within our dataset."
   ]
  },
  {
   "cell_type": "code",
   "execution_count": 8,
   "id": "828de49e-041d-4a78-a598-5ad9b52086cc",
   "metadata": {},
   "outputs": [
    {
     "data": {
      "text/plain": [
       "Wilderness_Area\n",
       "Cache la Poudre    4675\n",
       "Comanche Peak      6349\n",
       "Neota               499\n",
       "Rawah              3597\n",
       "Name: count, dtype: int64"
      ]
     },
     "execution_count": 8,
     "metadata": {},
     "output_type": "execute_result"
    }
   ],
   "source": [
    "# Without creating any new DataFrame variables, select the Wilderness_Area column from fc, then call its\n",
    "# value_counts() method, followed by the sort_index() method. \n",
    "sorted_wilderness_values = fc.loc[:, 'Wilderness_Area'].value_counts().sort_index()\n",
    "\n",
    "# Display the result.\n",
    "sorted_wilderness_values.head()"
   ]
  },
  {
   "cell_type": "markdown",
   "id": "e814715a-969a-4887-be39-6bdd0f6c56cd",
   "metadata": {},
   "source": [
    "Now create a DataFrame to determine the how many regions of each cover type are in each of the four wilderness areas."
   ]
  },
  {
   "cell_type": "code",
   "execution_count": 11,
   "id": "bfa21a8a-b554-40b6-b1be-831b5f3e84fa",
   "metadata": {},
   "outputs": [
    {
     "data": {
      "text/html": [
       "<div>\n",
       "<style scoped>\n",
       "    .dataframe tbody tr th:only-of-type {\n",
       "        vertical-align: middle;\n",
       "    }\n",
       "\n",
       "    .dataframe tbody tr th {\n",
       "        vertical-align: top;\n",
       "    }\n",
       "\n",
       "    .dataframe thead th {\n",
       "        text-align: right;\n",
       "    }\n",
       "</style>\n",
       "<table border=\"1\" class=\"dataframe\">\n",
       "  <thead>\n",
       "    <tr style=\"text-align: right;\">\n",
       "      <th>Wilderness_Area</th>\n",
       "      <th>Cache la Poudre</th>\n",
       "      <th>Comanche Peak</th>\n",
       "      <th>Neota</th>\n",
       "      <th>Rawah</th>\n",
       "    </tr>\n",
       "    <tr>\n",
       "      <th>Cover_Type</th>\n",
       "      <th></th>\n",
       "      <th></th>\n",
       "      <th></th>\n",
       "      <th></th>\n",
       "    </tr>\n",
       "  </thead>\n",
       "  <tbody>\n",
       "    <tr>\n",
       "      <th>1</th>\n",
       "      <td>0</td>\n",
       "      <td>917</td>\n",
       "      <td>181</td>\n",
       "      <td>1062</td>\n",
       "    </tr>\n",
       "    <tr>\n",
       "      <th>2</th>\n",
       "      <td>20</td>\n",
       "      <td>940</td>\n",
       "      <td>66</td>\n",
       "      <td>1134</td>\n",
       "    </tr>\n",
       "    <tr>\n",
       "      <th>3</th>\n",
       "      <td>1297</td>\n",
       "      <td>863</td>\n",
       "      <td>0</td>\n",
       "      <td>0</td>\n",
       "    </tr>\n",
       "    <tr>\n",
       "      <th>4</th>\n",
       "      <td>2160</td>\n",
       "      <td>0</td>\n",
       "      <td>0</td>\n",
       "      <td>0</td>\n",
       "    </tr>\n",
       "    <tr>\n",
       "      <th>5</th>\n",
       "      <td>0</td>\n",
       "      <td>1304</td>\n",
       "      <td>0</td>\n",
       "      <td>856</td>\n",
       "    </tr>\n",
       "    <tr>\n",
       "      <th>6</th>\n",
       "      <td>1198</td>\n",
       "      <td>962</td>\n",
       "      <td>0</td>\n",
       "      <td>0</td>\n",
       "    </tr>\n",
       "    <tr>\n",
       "      <th>7</th>\n",
       "      <td>0</td>\n",
       "      <td>1363</td>\n",
       "      <td>252</td>\n",
       "      <td>545</td>\n",
       "    </tr>\n",
       "  </tbody>\n",
       "</table>\n",
       "</div>"
      ],
      "text/plain": [
       "Wilderness_Area  Cache la Poudre  Comanche Peak  Neota  Rawah\n",
       "Cover_Type                                                   \n",
       "1                              0            917    181   1062\n",
       "2                             20            940     66   1134\n",
       "3                           1297            863      0      0\n",
       "4                           2160              0      0      0\n",
       "5                              0           1304      0    856\n",
       "6                           1198            962      0      0\n",
       "7                              0           1363    252    545"
      ]
     },
     "execution_count": 11,
     "metadata": {},
     "output_type": "execute_result"
    }
   ],
   "source": [
    "# Use pd.crosstab() to count the number of regions of each cover type that are in each of the four wilderness areas.\n",
    "# Pass this function the Cover_Type column as its first argument and the Wilderness_Area column as the second\n",
    "# argument. Store the results in a DataFrame named ct_by_wa\n",
    "ct_by_wa = pd.crosstab(fc.loc[:, 'Cover_Type'], fc.loc[:, 'Wilderness_Area'])\n",
    "\n",
    "# and then display this DataFrame.\n",
    "ct_by_wa.head(10)"
   ]
  },
  {
   "cell_type": "markdown",
   "id": "c31f3443-1849-4928-9742-8066e0aa405f",
   "metadata": {},
   "source": [
    "Now visually represent the information in the above DataFrame, in the form of a stacked bar chart."
   ]
  },
  {
   "cell_type": "code",
   "execution_count": 18,
   "id": "63f36319-652c-4263-bd16-5e788c94ff6c",
   "metadata": {},
   "outputs": [
    {
     "data": {
      "image/png": "[encoded data removed]",
      "text/plain": [
       "<Figure size 800x400 with 1 Axes>"
      ]
     },
     "metadata": {},
     "output_type": "display_data"
    }
   ],
   "source": [
    "# Start by converting the count information into proportions. Create a DataFrame named ct_by_wa_props by\n",
    "# dividing ct_by_wa by the column sums of ct_by_wa. \n",
    "cyl_sums = ct_by_wa.sum()\n",
    "ct_by_wa_props = ct_by_wa / cyl_sums\n",
    "\n",
    "# We will be creating a stacked bar chart, so we need to know where the bottom of each bar should be located.\n",
    "# This can be calculated as follow: \n",
    "bb = np.cumsum(ct_by_wa_props) - ct_by_wa_props\n",
    "# Create a Matplotlib figure, setting the figure size to [8, 4].\n",
    "plt.figure(figsize=[8,4])\n",
    "\n",
    "# Loop over the rows of ct_by_wa_props. Each time this loop executes, add a bar chart to the figure\n",
    "for i in range(0, len(ct_by_wa.iloc[:,0])):\n",
    "    # The height of the bars should be determined by the current row of ct_by_wa_props.\n",
    "    bar_height = ct_by_wa_props.iloc[i, :]\n",
    "    # The bottom position of each bar should be determined by the current row of bb.\n",
    "    bar_bottom = bb.iloc[i]\n",
    "    # Each bar should have a black border, and a fill color determined by the current value of palette.\n",
    "    color = palette[i]\n",
    "    # The label for the legend should be set to the value of Cover_Type associated with the current row.\n",
    "    label = ct_by_wa.index[i]\n",
    "    plt.bar(x=ct_by_wa.columns, height=bar_height, color=color, edgecolor='black', bottom=bar_bottom, label=label)\n",
    "\n",
    "    \n",
    "# Set the labels for the x and y axes to be \"Wilderness Area\" and \"Proportion\". \n",
    "plt.xlabel('Wilderness Area')\n",
    "plt.ylabel('Proportion')\n",
    "\n",
    "# Set the title to be \"Distribution of Cover Type by Wilderness Area\"\n",
    "plt.title('Distribution of Cover Type by Wilderness Area')\n",
    "\n",
    "# Add a legend to the plot. \n",
    "plt.legend()\n",
    "\n",
    "# Set the bbox_to_anchor parameter to place the legend to the right of the plot, near the top.\n",
    "plt.legend(bbox_to_anchor=(1, 1))\n",
    "\n",
    "# Display the figure using plt.show().\n",
    "plt.show()"
   ]
  },
  {
   "cell_type": "code",
   "execution_count": null,
   "id": "c6bf099f-0eea-4601-82aa-9af7579eb7cd",
   "metadata": {},
   "outputs": [],
   "source": []
  },
  {
   "cell_type": "code",
   "execution_count": null,
   "id": "9d3964cc-40b8-40c5-ade9-0aa6b741397b",
   "metadata": {},
   "outputs": [],
   "source": []
  },
  {
   "cell_type": "code",
   "execution_count": null,
   "id": "3943f7d0-0a66-44fc-b880-552b3cb6c05f",
   "metadata": {},
   "outputs": [],
   "source": []
  },
  {
   "cell_type": "code",
   "execution_count": null,
   "id": "45c555ff-16c1-49df-af99-9459aeff246b",
   "metadata": {},
   "outputs": [],
   "source": []
  },
  {
   "cell_type": "code",
   "execution_count": null,
   "id": "931535f8-7c62-4e1a-9699-94a0f752bcfe",
   "metadata": {},
   "outputs": [],
   "source": []
  },
  {
   "cell_type": "code",
   "execution_count": null,
   "id": "e58e0de1-fd05-4e2d-ae43-6fd2cca3ce33",
   "metadata": {},
   "outputs": [],
   "source": []
  },
  {
   "cell_type": "code",
   "execution_count": null,
   "id": "8b130e76-2829-4ca0-9080-c949930b749d",
   "metadata": {},
   "outputs": [],
   "source": []
  },
  {
   "cell_type": "code",
   "execution_count": null,
   "id": "2a163cac-bd02-4450-89e9-3017ba89935c",
   "metadata": {},
   "outputs": [],
   "source": []
  },
  {
   "cell_type": "code",
   "execution_count": null,
   "id": "0bd913db-1ada-4412-a903-315b091b9b03",
   "metadata": {},
   "outputs": [],
   "source": []
  },
  {
   "cell_type": "code",
   "execution_count": null,
   "id": "b5c4570f-6334-453b-803c-c0dca5b33ea3",
   "metadata": {},
   "outputs": [],
   "source": []
  },
  {
   "cell_type": "code",
   "execution_count": null,
   "id": "eeadcad8-af1b-4422-9a1e-180f0dfdff16",
   "metadata": {},
   "outputs": [],
   "source": []
  },
  {
   "cell_type": "code",
   "execution_count": null,
   "id": "efd1e934-10d0-478a-9b80-4ff011c77652",
   "metadata": {},
   "outputs": [],
   "source": []
  },
  {
   "cell_type": "code",
   "execution_count": null,
   "id": "5d26d917-11f5-4333-b19b-a5b2f0f45444",
   "metadata": {},
   "outputs": [],
   "source": []
  },
  {
   "cell_type": "code",
   "execution_count": null,
   "id": "185ced79-847a-4c9e-998c-c51ce6f1f9b6",
   "metadata": {},
   "outputs": [],
   "source": []
  },
  {
   "cell_type": "code",
   "execution_count": null,
   "id": "f0394a92-86b4-42e1-a6d5-6461c235ed67",
   "metadata": {},
   "outputs": [],
   "source": []
  },
  {
   "cell_type": "code",
   "execution_count": null,
   "id": "6c2389a2-5417-4115-925a-21cd2f6e17c6",
   "metadata": {},
   "outputs": [],
   "source": []
  },
  {
   "cell_type": "code",
   "execution_count": null,
   "id": "f8be51e3-d5a9-48d1-ab6f-cf51c8a93ab6",
   "metadata": {},
   "outputs": [],
   "source": []
  },
  {
   "cell_type": "code",
   "execution_count": null,
   "id": "eea872f9-4702-4f94-858d-34d8a7440050",
   "metadata": {},
   "outputs": [],
   "source": []
  },
  {
   "cell_type": "code",
   "execution_count": null,
   "id": "cb8e93e0-50a0-425c-88c9-41a03eda3193",
   "metadata": {},
   "outputs": [],
   "source": []
  },
  {
   "cell_type": "code",
   "execution_count": null,
   "id": "464839f3-0607-4e55-831b-6af2838dcfce",
   "metadata": {},
   "outputs": [],
   "source": []
  },
  {
   "cell_type": "code",
   "execution_count": null,
   "id": "aec4b212-db7d-441b-93ac-ce7e8b8872c2",
   "metadata": {},
   "outputs": [],
   "source": []
  },
  {
   "cell_type": "code",
   "execution_count": null,
   "id": "dc541144-250a-45ce-8561-701f363de849",
   "metadata": {},
   "outputs": [],
   "source": []
  },
  {
   "cell_type": "code",
   "execution_count": null,
   "id": "b9187ccb-fda8-45b2-ba6a-6300ab11426d",
   "metadata": {},
   "outputs": [],
   "source": []
  },
  {
   "cell_type": "code",
   "execution_count": null,
   "id": "e2a77e15-9634-460a-a078-83ccc22b9563",
   "metadata": {},
   "outputs": [],
   "source": []
  },
  {
   "cell_type": "code",
   "execution_count": null,
   "id": "26f72459-3619-40a6-a0f5-6d8570acb2b4",
   "metadata": {},
   "outputs": [],
   "source": []
  },
  {
   "cell_type": "code",
   "execution_count": null,
   "id": "8a8d0193-b3c0-4ec8-9876-087e5a4f5508",
   "metadata": {},
   "outputs": [],
   "source": []
  },
  {
   "cell_type": "code",
   "execution_count": null,
   "id": "84e36041-bf31-465c-8c0a-2607cfa4b39a",
   "metadata": {},
   "outputs": [],
   "source": []
  },
  {
   "cell_type": "code",
   "execution_count": null,
   "id": "3f420246-70d1-40df-a863-3ee8fe9182f1",
   "metadata": {},
   "outputs": [],
   "source": []
  },
  {
   "cell_type": "code",
   "execution_count": null,
   "id": "c3a69161-cccc-4620-9cb4-7be7b726e68b",
   "metadata": {},
   "outputs": [],
   "source": []
  },
  {
   "cell_type": "code",
   "execution_count": null,
   "id": "0e087111-a34a-4eea-83b1-d3b5c45f4cf4",
   "metadata": {},
   "outputs": [],
   "source": []
  }
 ],
 "metadata": {
  "kernelspec": {
   "display_name": "Python 3 (ipykernel)",
   "language": "python",
   "name": "python3"
  },
  "language_info": {
   "codemirror_mode": {
    "name": "ipython",
    "version": 3
   },
   "file_extension": ".py",
   "mimetype": "text/x-python",
   "name": "python",
   "nbconvert_exporter": "python",
   "pygments_lexer": "ipython3",
   "version": "3.13.5"
  }
 },
 "nbformat": 4,
 "nbformat_minor": 5
}
